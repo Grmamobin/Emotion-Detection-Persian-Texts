{
  "cells": [
    {
      "cell_type": "markdown",
      "id": "b1fe4694",
      "metadata": {
        "id": "b1fe4694"
      },
      "source": [
        "# Emotion Detection"
      ]
    },
    {
      "cell_type": "markdown",
      "id": "d8826125",
      "metadata": {
        "id": "d8826125"
      },
      "source": [
        "## Import libraries"
      ]
    },
    {
      "cell_type": "code",
      "execution_count": 76,
      "id": "45e086a1",
      "metadata": {
        "colab": {
          "background_save": true
        },
        "id": "45e086a1"
      },
      "outputs": [],
      "source": [
        "import numpy as np\n",
        "import pandas as pd\n",
        "import matplotlib.pyplot as plt\n",
        "import seaborn as sns\n",
        "from nltk.corpus import stopwords\n",
        "from sklearn.tree import DecisionTreeClassifier\n",
        "import nltk\n",
        "from sklearn.svm import SVC\n",
        "from sklearn.ensemble import RandomForestClassifier\n",
        "from lime import lime_text\n",
        "from lime.lime_text import LimeTextExplainer\n",
        "from lime.lime_text import IndexedString,IndexedCharacters\n",
        "from lime.lime_base import LimeBase\n",
        "from lime.lime_text import explanation\n",
        "\n",
        "\n",
        "\n",
        "\n",
        "import re\n",
        "import nltk\n",
        "import string\n",
        "import numpy as np\n",
        "import pandas as pd\n",
        "import seaborn as sns\n",
        "import matplotlib.pyplot as plt\n",
        "from nltk.corpus import stopwords\n",
        "from nltk.stem import SnowballStemmer, WordNetLemmatizer\n",
        "from sklearn.feature_extraction.text import TfidfVectorizer\n",
        "\n",
        "from sklearn.preprocessing import LabelEncoder\n",
        "from sklearn.model_selection import train_test_split\n",
        "\n",
        "from tensorflow.keras.utils import to_categorical\n",
        "from tensorflow.keras.preprocessing.text import Tokenizer\n",
        "from tensorflow.keras.preprocessing.sequence import pad_sequences\n",
        "\n",
        "from tensorflow.keras.optimizers import Adam\n",
        "from tensorflow.keras.models import Sequential\n",
        "from tensorflow.keras.callbacks import EarlyStopping\n",
        "from tensorflow.keras.layers import Dense, LSTM, Embedding, Bidirectional\n",
        "\n",
        "#nltk.download(\"stopwords\")\n",
        "# stop_words = set(stopwords.words(\"english\"))\n",
        "# lemmatizer= WordNetLemmatizer()\n",
        "\n",
        "# Modelling\n",
        "from sklearn.model_selection import train_test_split,KFold, GridSearchCV\n",
        "from sklearn.ensemble import RandomForestClassifier\n",
        "from sklearn.linear_model import LogisticRegression\n",
        "from sklearn.tree import DecisionTreeClassifier\n",
        "from sklearn.ensemble import RandomForestClassifier\n",
        "from sklearn.metrics import accuracy_score,confusion_matrix, classification_report\n",
        "from sklearn.pipeline import Pipeline\n",
        "from sklearn.metrics import f1_score\n",
        "from sklearn.svm import SVC\n",
        "\n",
        "#Lime\n",
        "from lime import lime_text\n",
        "from lime.lime_text import LimeTextExplainer\n",
        "from lime.lime_text import IndexedString,IndexedCharacters\n",
        "from lime.lime_base import LimeBase\n",
        "from lime.lime_text import explanation"
      ]
    },
    {
      "cell_type": "code",
      "execution_count": 89,
      "id": "d3490920",
      "metadata": {},
      "outputs": [
        {
          "data": {
            "application/vnd.microsoft.datawrangler.viewer.v0+json": {
              "columns": [
                {
                  "name": "index",
                  "rawType": "int64",
                  "type": "integer"
                },
                {
                  "name": "Text",
                  "rawType": "object",
                  "type": "string"
                },
                {
                  "name": "Emotion",
                  "rawType": "object",
                  "type": "string"
                }
              ],
              "ref": "67e782bf-a8c7-43b6-a3eb-4bb762d7d8f8",
              "rows": [
                [
                  "0",
                  "کی گفته مرد گریه نمیکنه!؟!؟ سیلم امشب سیل #اصفهان",
                  "SAD"
                ],
                [
                  "1",
                  "عکسی که چند روز پیش گذاشته بودم این فیلم الانشه... وسط کوه ها... لابه لای مه... #تبریز ",
                  "OTHER"
                ],
                [
                  "2",
                  "تنهاییم شبیه تنهاییه ظهرای بچگیم شده وقتی که همه مي خوابيدن و من خوابم نمي برد، آدما بودن اما نبودن",
                  "SAD"
                ],
                [
                  "3",
                  "خوبه تمام قسمت‌های گوشی رو محافظت می‌کنه",
                  "HAPPY"
                ],
                [
                  "4",
                  "این خاک مال مردمان است نه حاکمان #ایران #مهسا_امینی",
                  "ANGRY"
                ],
                [
                  "5",
                  "اگه تو بغلت بودم حالم خیلی بهتر میشد",
                  "SAD"
                ],
                [
                  "6",
                  "آخوند داره خدا خدا میکنه که باز کرونا بیاد اونا از دست مردم نجاتشون بده.",
                  "OTHER"
                ],
                [
                  "7",
                  "۲/ماموران شرکت گاز رفع نقص و مجددا گاز مشترکان وصل شد.",
                  "OTHER"
                ],
                [
                  "8",
                  "اصلا نخرید بعد از چند هفته استفاده از کار افتاد",
                  "ANGRY"
                ],
                [
                  "9",
                  "متاسفانه اصلی ترین ایرادش نسخه قدیمی بلوتوث هستش",
                  "ANGRY"
                ],
                [
                  "10",
                  " تو کافر دل نمیبندی نقاب زلف و میترسم که محرابم بگرداند خم آن دل ستان ابرو",
                  "FEAR"
                ],
                [
                  "11",
                  "برعکس همه گربه ها همیشه عاشق بیرونه-.-",
                  "HAPPY"
                ],
                [
                  "12",
                  " گر سیل عالم پُر شود، هر موج چون اشتر شود مرغان آبی را چه غم، تا غم خورد مرغ هوا!",
                  "SAD"
                ],
                [
                  "13",
                  " الاغ اندازه تو شعور داشت الان پروفسور بود",
                  "ANGRY"
                ],
                [
                  "14",
                  "تعطیلی پمپ‌های گاز و جایگاه‌های CNG در #شیراز. ۲۵ دی ۱۴۰۱ ?? ",
                  "OTHER"
                ],
                [
                  "15",
                  "میگم خوبه که داعش وجود نداره؟! ",
                  "OTHER"
                ],
                [
                  "16",
                  " شرکت ما حتی تو اوج کرونا تعطیل نشد.. هروقت نونوایی‌ها تعطیل بشن ما هم تعطیل میشیم",
                  "ANGRY"
                ],
                [
                  "17",
                  "تنها خوبی کمبود گاز این بود که امتحانا به تعویق افتاد",
                  "HAPPY"
                ],
                [
                  "18",
                  "ایران من ای جان من- #مهسا_امینی ",
                  "HAPPY"
                ],
                [
                  "19",
                  "#2022NewYear امیدوارم برای دنیا روزهای خوبی باشه",
                  "HAPPY"
                ],
                [
                  "20",
                  "#آلارم_زلزله نیومد ولی تکذیبش اومد. هر چی که جمهوری اسلامی تکذیب می‌کنه، تاییده دیگه",
                  "FEAR"
                ],
                [
                  "21",
                  "شیطونها، زلزله قابل پیش‌بینی بود و تا حالا به ما نگفتید؟!",
                  "OTHER"
                ],
                [
                  "22",
                  "اگر یک دختر ۱۲ ساله بودی و تولدت بود دوست داشتی چی هدیه بگیری؟",
                  "OTHER"
                ],
                [
                  "23",
                  "نگران ورود تانک های غربی به اوکراین هستم. نیروهای اوکراینی تجربه تانک غربی رو ندارند. ",
                  "FEAR"
                ],
                [
                  "24",
                  "ائتلاف با اتحاد تفاوت داره. افراد با هم متحد می‌شوند. گروه‌ها و احزاب با هم ائتلاف میکنند. ? ",
                  "OTHER"
                ],
                [
                  "25",
                  "پام درده کمرم درده گوشام سوت میکشه چشمام تار میبینه معدمم میسوزه فک کنم دگ دارم میمیرم",
                  "SAD"
                ],
                [
                  "26",
                  "رنگش زیتونی کدره\nاصلا راضی نبودم",
                  "ANGRY"
                ],
                [
                  "27",
                  " می‌ترسم تکرار سلطنت باعث تکرار استبداد بشه! و این همه رنج تهی از نتیجه شه.",
                  "FEAR"
                ],
                [
                  "28",
                  "واسه خونه هایی که نورش کم هست عالیه",
                  "HAPPY"
                ],
                [
                  "29",
                  "از نظر هم نشینی رنگ ها کنار هم مناسب است",
                  "HAPPY"
                ],
                [
                  "30",
                  "خرید این محصول را پیشنهاد نمی کنم.",
                  "ANGRY"
                ],
                [
                  "31",
                  "من تماس تلفنی و تصویری رو دوست ندارم مگه اینکه ما بهترین دوستای هم باشیم یا دوست داشته باشم",
                  "OTHER"
                ],
                [
                  "32",
                  "جای کارت ملی کارت بانکی نبردی سر جلسه کنکور عاشقی یادت بره ??",
                  "SAD"
                ],
                [
                  "33",
                  "زمان چرخشش خیلی خوبه برای من 4/5 دقیقه می چرخه",
                  "HAPPY"
                ],
                [
                  "34",
                  "Fact:پسرا عاشق دخترای هول و لوس میشن",
                  "OTHER"
                ],
                [
                  "35",
                  "این گوشیو یک هفته هست که خریدم و خیلی راضی ام.",
                  "HAPPY"
                ],
                [
                  "36",
                  "یادآوری نکات میدانی : مطالعه میکنین که؟؟ #مهسا_امینی #اعتصابات_سراسری ",
                  "OTHER"
                ],
                [
                  "37",
                  "با کلی ایده اومدم توییت بزنم ولی متاسفانه پروسه ی وصل شدن وی پی انم اون رو از یادم برد",
                  "SAD"
                ],
                [
                  "38",
                  "بعد حدود سه ماه استفاده واقعا میتونم بگم عالیه",
                  "HAPPY"
                ],
                [
                  "39",
                  " گاز رو متاسفانه به اون هموطن حاشیه نشین و استانهای مرزی هم نمیدن. میفرستن واسه اون دوستان مفتخور",
                  "SAD"
                ],
                [
                  "40",
                  " حکایت خوردن زمین و تا خونه سینه خیر رفتنه‌.",
                  "OTHER"
                ],
                [
                  "41",
                  "بوی غیر قابل تحمل داری و اصلا موبری نداره",
                  "ANGRY"
                ],
                [
                  "42",
                  "ترکیبی با آینه معمولی نصب کنید قشنگ میشه",
                  "HAPPY"
                ],
                [
                  "43",
                  "و بلخره این ویروس منحوس توی بدن من هم گرفتار شد… لعنت به مریضی حقیقتاً",
                  "ANGRY"
                ],
                [
                  "44",
                  "سال ۲۰۲۲ میلادی امیدوارم پیام آور خوبی ها به زندگی باشه",
                  "HAPPY"
                ],
                [
                  "45",
                  "سطح دغدغه رو ببین‌ تروخدا? خوشبحالتون ",
                  "ANGRY"
                ],
                [
                  "46",
                  "دوست دارید کدام را اول بشنوید؟ چرا؟",
                  "OTHER"
                ],
                [
                  "47",
                  "همه چیز تمومه 4 ماهه که دارمش ازش خیلی راضیم",
                  "HAPPY"
                ],
                [
                  "48",
                  "من این مدل رو دارم برا مصرف خونگی خوبه و راضیم",
                  "HAPPY"
                ],
                [
                  "49",
                  "این بار که میای ، بارونو بیار .. ?‍♂️ #اعتصابات_سراسری #مهسا_امینی",
                  "SAD"
                ]
              ],
              "shape": {
                "columns": 2,
                "rows": 4924
              }
            },
            "text/html": [
              "<div>\n",
              "<style scoped>\n",
              "    .dataframe tbody tr th:only-of-type {\n",
              "        vertical-align: middle;\n",
              "    }\n",
              "\n",
              "    .dataframe tbody tr th {\n",
              "        vertical-align: top;\n",
              "    }\n",
              "\n",
              "    .dataframe thead th {\n",
              "        text-align: right;\n",
              "    }\n",
              "</style>\n",
              "<table border=\"1\" class=\"dataframe\">\n",
              "  <thead>\n",
              "    <tr style=\"text-align: right;\">\n",
              "      <th></th>\n",
              "      <th>Text</th>\n",
              "      <th>Emotion</th>\n",
              "    </tr>\n",
              "  </thead>\n",
              "  <tbody>\n",
              "    <tr>\n",
              "      <th>0</th>\n",
              "      <td>کی گفته مرد گریه نمیکنه!؟!؟ سیلم امشب سیل #اصفهان</td>\n",
              "      <td>SAD</td>\n",
              "    </tr>\n",
              "    <tr>\n",
              "      <th>1</th>\n",
              "      <td>عکسی که چند روز پیش گذاشته بودم این فیلم الانش...</td>\n",
              "      <td>OTHER</td>\n",
              "    </tr>\n",
              "    <tr>\n",
              "      <th>2</th>\n",
              "      <td>تنهاییم شبیه تنهاییه ظهرای بچگیم شده وقتی که ه...</td>\n",
              "      <td>SAD</td>\n",
              "    </tr>\n",
              "    <tr>\n",
              "      <th>3</th>\n",
              "      <td>خوبه تمام قسمت‌های گوشی رو محافظت می‌کنه</td>\n",
              "      <td>HAPPY</td>\n",
              "    </tr>\n",
              "    <tr>\n",
              "      <th>4</th>\n",
              "      <td>این خاک مال مردمان است نه حاکمان #ایران #مهسا_...</td>\n",
              "      <td>ANGRY</td>\n",
              "    </tr>\n",
              "    <tr>\n",
              "      <th>...</th>\n",
              "      <td>...</td>\n",
              "      <td>...</td>\n",
              "    </tr>\n",
              "    <tr>\n",
              "      <th>4919</th>\n",
              "      <td>من از بو و ماندگاریش راضی بودم ، قیمتش هم‌ مناسبه</td>\n",
              "      <td>HAPPY</td>\n",
              "    </tr>\n",
              "    <tr>\n",
              "      <th>4920</th>\n",
              "      <td>گاز نداریم آب نداریم برق نداریم نت نداریم پول ...</td>\n",
              "      <td>SAD</td>\n",
              "    </tr>\n",
              "    <tr>\n",
              "      <th>4921</th>\n",
              "      <td>یکی بهم گفت برنو چرا عاشق نمیشی گفتم ما پول عا...</td>\n",
              "      <td>SAD</td>\n",
              "    </tr>\n",
              "    <tr>\n",
              "      <th>4922</th>\n",
              "      <td>زیادی داریم به قضیه ی گاز میپردازیم فقط فراخوا...</td>\n",
              "      <td>OTHER</td>\n",
              "    </tr>\n",
              "    <tr>\n",
              "      <th>4923</th>\n",
              "      <td>سلام. خیلی مواظبت کنید این ویروس کوفتی رو‌ نگی...</td>\n",
              "      <td>SAD</td>\n",
              "    </tr>\n",
              "  </tbody>\n",
              "</table>\n",
              "<p>4924 rows × 2 columns</p>\n",
              "</div>"
            ],
            "text/plain": [
              "                                                   Text Emotion\n",
              "0     کی گفته مرد گریه نمیکنه!؟!؟ سیلم امشب سیل #اصفهان     SAD\n",
              "1     عکسی که چند روز پیش گذاشته بودم این فیلم الانش...   OTHER\n",
              "2     تنهاییم شبیه تنهاییه ظهرای بچگیم شده وقتی که ه...     SAD\n",
              "3              خوبه تمام قسمت‌های گوشی رو محافظت می‌کنه   HAPPY\n",
              "4     این خاک مال مردمان است نه حاکمان #ایران #مهسا_...   ANGRY\n",
              "...                                                 ...     ...\n",
              "4919  من از بو و ماندگاریش راضی بودم ، قیمتش هم‌ مناسبه   HAPPY\n",
              "4920  گاز نداریم آب نداریم برق نداریم نت نداریم پول ...     SAD\n",
              "4921  یکی بهم گفت برنو چرا عاشق نمیشی گفتم ما پول عا...     SAD\n",
              "4922  زیادی داریم به قضیه ی گاز میپردازیم فقط فراخوا...   OTHER\n",
              "4923  سلام. خیلی مواظبت کنید این ویروس کوفتی رو‌ نگی...     SAD\n",
              "\n",
              "[4924 rows x 2 columns]"
            ]
          },
          "execution_count": 89,
          "metadata": {},
          "output_type": "execute_result"
        }
      ],
      "source": [
        "column_names = ['Text', 'Emotion']\n",
        "\n",
        "train_data = pd.read_csv(\"train_data.csv\")\n",
        "test_data = pd.read_csv(\"test.tsv\", delimiter='\\t', header=None, names=column_names, quotechar='\"')\n",
        "# train_data.drop(0, inplace=True)\n",
        "\n",
        "train_data"
      ]
    },
    {
      "cell_type": "code",
      "execution_count": 90,
      "id": "8c5d439f",
      "metadata": {
        "colab": {
          "background_save": true
        },
        "id": "8c5d439f"
      },
      "outputs": [
        {
          "name": "stdout",
          "output_type": "stream",
          "text": [
            "(4924, 2)\n",
            "(1151, 2)\n"
          ]
        }
      ],
      "source": [
        "print(train_data.shape)\n",
        "print(test_data.shape)"
      ]
    },
    {
      "cell_type": "code",
      "execution_count": 97,
      "id": "c6d24438",
      "metadata": {},
      "outputs": [
        {
          "data": {
            "text/plain": [
              "<bound method DataFrame.info of                                                    Text Emotion\n",
              "0     کی گفته مرد گریه نمیکنه!؟!؟ سیلم امشب سیل #اصفهان     SAD\n",
              "1     عکسی که چند روز پیش گذاشته بودم این فیلم الانش...   OTHER\n",
              "2     تنهاییم شبیه تنهاییه ظهرای بچگیم شده وقتی که ه...     SAD\n",
              "3              خوبه تمام قسمت‌های گوشی رو محافظت می‌کنه   HAPPY\n",
              "4     این خاک مال مردمان است نه حاکمان #ایران #مهسا_...   ANGRY\n",
              "...                                                 ...     ...\n",
              "4919  من از بو و ماندگاریش راضی بودم ، قیمتش هم‌ مناسبه   HAPPY\n",
              "4920  گاز نداریم آب نداریم برق نداریم نت نداریم پول ...     SAD\n",
              "4921  یکی بهم گفت برنو چرا عاشق نمیشی گفتم ما پول عا...     SAD\n",
              "4922  زیادی داریم به قضیه ی گاز میپردازیم فقط فراخوا...   OTHER\n",
              "4923  سلام. خیلی مواظبت کنید این ویروس کوفتی رو‌ نگی...     SAD\n",
              "\n",
              "[4924 rows x 2 columns]>"
            ]
          },
          "execution_count": 97,
          "metadata": {},
          "output_type": "execute_result"
        }
      ],
      "source": [
        "train_data.info"
      ]
    },
    {
      "cell_type": "code",
      "execution_count": 98,
      "id": "7ec07028",
      "metadata": {},
      "outputs": [
        {
          "data": {
            "application/vnd.microsoft.datawrangler.viewer.v0+json": {
              "columns": [
                {
                  "name": "index",
                  "rawType": "object",
                  "type": "string"
                },
                {
                  "name": "Text",
                  "rawType": "object",
                  "type": "unknown"
                },
                {
                  "name": "Emotion",
                  "rawType": "object",
                  "type": "unknown"
                }
              ],
              "ref": "f6fa6fa8-23f6-44b3-8a8d-64a87f2f7219",
              "rows": [
                [
                  "count",
                  "4924",
                  "4924"
                ],
                [
                  "unique",
                  "4924",
                  "5"
                ],
                [
                  "top",
                  "کی گفته مرد گریه نمیکنه!؟!؟ سیلم امشب سیل #اصفهان",
                  "HAPPY"
                ],
                [
                  "freq",
                  "1",
                  "1462"
                ]
              ],
              "shape": {
                "columns": 2,
                "rows": 4
              }
            },
            "text/html": [
              "<div>\n",
              "<style scoped>\n",
              "    .dataframe tbody tr th:only-of-type {\n",
              "        vertical-align: middle;\n",
              "    }\n",
              "\n",
              "    .dataframe tbody tr th {\n",
              "        vertical-align: top;\n",
              "    }\n",
              "\n",
              "    .dataframe thead th {\n",
              "        text-align: right;\n",
              "    }\n",
              "</style>\n",
              "<table border=\"1\" class=\"dataframe\">\n",
              "  <thead>\n",
              "    <tr style=\"text-align: right;\">\n",
              "      <th></th>\n",
              "      <th>Text</th>\n",
              "      <th>Emotion</th>\n",
              "    </tr>\n",
              "  </thead>\n",
              "  <tbody>\n",
              "    <tr>\n",
              "      <th>count</th>\n",
              "      <td>4924</td>\n",
              "      <td>4924</td>\n",
              "    </tr>\n",
              "    <tr>\n",
              "      <th>unique</th>\n",
              "      <td>4924</td>\n",
              "      <td>5</td>\n",
              "    </tr>\n",
              "    <tr>\n",
              "      <th>top</th>\n",
              "      <td>کی گفته مرد گریه نمیکنه!؟!؟ سیلم امشب سیل #اصفهان</td>\n",
              "      <td>HAPPY</td>\n",
              "    </tr>\n",
              "    <tr>\n",
              "      <th>freq</th>\n",
              "      <td>1</td>\n",
              "      <td>1462</td>\n",
              "    </tr>\n",
              "  </tbody>\n",
              "</table>\n",
              "</div>"
            ],
            "text/plain": [
              "                                                     Text Emotion\n",
              "count                                                4924    4924\n",
              "unique                                               4924       5\n",
              "top     کی گفته مرد گریه نمیکنه!؟!؟ سیلم امشب سیل #اصفهان   HAPPY\n",
              "freq                                                    1    1462"
            ]
          },
          "execution_count": 98,
          "metadata": {},
          "output_type": "execute_result"
        }
      ],
      "source": [
        "train_data.describe()"
      ]
    },
    {
      "cell_type": "code",
      "execution_count": 99,
      "id": "70caf685",
      "metadata": {
        "colab": {
          "background_save": true
        },
        "id": "70caf685"
      },
      "outputs": [
        {
          "data": {
            "application/vnd.microsoft.datawrangler.viewer.v0+json": {
              "columns": [
                {
                  "name": "Emotion",
                  "rawType": "object",
                  "type": "string"
                },
                {
                  "name": "count",
                  "rawType": "int64",
                  "type": "integer"
                }
              ],
              "ref": "065900f1-f658-41cb-b674-8f04c1a65f61",
              "rows": [
                [
                  "HAPPY",
                  "1462"
                ],
                [
                  "OTHER",
                  "1263"
                ],
                [
                  "ANGRY",
                  "1012"
                ],
                [
                  "SAD",
                  "845"
                ],
                [
                  "FEAR",
                  "342"
                ]
              ],
              "shape": {
                "columns": 1,
                "rows": 5
              }
            },
            "text/plain": [
              "Emotion\n",
              "HAPPY    1462\n",
              "OTHER    1263\n",
              "ANGRY    1012\n",
              "SAD       845\n",
              "FEAR      342\n",
              "Name: count, dtype: int64"
            ]
          },
          "execution_count": 99,
          "metadata": {},
          "output_type": "execute_result"
        }
      ],
      "source": [
        "# Check the balance\n",
        "train_data.Emotion.value_counts()"
      ]
    },
    {
      "cell_type": "code",
      "execution_count": 92,
      "id": "a56a009f",
      "metadata": {
        "colab": {
          "background_save": true
        },
        "id": "a56a009f"
      },
      "outputs": [
        {
          "data": {
            "image/png": "[encoded data removed]",
            "text/plain": [
              "<Figure size 800x400 with 1 Axes>"
            ]
          },
          "metadata": {},
          "output_type": "display_data"
        }
      ],
      "source": [
        "plt.figure(figsize=(8,4))\n",
        "sns.countplot(x='Emotion', data=train_data);"
      ]
    },
    {
      "cell_type": "code",
      "execution_count": 100,
      "id": "cf7addf0",
      "metadata": {
        "colab": {
          "background_save": true
        },
        "id": "cf7addf0"
      },
      "outputs": [
        {
          "name": "stdout",
          "output_type": "stream",
          "text": [
            "Text       0\n",
            "Emotion    0\n",
            "dtype: int64\n",
            "0\n",
            "(4924, 2)\n"
          ]
        }
      ],
      "source": [
        "# NULL values\n",
        "print(train_data.isnull().sum())\n",
        "print(train_data.duplicated().sum())\n",
        "\n",
        "index = train_data[train_data.duplicated() == True].index\n",
        "train_data.drop(index, axis = 0, inplace = True)\n",
        "train_data.reset_index(inplace=True, drop = True)\n",
        "print(train_data.shape)"
      ]
    },
    {
      "cell_type": "code",
      "execution_count": 101,
      "id": "9d1e8817",
      "metadata": {
        "colab": {
          "background_save": true
        },
        "id": "9d1e8817"
      },
      "outputs": [
        {
          "data": {
            "application/vnd.microsoft.datawrangler.viewer.v0+json": {
              "columns": [
                {
                  "name": "index",
                  "rawType": "int64",
                  "type": "integer"
                },
                {
                  "name": "Text",
                  "rawType": "object",
                  "type": "string"
                },
                {
                  "name": "Emotion",
                  "rawType": "object",
                  "type": "string"
                }
              ],
              "ref": "4ac3b12b-10d9-4b8f-98bc-6dac7e198234",
              "rows": [],
              "shape": {
                "columns": 2,
                "rows": 0
              }
            },
            "text/html": [
              "<div>\n",
              "<style scoped>\n",
              "    .dataframe tbody tr th:only-of-type {\n",
              "        vertical-align: middle;\n",
              "    }\n",
              "\n",
              "    .dataframe tbody tr th {\n",
              "        vertical-align: top;\n",
              "    }\n",
              "\n",
              "    .dataframe thead th {\n",
              "        text-align: right;\n",
              "    }\n",
              "</style>\n",
              "<table border=\"1\" class=\"dataframe\">\n",
              "  <thead>\n",
              "    <tr style=\"text-align: right;\">\n",
              "      <th></th>\n",
              "      <th>Text</th>\n",
              "      <th>Emotion</th>\n",
              "    </tr>\n",
              "  </thead>\n",
              "  <tbody>\n",
              "  </tbody>\n",
              "</table>\n",
              "</div>"
            ],
            "text/plain": [
              "Empty DataFrame\n",
              "Columns: [Text, Emotion]\n",
              "Index: []"
            ]
          },
          "execution_count": 101,
          "metadata": {},
          "output_type": "execute_result"
        }
      ],
      "source": [
        "# print the rows which are duplicated (duplicated in the text but with different emotions)\n",
        "train_data[train_data['Text'].duplicated() == True]"
      ]
    },
    {
      "cell_type": "code",
      "execution_count": 95,
      "id": "c89c913f",
      "metadata": {
        "colab": {
          "background_save": true
        },
        "id": "c89c913f"
      },
      "outputs": [],
      "source": [
        "#removing duplicated text\n",
        "index = train_data[train_data['Text'].duplicated() == True].index\n",
        "train_data.drop(index, axis = 0, inplace = True)\n",
        "train_data.reset_index(inplace=True, drop = True)"
      ]
    },
    {
      "cell_type": "code",
      "execution_count": 96,
      "id": "8cda366c",
      "metadata": {
        "colab": {
          "background_save": true
        },
        "id": "8cda366c"
      },
      "outputs": [
        {
          "name": "stdout",
          "output_type": "stream",
          "text": [
            "stop_words\n",
            "3     1090\n",
            "2      994\n",
            "4      820\n",
            "1      689\n",
            "5      531\n",
            "6      303\n",
            "0      254\n",
            "7      142\n",
            "8       53\n",
            "9       36\n",
            "10       8\n",
            "11       4\n",
            "Name: count, dtype: int64\n"
          ]
        }
      ],
      "source": [
        "# #Count the number of stopwords in the data\n",
        "# persian_stopwords = set([\n",
        "#     'و', 'در', 'به', 'از', 'که', 'را', 'این', 'است', 'با', 'برای', 'آن', 'یک', 'تا',\n",
        "#     'اما', 'می', 'بر', 'نه', 'هم', 'یا', 'من', 'تو', 'او', 'ما', 'شما', 'آنها', 'باشد',\n",
        "#     'خواهد', 'شود', 'کرد', 'کرده'\n",
        "# ])\n",
        "\n",
        "# temp =train_data.copy()\n",
        "# temp['stop_words'] = temp['Text'].apply(\n",
        "#     lambda x: len(set(str(x).split()) & persian_stopwords)\n",
        "# )\n",
        "\n",
        "# print(temp['stop_words'].value_counts())\n",
        "\n",
        "\n",
        "#Count the number of stopwords in the data\n",
        "from hazm import stopwords_list, Normalizer\n",
        "import pandas as pd\n",
        "\n",
        "# Use Hazm's built-in Persian stopwords\n",
        "persian_stopwords = set(stopwords_list())\n",
        "\n",
        "# Optional: normalize text to improve matching\n",
        "normalizer = Normalizer()\n",
        "\n",
        "# Copy original data\n",
        "temp = train_data.copy()\n",
        "\n",
        "# Count number of stopwords in each text row\n",
        "temp['stop_words'] = temp['Text'].apply(\n",
        "    lambda x: len(set(normalizer.normalize(str(x)).split()) & persian_stopwords)\n",
        ")\n",
        "\n",
        "# Display frequency counts\n",
        "print(temp['stop_words'].value_counts())"
      ]
    },
    {
      "cell_type": "code",
      "execution_count": null,
      "id": "461da1e1",
      "metadata": {
        "colab": {
          "background_save": true
        },
        "id": "461da1e1"
      },
      "outputs": [
        {
          "data": {
            "text/plain": [
              "<Axes: ylabel='Frequency'>"
            ]
          },
          "execution_count": 74,
          "metadata": {},
          "output_type": "execute_result"
        },
        {
          "data": {
            "image/png": "[encoded data removed]",
            "text/plain": [
              "<Figure size 640x480 with 1 Axes>"
            ]
          },
          "metadata": {},
          "output_type": "display_data"
        }
      ],
      "source": [
        "#distribution of stopwords visually\n",
        "temp['stop_words'].plot(kind= 'hist')"
      ]
    },
    {
      "cell_type": "code",
      "execution_count": null,
      "id": "b2951703",
      "metadata": {
        "colab": {
          "background_save": true
        },
        "id": "b2951703"
      },
      "outputs": [
        {
          "ename": "AttributeError",
          "evalue": "'DataFrame' object has no attribute 'Emotion'",
          "output_type": "error",
          "traceback": [
            "\u001b[0;31m---------------------------------------------------------------------------\u001b[0m",
            "\u001b[0;31mAttributeError\u001b[0m                            Traceback (most recent call last)",
            "\u001b[0;32m/var/folders/vs/t6hclhb524l53jbbc2n222640000gn/T/ipykernel_87337/851276295.py\u001b[0m in \u001b[0;36m?\u001b[0;34m()\u001b[0m\n\u001b[1;32m      1\u001b[0m \u001b[0;31m#check if the data is balanced or not\u001b[0m\u001b[0;34m\u001b[0m\u001b[0;34m\u001b[0m\u001b[0m\n\u001b[0;32m----> 2\u001b[0;31m \u001b[0mtest_data\u001b[0m\u001b[0;34m.\u001b[0m\u001b[0mEmotion\u001b[0m\u001b[0;34m.\u001b[0m\u001b[0mvalue_counts\u001b[0m\u001b[0;34m(\u001b[0m\u001b[0;34m)\u001b[0m\u001b[0;34m\u001b[0m\u001b[0;34m\u001b[0m\u001b[0m\n\u001b[0m",
            "\u001b[0;32m/Library/Frameworks/Python.framework/Versions/3.10/lib/python3.10/site-packages/pandas/core/generic.py\u001b[0m in \u001b[0;36m?\u001b[0;34m(self, name)\u001b[0m\n\u001b[1;32m   6295\u001b[0m             \u001b[0;32mand\u001b[0m \u001b[0mname\u001b[0m \u001b[0;32mnot\u001b[0m \u001b[0;32min\u001b[0m \u001b[0mself\u001b[0m\u001b[0;34m.\u001b[0m\u001b[0m_accessors\u001b[0m\u001b[0;34m\u001b[0m\u001b[0;34m\u001b[0m\u001b[0m\n\u001b[1;32m   6296\u001b[0m             \u001b[0;32mand\u001b[0m \u001b[0mself\u001b[0m\u001b[0;34m.\u001b[0m\u001b[0m_info_axis\u001b[0m\u001b[0;34m.\u001b[0m\u001b[0m_can_hold_identifiers_and_holds_name\u001b[0m\u001b[0;34m(\u001b[0m\u001b[0mname\u001b[0m\u001b[0;34m)\u001b[0m\u001b[0;34m\u001b[0m\u001b[0;34m\u001b[0m\u001b[0m\n\u001b[1;32m   6297\u001b[0m         ):\n\u001b[1;32m   6298\u001b[0m             \u001b[0;32mreturn\u001b[0m \u001b[0mself\u001b[0m\u001b[0;34m[\u001b[0m\u001b[0mname\u001b[0m\u001b[0;34m]\u001b[0m\u001b[0;34m\u001b[0m\u001b[0;34m\u001b[0m\u001b[0m\n\u001b[0;32m-> 6299\u001b[0;31m         \u001b[0;32mreturn\u001b[0m \u001b[0mobject\u001b[0m\u001b[0;34m.\u001b[0m\u001b[0m__getattribute__\u001b[0m\u001b[0;34m(\u001b[0m\u001b[0mself\u001b[0m\u001b[0;34m,\u001b[0m \u001b[0mname\u001b[0m\u001b[0;34m)\u001b[0m\u001b[0;34m\u001b[0m\u001b[0;34m\u001b[0m\u001b[0m\n\u001b[0m",
            "\u001b[0;31mAttributeError\u001b[0m: 'DataFrame' object has no attribute 'Emotion'"
          ]
        }
      ],
      "source": [
        "#check if the data is balanced or not\n",
        "test_data.Emotion.value_counts()"
      ]
    },
    {
      "cell_type": "code",
      "execution_count": null,
      "id": "58b160f7",
      "metadata": {
        "colab": {
          "background_save": true
        },
        "id": "58b160f7"
      },
      "outputs": [],
      "source": [
        "plt.figure(figsize=(8,4))\n",
        "sns.countplot(x='Emotion', data=test_data);"
      ]
    },
    {
      "cell_type": "code",
      "execution_count": null,
      "id": "b06a09b8",
      "metadata": {
        "colab": {
          "background_save": true
        },
        "id": "b06a09b8"
      },
      "outputs": [],
      "source": [
        "#print the number of null values in each column\n",
        "print(test_data.isnull().sum())\n",
        "#print the number of duplicated values\n",
        "print(test_data.duplicated().sum())"
      ]
    },
    {
      "cell_type": "code",
      "execution_count": null,
      "id": "f2d7c99c",
      "metadata": {
        "colab": {
          "background_save": true
        },
        "id": "f2d7c99c"
      },
      "outputs": [],
      "source": [
        "#print the rows which are duplicated\n",
        "test_data[test_data['Text'].duplicated() == True]"
      ]
    },
    {
      "cell_type": "code",
      "execution_count": null,
      "id": "e0bafb71",
      "metadata": {
        "colab": {
          "background_save": true
        },
        "id": "e0bafb71"
      },
      "outputs": [],
      "source": [
        "temp =test_data.copy()\n",
        "temp['stop_words'] = temp['Text'].apply(\n",
        "    lambda x: len(set(str(x).split()) & persian_stopwords)\n",
        ")\n",
        "\n",
        "print(temp['stop_words'].value_counts())"
      ]
    },
    {
      "cell_type": "code",
      "execution_count": null,
      "id": "1e58343c",
      "metadata": {
        "colab": {
          "background_save": true
        },
        "id": "1e58343c"
      },
      "outputs": [],
      "source": [
        "sns.set(font_scale=1.3)\n",
        "temp['stop_words'].plot(kind= 'hist')"
      ]
    },
    {
      "cell_type": "code",
      "execution_count": null,
      "id": "c187824c",
      "metadata": {
        "colab": {
          "background_save": true
        },
        "id": "c187824c"
      },
      "outputs": [],
      "source": [
        "def dataframe_difference(df1, df2, which=None):\n",
        "    \"\"\"Find rows which are different between two DataFrames.\"\"\"\n",
        "\n",
        "    # Combine the two DataFrames using a merge operation, with the\n",
        "    # indicator parameter set to True. This adds a column called _merge\n",
        "    # to the resulting DataFrame, which indicates the source of each row.\n",
        "    comparison_df = df1.merge(\n",
        "        df2,\n",
        "        indicator=True,\n",
        "        how='outer'\n",
        "    )\n",
        "\n",
        "    # Filter the merged DataFrame based on the value of _merge. If which\n",
        "    # is not specified, return all rows where _merge is not 'both'.\n",
        "    # Otherwise, return all rows where _merge has the specified value\n",
        "    if which is None:\n",
        "        diff_df = comparison_df[comparison_df['_merge'] != 'both']\n",
        "    else:\n",
        "        diff_df = comparison_df[comparison_df['_merge'] == which]\n",
        "\n",
        "    return diff_df"
      ]
    },
    {
      "cell_type": "code",
      "execution_count": null,
      "id": "7993dea4",
      "metadata": {
        "colab": {
          "background_save": true
        },
        "id": "7993dea4"
      },
      "outputs": [],
      "source": [
        "dataframe_difference(train_data, test_data, which='both')"
      ]
    },
    {
      "cell_type": "markdown",
      "id": "cfb0bf69",
      "metadata": {
        "id": "cfb0bf69"
      },
      "source": [
        "## Cleaning"
      ]
    },
    {
      "cell_type": "code",
      "execution_count": null,
      "id": "4f79a699",
      "metadata": {
        "colab": {
          "background_save": true
        },
        "id": "4f79a699"
      },
      "outputs": [],
      "source": [
        "import re\n",
        "import numpy as np\n",
        "\n",
        "# Minimal Persian stopwords list (expand this as needed)\n",
        "# persian_stopwords = set([\n",
        "#     'و', 'در', 'به', 'از', 'که', 'را', 'این', 'است', 'با', 'برای', 'آن', 'یک', 'تا',\n",
        "#     'اما', 'می', 'بر', 'نه', 'هم', 'یا', 'من', 'تو', 'او', 'ما', 'شما', 'آنها', 'باشد',\n",
        "#     'خواهد', 'شود', 'کرد', 'کرده','ولی'\n",
        "# ])\n",
        "\n",
        "def remove_stop_words(text):\n",
        "    words = [i for i in str(text).split() if i not in persian_stopwords]\n",
        "    return \" \".join(words)\n",
        "\n",
        "def Removing_numbers(text):\n",
        "    return ''.join([i for i in text if not i.isdigit()])\n",
        "\n",
        "def lower_case(text):\n",
        "    return \" \".join([y.lower() for y in str(text).split()])\n",
        "\n",
        "def Removing_punctuations(text):\n",
        "    text = re.sub('[%s]' % re.escape(\"\"\"!\"#$%&'()*+,،-./:;<=>؟?@[\\]^_`{|}~\"\"\"), ' ', text)\n",
        "    text = text.replace('؛', '')\n",
        "    text = re.sub('\\s+', ' ', text)  # remove extra whitespace\n",
        "    return text.strip()\n",
        "\n",
        "def Removing_urls(text):\n",
        "    url_pattern = re.compile(r'https?://\\S+|www\\.\\S+')\n",
        "    return url_pattern.sub(r'', text)\n",
        "\n",
        "def remove_small_sentences(df):\n",
        "    df['Text'] = df['Text'].apply(lambda x: np.nan if len(str(x).split()) < 3 else x)\n",
        "\n",
        "def normalize_text(df):\n",
        "    df['Text'] = df['Text'].apply(lower_case)\n",
        "    df['Text'] = df['Text'].apply(remove_stop_words)\n",
        "    df['Text'] = df['Text'].apply(Removing_numbers)\n",
        "    df['Text'] = df['Text'].apply(Removing_punctuations)\n",
        "    df['Text'] = df['Text'].apply(Removing_urls)\n",
        "    return df\n",
        "\n",
        "def normalized_sentence(sentence):\n",
        "    sentence = lower_case(sentence)\n",
        "    sentence = remove_stop_words(sentence)\n",
        "    sentence = Removing_numbers(sentence)\n",
        "    sentence = Removing_punctuations(sentence)\n",
        "    sentence = Removing_urls(sentence)\n",
        "    return sentence\n"
      ]
    },
    {
      "cell_type": "code",
      "execution_count": null,
      "id": "e9420b95",
      "metadata": {
        "colab": {
          "background_save": true
        },
        "id": "e9420b95"
      },
      "outputs": [],
      "source": [
        "train_data= normalize_text(train_data)\n",
        "test_data= normalize_text(test_data)"
      ]
    },
    {
      "cell_type": "markdown",
      "id": "9a7ff932",
      "metadata": {
        "id": "9a7ff932"
      },
      "source": [
        "## Modeling"
      ]
    },
    {
      "cell_type": "code",
      "execution_count": null,
      "id": "10aa877d",
      "metadata": {
        "colab": {
          "background_save": true
        },
        "id": "10aa877d"
      },
      "outputs": [],
      "source": [
        "X_train = train_data['Text'].values\n",
        "y_train = train_data['Emotion'].values\n",
        "\n",
        "X_test = test_data['Text'].values\n",
        "y_test = test_data['Emotion'].values"
      ]
    },
    {
      "cell_type": "code",
      "execution_count": null,
      "id": "93cd4308",
      "metadata": {
        "colab": {
          "background_save": true
        },
        "id": "93cd4308"
      },
      "outputs": [],
      "source": [
        "X_train, X_val, y_train, y_val = train_test_split(\n",
        "    X_train, y_train,\n",
        "    test_size=0.2,\n",
        "    stratify=y_train,\n",
        "    random_state=42\n",
        ")"
      ]
    },
    {
      "cell_type": "code",
      "execution_count": null,
      "id": "a05f7ff4",
      "metadata": {
        "colab": {
          "background_save": true
        },
        "id": "a05f7ff4"
      },
      "outputs": [],
      "source": [
        "# Encode labels\n",
        "le = LabelEncoder()\n",
        "y_train_encoded = le.fit_transform(y_train)\n",
        "y_val_encoded = le.transform(y_val)\n",
        "y_test_encoded = le.transform(y_test)"
      ]
    },
    {
      "cell_type": "code",
      "execution_count": null,
      "id": "298f0def",
      "metadata": {
        "colab": {
          "background_save": true
        },
        "id": "298f0def"
      },
      "outputs": [],
      "source": [
        "# Vectorize training data first\n",
        "from imblearn.over_sampling import SMOTE\n",
        "tfidf = TfidfVectorizer(ngram_range=(1,2), max_df=0.9, min_df=5, max_features=5000)\n",
        "X_train_tfidf = tfidf.fit_transform(X_train)\n",
        "\n",
        "# Apply SMOTE on vectorized data\n",
        "sm = SMOTE(random_state=42)\n",
        "X_train_resampled, y_train_resampled = sm.fit_resample(X_train_tfidf, y_train_encoded)"
      ]
    },
    {
      "cell_type": "code",
      "execution_count": null,
      "id": "a9702efd",
      "metadata": {
        "colab": {
          "background_save": true
        },
        "id": "a9702efd"
      },
      "outputs": [],
      "source": [
        "from sklearn.pipeline import Pipeline\n",
        "from sklearn.feature_extraction.text import TfidfVectorizer\n",
        "def train_model(model, data, targets):\n",
        "    \"\"\"\n",
        "    Train a model on the given data and targets.\n",
        "\n",
        "    Parameters:\n",
        "    model (sklearn model): The model to be trained.\n",
        "    data (list of str): The input data.\n",
        "    targets (list of str): The targets.\n",
        "\n",
        "    Returns:\n",
        "    Pipeline: The trained model as a Pipeline object.\n",
        "    \"\"\"\n",
        "    # Create a Pipeline object with a TfidfVectorizer and the given model\n",
        "    text_clf = Pipeline([\n",
        "        ('clf', model)\n",
        "    ])\n",
        "    text_clf.fit(data, targets)\n",
        "    return text_clf"
      ]
    },
    {
      "cell_type": "code",
      "execution_count": null,
      "id": "31e775bf",
      "metadata": {
        "colab": {
          "background_save": true
        },
        "id": "31e775bf"
      },
      "outputs": [],
      "source": [
        "from sklearn.metrics import f1_score\n",
        "def get_F1(true,pred):\n",
        "    \"\"\"\n",
        "    Get the F1 score for the given model on the given data and targets.\n",
        "\n",
        "    Parameters:\n",
        "    trained_model (sklearn model): The trained model.\n",
        "    X (list of str): The input data.\n",
        "    y (list of str): The targets.\n",
        "\n",
        "    Returns:\n",
        "    array: The F1 score for each class.\n",
        "    \"\"\"\n",
        "    # Calculate the F1 score for the predictions\n",
        "    return f1_score(true, pred, average='weighted')"
      ]
    },
    {
      "cell_type": "code",
      "execution_count": null,
      "id": "84fb61cb",
      "metadata": {
        "colab": {
          "background_save": true
        },
        "id": "84fb61cb"
      },
      "outputs": [],
      "source": [
        "log_reg = train_model(\n",
        "    LogisticRegression(max_iter=1000, solver='liblinear', class_weight='balanced', random_state=0),\n",
        "    X_train_resampled,\n",
        "    y_train_resampled\n",
        ")\n",
        "\n",
        "X_test_tfidf = tfidf.transform(X_test)\n"
      ]
    },
    {
      "cell_type": "code",
      "execution_count": null,
      "id": "7961c44c",
      "metadata": {
        "colab": {
          "background_save": true
        },
        "id": "7961c44c"
      },
      "outputs": [],
      "source": [
        "#test the model with the test data\n",
        "from sklearn.metrics import accuracy_score,confusion_matrix, classification_report\n",
        "y_pred_lr = log_reg.predict(X_test_tfidf)\n",
        "\n",
        "#calculate the accuracy\n",
        "log_reg_accuracy = accuracy_score(y_test_encoded, y_pred_lr)\n",
        "print('Accuracy: ', log_reg_accuracy,'\\n')\n",
        "\n",
        "#calculate the F1 score\n",
        "f1_lr = get_F1(y_test_encoded, y_pred_lr)\n",
        "pd.DataFrame(f1_lr, index=le.classes_, columns=['F1 score'])"
      ]
    },
    {
      "cell_type": "code",
      "execution_count": null,
      "id": "c31ec877",
      "metadata": {
        "colab": {
          "background_save": true
        },
        "id": "c31ec877"
      },
      "outputs": [],
      "source": [
        "print(classification_report(y_test_encoded, y_pred_lr, target_names=le.classes_))"
      ]
    },
    {
      "cell_type": "code",
      "execution_count": null,
      "id": "f5f32625",
      "metadata": {
        "colab": {
          "background_save": true
        },
        "id": "f5f32625"
      },
      "outputs": [],
      "source": [
        "#Train the model with the training data\n",
        "X_train_tfidf_orig = tfidf.transform(X_train)\n",
        "DT = train_model(DecisionTreeClassifier(random_state=0), X_train_tfidf_orig, y_train_encoded)\n",
        "#test the model with the test data\n",
        "y_pred_dt = DT.predict(X_test_tfidf)\n",
        "\n",
        "#calculate the accuracy\n",
        "DT_accuracy =accuracy_score(y_test_encoded, y_pred_dt)\n",
        "print('Accuracy: ', DT_accuracy,'\\n')\n",
        "\n",
        "#calculate the F1 score\n",
        "f1_dt = get_F1(y_test_encoded, y_pred_dt)\n",
        "pd.DataFrame(f1_dt, index=le.classes_, columns=['F1 score'])"
      ]
    },
    {
      "cell_type": "code",
      "execution_count": null,
      "id": "66441f51",
      "metadata": {
        "colab": {
          "background_save": true
        },
        "id": "66441f51"
      },
      "outputs": [],
      "source": [
        "##Classification Report\n",
        "print(classification_report(y_test_encoded, y_pred_dt, target_names=le.classes_))"
      ]
    },
    {
      "cell_type": "code",
      "execution_count": null,
      "id": "5762139f",
      "metadata": {
        "colab": {
          "background_save": true
        },
        "id": "5762139f"
      },
      "outputs": [],
      "source": [
        "#Train the model with the training data\n",
        "SVM = train_model(SVC(C=1.0, kernel='linear', probability=True,class_weight='balanced'), X_train_tfidf, y_train_encoded)\n",
        "\n",
        "#test the model with the test data\n",
        "y_pred_svm = SVM.predict(X_test_tfidf)\n",
        "\n",
        "#calculate the accuracy\n",
        "SVM_accuracy = accuracy_score(y_test_encoded, y_pred_svm)\n",
        "print('Accuracy: ', SVM_accuracy,'\\n')\n",
        "\n",
        "#calculate the F1 score\n",
        "f1_Score = get_F1(y_test_encoded, y_pred_svm)\n",
        "pd.DataFrame(f1_Score, index=le.classes_, columns=['F1 score'])"
      ]
    },
    {
      "cell_type": "code",
      "execution_count": null,
      "id": "ba8eb526",
      "metadata": {
        "colab": {
          "background_save": true
        },
        "id": "ba8eb526"
      },
      "outputs": [],
      "source": [
        "##Classification Report\n",
        "print(classification_report(y_test_encoded, y_pred_svm, target_names=le.classes_))"
      ]
    },
    {
      "cell_type": "code",
      "execution_count": null,
      "id": "c0d81820",
      "metadata": {
        "colab": {
          "background_save": true
        },
        "id": "c0d81820"
      },
      "outputs": [],
      "source": [
        "#Train the model with the training data\n",
        "RF =train_model(RandomForestClassifier(n_estimators=200, max_depth=50, class_weight='balanced'), X_train_tfidf, y_train_encoded)\n",
        "\n",
        "#test the model with the test data\n",
        "y_pred_rf = RF.predict(X_test_tfidf)\n",
        "\n",
        "#calculate the accuracy\n",
        "RF_accuracy = accuracy_score(y_test_encoded, y_pred_rf)\n",
        "print('Accuracy: ', RF_accuracy,'\\n')\n",
        "\n",
        "#calculate the F1 score\n",
        "f1_Score = get_F1(y_test_encoded, y_pred_rf)\n",
        "pd.DataFrame(f1_Score, index=le.classes_, columns=['F1 score'])"
      ]
    },
    {
      "cell_type": "code",
      "execution_count": null,
      "id": "ec61ca44",
      "metadata": {
        "colab": {
          "background_save": true
        },
        "id": "ec61ca44"
      },
      "outputs": [],
      "source": [
        "##Classification Report\n",
        "print(classification_report(y_test_encoded, y_pred_rf, target_names=le.classes_))"
      ]
    },
    {
      "cell_type": "code",
      "execution_count": null,
      "id": "4b8469dc",
      "metadata": {
        "colab": {
          "background_save": true
        },
        "id": "4b8469dc"
      },
      "outputs": [],
      "source": [
        "import xgboost as xgb\n",
        "# =(RandomForestClassifier(n_estimators=200, max_depth=50, class_weight='balanced'), X_train_tfidf, y_train_encoded)\n",
        "\n",
        "XGB = train_model(xgb.XGBClassifier(use_label_encoder=False, eval_metric='mlogloss', random_state=0),X_train_resampled, y_train_resampled)\n",
        "# xgb_clf.fit()\n",
        "y_pred_XGB = XGB.predict(X_test_tfidf)\n",
        "XGB_accuracy = accuracy_score(y_test_encoded, y_pred_XGB)\n",
        "print('Accuracy: ', XGB_accuracy,'\\n')\n",
        "\n",
        "#calculate the F1 score\n",
        "f1_Score = get_F1(y_test_encoded, y_pred_XGB)\n",
        "pd.DataFrame(f1_Score, index=le.classes_, columns=['F1 score'])"
      ]
    },
    {
      "cell_type": "code",
      "execution_count": null,
      "id": "b4e4f08d",
      "metadata": {
        "colab": {
          "background_save": true
        },
        "id": "b4e4f08d"
      },
      "outputs": [],
      "source": [
        "##Classification Report\n",
        "print(classification_report(y_test_encoded, y_pred_XGB, target_names=le.classes_))"
      ]
    },
    {
      "cell_type": "code",
      "execution_count": null,
      "id": "1a41ff92",
      "metadata": {
        "colab": {
          "background_save": true
        },
        "id": "1a41ff92"
      },
      "outputs": [],
      "source": [
        "models = pd.DataFrame({\n",
        "    'Model': ['Logistic Regression', 'Decision Tree', 'Support Vector Machine', 'Random Forest', 'XGBoost'],\n",
        "    'Accuracy': [\n",
        "        round(log_reg_accuracy, 2),\n",
        "        round(DT_accuracy, 2),\n",
        "        round(SVM_accuracy, 2),\n",
        "        round(RF_accuracy, 2),\n",
        "        round(XGB_accuracy, 2)\n",
        "    ],    'F1 Score (Weighted)': [\n",
        "        round(get_F1(y_test_encoded, y_pred_lr), 2),\n",
        "        round(get_F1(y_test_encoded, y_pred_dt), 2),\n",
        "        round(get_F1(y_test_encoded, y_pred_svm), 2),\n",
        "        round(get_F1(y_test_encoded, y_pred_rf), 2),\n",
        "        round(get_F1(y_test_encoded, y_pred_XGB), 2)\n",
        "    ]\n",
        "})\n",
        "models_sorted = models.sort_values(by='Accuracy', ascending=False).reset_index(drop=True)\n",
        "models_sorted\n"
      ]
    },
    {
      "cell_type": "code",
      "execution_count": null,
      "id": "eeb797d2",
      "metadata": {
        "colab": {
          "background_save": true
        },
        "id": "eeb797d2"
      },
      "outputs": [],
      "source": [
        "from sklearn.model_selection import GridSearchCV\n",
        "\n",
        "param_grid = {\n",
        "    'C': [0.01, 0.1, 1, 10, 100],  # for LogisticRegression or SVM\n",
        "    'max_iter': [1000, 2000],\n",
        "    'solver': ['liblinear', 'saga'],\n",
        "}\n",
        "\n",
        "grid = GridSearchCV(LogisticRegression(class_weight='balanced', random_state=0), param_grid, cv=5, scoring='f1_weighted')\n",
        "grid.fit(X_train_resampled, y_train_resampled)\n",
        "\n",
        "print(\"Best params:\", grid.best_params_)\n",
        "print(\"Best CV score:\", grid.best_score_)\n"
      ]
    },
    {
      "cell_type": "code",
      "execution_count": null,
      "id": "da2e9cd4",
      "metadata": {
        "colab": {
          "background_save": true
        },
        "id": "da2e9cd4"
      },
      "outputs": [],
      "source": [
        "best_model_name = models_sorted.loc[0, 'Model']  # gets model with highest accuracy\n",
        "print(\"Best model is:\", best_model_name)"
      ]
    },
    {
      "cell_type": "markdown",
      "id": "7be3e7c4",
      "metadata": {
        "id": "7be3e7c4"
      },
      "source": [
        "## LIME"
      ]
    },
    {
      "cell_type": "code",
      "execution_count": null,
      "id": "8a367acf",
      "metadata": {
        "colab": {
          "background_save": true
        },
        "id": "8a367acf"
      },
      "outputs": [],
      "source": [
        "#c_LR = make_pipeline(tfidf, clf)\n",
        "from sklearn.pipeline import make_pipeline\n",
        "idx  = 2\n",
        "RF_pipeline = make_pipeline(tfidf, SVM.named_steps['clf'])\n",
        "pred_label = le.inverse_transform(RF_pipeline.predict([X_test[idx]]))[0]\n",
        "actual_label = y_test[idx]  # already a string\n",
        "\n",
        "explainer_LR = LimeTextExplainer(class_names=le.classes_)\n",
        "print(\"Actual Text : \", X_test[idx])\n",
        "print(\"Prediction : \", pred_label)\n",
        "print(\"Actual     : \", actual_label)\n",
        "\n",
        "exp = explainer_LR.explain_instance(X_test[idx], RF_pipeline.predict_proba, top_labels=5)\n",
        "exp.show_in_notebook()\n"
      ]
    },
    {
      "cell_type": "code",
      "execution_count": null,
      "id": "0ca74bb9",
      "metadata": {
        "colab": {
          "background_save": true
        },
        "id": "0ca74bb9"
      },
      "outputs": [],
      "source": [
        "#Splitting the text from the labels\n",
        "X_train = train_data['Text']\n",
        "y_train = train_data['Emotion']\n",
        "\n",
        "X_test = test_data['Text']\n",
        "y_test = test_data['Emotion']"
      ]
    },
    {
      "cell_type": "code",
      "execution_count": null,
      "id": "960f19f7",
      "metadata": {
        "colab": {
          "background_save": true
        },
        "id": "960f19f7"
      },
      "outputs": [],
      "source": [
        "X_train, X_val, y_train, y_val = train_test_split(\n",
        "    X_train, y_train,\n",
        "    test_size=0.2,\n",
        "    stratify=y_train,\n",
        "    random_state=42\n",
        ")"
      ]
    },
    {
      "cell_type": "code",
      "execution_count": null,
      "id": "7018f7d6",
      "metadata": {
        "colab": {
          "background_save": true
        },
        "id": "7018f7d6"
      },
      "outputs": [],
      "source": [
        "# Encode labels\n",
        "from sklearn.preprocessing import LabelEncoder\n",
        "le = LabelEncoder()\n",
        "y_train = le.fit_transform(y_train)\n",
        "y_test = le.transform(y_test)\n",
        "y_val = le.transform(y_val)\n",
        "print(set(y_train))"
      ]
    },
    {
      "cell_type": "code",
      "execution_count": null,
      "id": "8a82c938",
      "metadata": {
        "colab": {
          "background_save": true
        },
        "id": "8a82c938"
      },
      "outputs": [],
      "source": [
        "#Convert the class vector (integers) to binary class matrix\n",
        "from tensorflow.keras.utils import to_categorical\n",
        "y_train = to_categorical(y_train)\n",
        "y_test = to_categorical(y_test)\n",
        "y_val = to_categorical(y_val)\n",
        "\n",
        "print(y_train)"
      ]
    },
    {
      "cell_type": "markdown",
      "id": "83d67b74",
      "metadata": {
        "id": "83d67b74"
      },
      "source": [
        "## Tokenizing"
      ]
    },
    {
      "cell_type": "code",
      "execution_count": null,
      "id": "d74c8fdd",
      "metadata": {
        "colab": {
          "background_save": true
        },
        "id": "d74c8fdd"
      },
      "outputs": [],
      "source": [
        "from tensorflow.keras.preprocessing.text import Tokenizer\n",
        "tokenizer = Tokenizer(oov_token='UNK')\n",
        "tokenizer.fit_on_texts(pd.concat([X_train, X_test], axis=0))\n",
        "\n",
        "tokenizer.document_count"
      ]
    },
    {
      "cell_type": "code",
      "execution_count": null,
      "id": "ecbe92c0",
      "metadata": {
        "colab": {
          "background_save": true
        },
        "id": "ecbe92c0"
      },
      "outputs": [],
      "source": [
        "#converting a single sentence to list of indexes\n",
        "tokenizer.texts_to_sequences([X_train.iloc[0]])\n",
        "\n",
        "#convert the list of indexes into a matrix of ones and zeros (BOW)\n",
        "tokenizer.texts_to_matrix(X_train[0].split())\n",
        "\n",
        "#the sentence contains three words and the size of the vocabulary is 14325\n",
        "tokenizer.texts_to_matrix(X_train[0].split()).shape\n",
        "\n",
        "sequences_train = tokenizer.texts_to_sequences(X_train)\n",
        "sequences_test = tokenizer.texts_to_sequences(X_test)\n",
        "sequences_val = tokenizer.texts_to_sequences(X_val)"
      ]
    },
    {
      "cell_type": "markdown",
      "id": "e27a9220",
      "metadata": {
        "id": "e27a9220"
      },
      "source": [
        "## Padding"
      ]
    },
    {
      "cell_type": "code",
      "execution_count": null,
      "id": "27b49024",
      "metadata": {
        "colab": {
          "background_save": true
        },
        "id": "27b49024"
      },
      "outputs": [],
      "source": [
        "test_data.shape"
      ]
    },
    {
      "cell_type": "code",
      "execution_count": null,
      "id": "32a6d255",
      "metadata": {
        "colab": {
          "background_save": true
        },
        "id": "32a6d255"
      },
      "outputs": [],
      "source": [
        "maxlen = max([len(t) for t in train_data['Text']])\n",
        "maxlen"
      ]
    },
    {
      "cell_type": "code",
      "execution_count": null,
      "id": "4d98354e",
      "metadata": {
        "colab": {
          "background_save": true
        },
        "id": "4d98354e"
      },
      "outputs": [],
      "source": [
        "from tensorflow.keras.preprocessing.sequence import pad_sequences\n",
        "maxlen = max(len(seq) for seq in sequences_train)\n",
        "\n",
        "X_train = pad_sequences(sequences_train, maxlen=maxlen, truncating='pre')\n",
        "X_test = pad_sequences(sequences_test, maxlen=maxlen, truncating='pre')\n",
        "X_val = pad_sequences(sequences_val, maxlen=maxlen, truncating='pre')\n",
        "\n",
        "vocabSize = len(tokenizer.index_word) + 1\n",
        "print(f\"Vocabulary size = {vocabSize}\")"
      ]
    },
    {
      "cell_type": "code",
      "execution_count": null,
      "id": "82a938bf",
      "metadata": {
        "colab": {
          "background_save": true
        },
        "id": "82a938bf"
      },
      "outputs": [],
      "source": [
        "#before\n",
        "sequences_train[0]"
      ]
    },
    {
      "cell_type": "code",
      "execution_count": null,
      "id": "286a6920",
      "metadata": {
        "colab": {
          "background_save": true
        },
        "id": "286a6920"
      },
      "outputs": [],
      "source": [
        "#after\n",
        "X_train[0]"
      ]
    },
    {
      "cell_type": "markdown",
      "id": "83a8bac2",
      "metadata": {
        "id": "83a8bac2"
      },
      "source": [
        "## Word Embedding"
      ]
    },
    {
      "cell_type": "code",
      "execution_count": null,
      "id": "d6f22429",
      "metadata": {
        "colab": {
          "background_save": true
        },
        "id": "d6f22429"
      },
      "outputs": [],
      "source": [
        "# Read GloVE embeddings\n",
        "\n",
        "path_to_glove_file = '/Users/macbookpro/Downloads/glove.6B.200d.txt'\n",
        "num_tokens = vocabSize\n",
        "embedding_dim = 200 #latent factors or features\n",
        "hits = 0\n",
        "misses = 0\n",
        "embeddings_index = {}"
      ]
    },
    {
      "cell_type": "code",
      "execution_count": null,
      "id": "a6aca720",
      "metadata": {
        "colab": {
          "background_save": true
        },
        "id": "a6aca720"
      },
      "outputs": [],
      "source": [
        "# Read word vectors\n",
        "with open(path_to_glove_file) as f:\n",
        "    for line in f:\n",
        "        word, coefs = line.split(maxsplit=1)\n",
        "        coefs = np.fromstring(coefs, \"f\", sep=\" \")\n",
        "        embeddings_index[word] = coefs\n",
        "print(\"Found %s word vectors.\" % len(embeddings_index))\n",
        "\n",
        "# Assign word vectors to our dictionary/vocabulary\n",
        "embedding_matrix = np.zeros((num_tokens, embedding_dim))\n",
        "for word, i in tokenizer.word_index.items():\n",
        "    embedding_vector = embeddings_index.get(word)\n",
        "    if embedding_vector is not None:\n",
        "        # Words not found in embedding index will be all-zeros.\n",
        "        # This includes the representation for \"padding\" and \"OOV\"\n",
        "        embedding_matrix[i] = embedding_vector\n",
        "        hits += 1\n",
        "    else:\n",
        "        misses += 1\n",
        "print(\"Converted %d words (%d misses)\" % (hits, misses))"
      ]
    },
    {
      "cell_type": "code",
      "execution_count": null,
      "id": "4356e0a0",
      "metadata": {
        "colab": {
          "background_save": true
        },
        "id": "4356e0a0"
      },
      "outputs": [],
      "source": [
        "# Build neural network architecture\n",
        "from tensorflow.keras.optimizers import Adam\n",
        "from tensorflow.keras.models import Sequential\n",
        "from tensorflow.keras.layers import Dense, LSTM, Embedding, Bidirectional\n",
        "\n",
        "adam = Adam(learning_rate=0.005)\n",
        "\n",
        "model = Sequential()\n",
        "model.add(Embedding(vocabSize, 200, input_length=X_train.shape[1], weights=[embedding_matrix], trainable=False))\n",
        "model.add(Bidirectional(LSTM(256, dropout=0.2,recurrent_dropout=0.2, return_sequences=True)))\n",
        "model.add(Bidirectional(LSTM(128, dropout=0.2,recurrent_dropout=0.2, return_sequences=True)))\n",
        "model.add(Bidirectional(LSTM(128, dropout=0.2,recurrent_dropout=0.2)))\n",
        "model.add(Dense(7, activation='softmax'))\n",
        "\n",
        "model.compile(loss='categorical_crossentropy', optimizer=adam, metrics=['accuracy'])\n",
        "model.summary()"
      ]
    },
    {
      "cell_type": "code",
      "execution_count": null,
      "id": "10ec5371",
      "metadata": {
        "colab": {
          "background_save": true
        },
        "id": "10ec5371"
      },
      "outputs": [],
      "source": [
        "import tensorflow as tf\n",
        "model.build(input_shape=(None, 100))\n",
        "tf.keras.utils.plot_model(model, show_shapes=True)"
      ]
    },
    {
      "cell_type": "code",
      "execution_count": null,
      "id": "c3e951e5",
      "metadata": {
        "colab": {
          "background_save": true
        },
        "id": "c3e951e5"
      },
      "outputs": [],
      "source": [
        "#to stop the training when the loss starts to increase\n",
        "callback = EarlyStopping(\n",
        "    monitor=\"val_loss\",\n",
        "    patience=4,\n",
        "    restore_best_weights=True,\n",
        ")"
      ]
    },
    {
      "cell_type": "code",
      "execution_count": null,
      "id": "b1ac1919",
      "metadata": {
        "colab": {
          "background_save": true
        },
        "id": "b1ac1919"
      },
      "outputs": [],
      "source": [
        "# test_loss, test_accuracy = model.evaluate(X_test, y_test, verbose=1)\n",
        "# print(f\"\\nTest Loss: {test_loss:.4f}, Test Accuracy: {test_accuracy:.4f}\")"
      ]
    },
    {
      "cell_type": "code",
      "execution_count": null,
      "id": "24a60436",
      "metadata": {
        "colab": {
          "background_save": true
        },
        "id": "24a60436"
      },
      "outputs": [],
      "source": [
        "# # Evaluate on validation set\n",
        "# val_loss, val_accuracy = model.evaluate(X_val, y_val, verbose=1)\n",
        "# print(f\"\\nValidation Loss: {val_loss:.4f}, Validation Accuracy: {val_accuracy:.4f}\")"
      ]
    },
    {
      "cell_type": "code",
      "execution_count": null,
      "id": "f600f308",
      "metadata": {
        "colab": {
          "background_save": true
        },
        "id": "f600f308"
      },
      "outputs": [],
      "source": [
        "predicted = model.predict(X_test)\n",
        "y_pred = predicted.argmax(axis=-1)\n",
        "print(\"\\nClassification Report:\")\n",
        "print(classification_report(le.transform(test_data['Emotion']), y_pred, target_names=le.classes_))\n"
      ]
    },
    {
      "cell_type": "code",
      "execution_count": null,
      "id": "ff0cc7e6",
      "metadata": {
        "colab": {
          "background_save": true
        },
        "id": "ff0cc7e6"
      },
      "outputs": [],
      "source": [
        "# # Fit model\n",
        "# history = model.fit(X_train,\n",
        "#                     y_train,\n",
        "#                     validation_data=(X_val, y_val),\n",
        "#                     verbose=1,\n",
        "#                     batch_size=256,\n",
        "#                     epochs=30,\n",
        "#                     callbacks=[callback]\n",
        "#                    )"
      ]
    },
    {
      "cell_type": "code",
      "execution_count": null,
      "id": "e8674a5d",
      "metadata": {
        "colab": {
          "background_save": true
        },
        "id": "e8674a5d"
      },
      "outputs": [],
      "source": [
        "#print the overall loss and accuracy\n",
        "model.evaluate(X_val, y_val, verbose=1)"
      ]
    },
    {
      "cell_type": "code",
      "execution_count": null,
      "id": "f4a6bc67",
      "metadata": {
        "colab": {
          "background_save": true
        },
        "id": "f4a6bc67"
      },
      "outputs": [],
      "source": [
        "# #print the overall loss and accuracy\n",
        "# model.evaluate(X_test, y_test, verbose=1)"
      ]
    },
    {
      "cell_type": "code",
      "execution_count": null,
      "id": "0bf15aae",
      "metadata": {
        "colab": {
          "background_save": true
        },
        "id": "0bf15aae"
      },
      "outputs": [],
      "source": [
        "# predicted = model.predict(X_test)\n",
        "# y_pred = predicted.argmax(axis=-1)\n",
        "\n",
        "# print(classification_report(le.transform(test_data['Emotion']), y_pred))"
      ]
    },
    {
      "cell_type": "code",
      "execution_count": null,
      "id": "a3882d8e",
      "metadata": {
        "colab": {
          "background_save": true
        },
        "id": "a3882d8e"
      },
      "outputs": [],
      "source": [
        "# # Visualize Loss & Accuracy\n",
        "\n",
        "# %matplotlib inline\n",
        "# import matplotlib.pyplot as plt\n",
        "# acc = history.history['accuracy']\n",
        "# val_acc = history.history['val_accuracy']\n",
        "# loss = history.history['loss']\n",
        "# val_loss = history.history['val_loss']\n",
        "\n",
        "# epochs = range(len(acc))\n",
        "\n",
        "# plt.plot(epochs, acc, 'r', label='Training accuracy')\n",
        "# plt.plot(epochs, val_acc, 'b', label='Validation accuracy')\n",
        "# plt.title('Training and validation accuracy')\n",
        "# plt.legend()\n",
        "# plt.figure()\n",
        "\n",
        "# plt.plot(epochs, loss, 'r', label='Training Loss')\n",
        "# plt.plot(epochs, val_loss, 'b', label='Validation Loss')\n",
        "# plt.title('Training and validation loss')\n",
        "# plt.legend()\n",
        "\n",
        "# plt.show()"
      ]
    },
    {
      "cell_type": "code",
      "execution_count": null,
      "id": "fc820350",
      "metadata": {
        "colab": {
          "background_save": true
        },
        "id": "fc820350"
      },
      "outputs": [],
      "source": [
        "# Classify custom sample\n",
        "\n",
        "sentences = [\n",
        "            \"مرگ پایان زندگی من است\",\n",
        "            'شاید مرگ پایان روح ما نباشه ولی پایان جسم ماست',\n",
        "            \"مرگ به پایان زندگی محدود نمیشه\",\n",
        "            \"اه تف به این زندگی\"\n",
        "            ]\n",
        "for sentence in sentences:\n",
        "    print(sentence)\n",
        "    sentence = normalized_sentence(sentence)\n",
        "    sentence = tokenizer.texts_to_sequences([sentence])\n",
        "    sentence = pad_sequences(sentence, maxlen=229, truncating='pre')\n",
        "    result = le.inverse_transform(np.argmax(model.predict(sentence), axis=-1))[0]\n",
        "    proba =  np.max(model.predict(sentence))\n",
        "    print(f\"{result} : {proba}\\n\\n\")"
      ]
    },
    {
      "cell_type": "code",
      "execution_count": null,
      "id": "cb9c89e6",
      "metadata": {
        "colab": {
          "background_save": true
        },
        "id": "cb9c89e6"
      },
      "outputs": [],
      "source": [
        "sentence= 'شاید مرگ پایان روح ما نباشه ولی پایان جسم ماست'\n",
        "print(sentence)\n",
        "sentence = normalized_sentence(sentence)\n",
        "sentence = tokenizer.texts_to_sequences([sentence])\n",
        "sentence = pad_sequences(sentence, maxlen=229, truncating='pre')\n",
        "result = le.inverse_transform(np.argmax(model.predict(sentence), axis=-1))[0]\n",
        "proba =  np.max(model.predict(sentence))\n",
        "print(f\"{result} : {proba}\\n\\n\")"
      ]
    },
    {
      "cell_type": "markdown",
      "id": "Tigpa7Q2-OFH",
      "metadata": {
        "id": "Tigpa7Q2-OFH"
      },
      "source": [
        "# OLD section"
      ]
    },
    {
      "cell_type": "code",
      "execution_count": null,
      "id": "syA9NpFL-6KK",
      "metadata": {
        "id": "syA9NpFL-6KK"
      },
      "outputs": [],
      "source": [
        "import hazm\n",
        "import pandas as pd\n",
        "import numpy as np\n",
        "from sklearn import preprocessing\n",
        "import matplotlib.pyplot as plt\n",
        "import seaborn as sns\n",
        "from sklearn.model_selection import train_test_split\n",
        "from sklearn.feature_extraction.text import TfidfVectorizer\n",
        "import re"
      ]
    },
    {
      "cell_type": "code",
      "execution_count": null,
      "id": "f2vA-c9N-SmS",
      "metadata": {
        "id": "f2vA-c9N-SmS"
      },
      "outputs": [],
      "source": [
        "train_url = \"train_data.csv\"\n",
        "test_url = \"test.tsv\"\n",
        "\n",
        "# Load the datasets\n",
        "train_df = pd.read_csv(\"train_data.csv\", header=None)\n",
        "test_df = pd.read_csv(test_url, sep='\\t', header=None)\n",
        "\n",
        "train_df.drop(0,inplace=True)\n",
        "train_df.columns = ['text', 'label']\n",
        "# test_df.columns = ['text', 'label']"
      ]
    },
    {
      "cell_type": "markdown",
      "id": "k0NgWFVDAVG6",
      "metadata": {
        "id": "k0NgWFVDAVG6"
      },
      "source": [
        "## EDA"
      ]
    },
    {
      "cell_type": "code",
      "execution_count": null,
      "id": "Hlos2H9n_Do6",
      "metadata": {
        "colab": {
          "base_uri": "https://localhost:8080/",
          "height": 206
        },
        "id": "Hlos2H9n_Do6",
        "outputId": "2de179a2-12a6-42dc-ecb5-5e9544431a03"
      },
      "outputs": [],
      "source": [
        "train_df.head()"
      ]
    },
    {
      "cell_type": "code",
      "execution_count": null,
      "id": "uPQaUZDq_c2S",
      "metadata": {
        "colab": {
          "base_uri": "https://localhost:8080/",
          "height": 430
        },
        "id": "uPQaUZDq_c2S",
        "outputId": "2af7e302-2f77-4b9d-81fc-c09f62d8e9b6"
      },
      "outputs": [],
      "source": [
        "train_df.groupby('label').size().plot(kind='barh', color=sns.palettes.mpl_palette('Dark2'))\n",
        "plt.gca().spines[['top', 'right',]].set_visible(False)"
      ]
    },
    {
      "cell_type": "code",
      "execution_count": null,
      "id": "jK55I4xMytEH",
      "metadata": {
        "colab": {
          "base_uri": "https://localhost:8080/",
          "height": 564
        },
        "id": "jK55I4xMytEH",
        "outputId": "5c848752-0a0b-4e94-f394-ecb4b515b42e"
      },
      "outputs": [],
      "source": [
        "train_df['text_length'] = train_df['text'].apply(lambda x: len(x.split()))\n",
        "\n",
        "plt.figure(figsize=(10, 6))\n",
        "sns.histplot(train_df['text_length'], bins=50, kde=True)\n",
        "plt.title('Distribution of Text Lengths')\n",
        "plt.xlabel('Text Length (words)')\n",
        "plt.ylabel('Frequency')\n",
        "plt.xlim(0, 100)  # Zoom in to texts with length up to 100 words\n",
        "plt.grid(True)\n",
        "plt.show()"
      ]
    },
    {
      "cell_type": "markdown",
      "id": "zk6lZmzIAP_R",
      "metadata": {
        "id": "zk6lZmzIAP_R"
      },
      "source": [
        "## remove null values and duplicates"
      ]
    },
    {
      "cell_type": "code",
      "execution_count": null,
      "id": "N4jbfYxv_LFy",
      "metadata": {
        "colab": {
          "base_uri": "https://localhost:8080/"
        },
        "id": "N4jbfYxv_LFy",
        "outputId": "34294b52-b94d-4806-fbdf-cd314a1d9bc7"
      },
      "outputs": [],
      "source": [
        "print(train_df.isnull().sum())\n",
        "print(train_df.duplicated().sum())\n",
        "\n",
        "index = train_df[train_df.duplicated() == True].index\n",
        "train_df.drop(index, axis = 0, inplace = True)\n",
        "train_df.reset_index(inplace=True, drop = True)\n",
        "print(train_df.shape)"
      ]
    },
    {
      "cell_type": "code",
      "execution_count": null,
      "id": "kQC4VHVK_wSs",
      "metadata": {
        "colab": {
          "base_uri": "https://localhost:8080/"
        },
        "id": "kQC4VHVK_wSs",
        "outputId": "83d6217a-5b49-4e01-e39d-f2a228937b6d"
      },
      "outputs": [],
      "source": [
        "index = train_df[train_df['text'].duplicated() == True].index\n",
        "train_df.drop(index, axis = 0, inplace = True)\n",
        "train_df.reset_index(inplace=True, drop = True)\n",
        "print(train_df.shape)"
      ]
    },
    {
      "cell_type": "markdown",
      "id": "HmPD_dSsAXR5",
      "metadata": {
        "id": "HmPD_dSsAXR5"
      },
      "source": [
        "## cleaning the texts"
      ]
    },
    {
      "cell_type": "code",
      "execution_count": null,
      "id": "-w9FA9kEEvT9",
      "metadata": {
        "colab": {
          "base_uri": "https://localhost:8080/"
        },
        "id": "-w9FA9kEEvT9",
        "outputId": "9a92407a-c2ce-4dd4-a509-5162cb56a3ac"
      },
      "outputs": [],
      "source": [
        "import gdown\n",
        "from hazm import stopwords_list\n",
        "\n",
        "url = 'https://drive.google.com/uc?id=1Q3JK4NVUC2t5QT63aDiVrCRBV225E_B3'\n",
        "output = 'postagger.model'\n",
        "gdown.download(url, output, quiet=False)\n",
        "\n",
        "from hazm import POSTagger\n",
        "pos_tagger = POSTagger(model='postagger.model')"
      ]
    },
    {
      "cell_type": "code",
      "execution_count": null,
      "id": "J_SQspitDR8V",
      "metadata": {
        "id": "J_SQspitDR8V"
      },
      "outputs": [],
      "source": [
        "stopwords = set(stopwords_list())\n",
        "\n",
        "def avg_word_length(text):\n",
        "    words = text.split()\n",
        "    if len(words) == 0:\n",
        "        return 0\n",
        "    return sum(len(w) for w in words) / len(words)\n",
        "\n",
        "def count_punctuations(text):\n",
        "    return len(re.findall(r'[^\\w\\s]', text))\n",
        "\n",
        "def count_stopwords(text):\n",
        "    return sum(1 for word in text.split() if word in stopwords)\n",
        "\n",
        "def contains_url(text):\n",
        "    return bool(re.search(r'https?://\\S+|www\\.\\S+', text))\n",
        "\n",
        "def pos_counts(text_tokens):\n",
        "    tags = pos_tagger.tag(text_tokens)\n",
        "    counts = {'NOUN': 0, 'VERB': 0, 'ADJ': 0}\n",
        "    for _, tag in tags:\n",
        "        if tag in counts:\n",
        "            counts[tag] += 1\n",
        "    return counts"
      ]
    },
    {
      "cell_type": "code",
      "execution_count": null,
      "id": "ux5og6NjAHMz",
      "metadata": {
        "id": "ux5og6NjAHMz"
      },
      "outputs": [],
      "source": [
        "normalizer = hazm.Normalizer()"
      ]
    },
    {
      "cell_type": "code",
      "execution_count": null,
      "id": "tF5_MVYwAgRK",
      "metadata": {
        "id": "tF5_MVYwAgRK"
      },
      "outputs": [],
      "source": [
        "train_df['text'] = train_df['text'].apply(normalizer.decrease_repeated_chars)"
      ]
    },
    {
      "cell_type": "code",
      "execution_count": null,
      "id": "8mmM_SZxwnQl",
      "metadata": {
        "id": "8mmM_SZxwnQl"
      },
      "outputs": [],
      "source": [
        "train_df['text'] = train_df['text'].apply(normalizer.persian_number)"
      ]
    },
    {
      "cell_type": "code",
      "execution_count": null,
      "id": "-OqfAIyAwrcl",
      "metadata": {
        "id": "-OqfAIyAwrcl"
      },
      "outputs": [],
      "source": [
        "train_df['text'] = train_df['text'].apply(normalizer.remove_diacritics)"
      ]
    },
    {
      "cell_type": "code",
      "execution_count": null,
      "id": "jRYMZU4dwtpc",
      "metadata": {
        "id": "jRYMZU4dwtpc"
      },
      "outputs": [],
      "source": [
        "train_df['text'] = train_df['text'].apply(normalizer.correct_spacing)"
      ]
    },
    {
      "cell_type": "code",
      "execution_count": null,
      "id": "f3_WfwQ-wv03",
      "metadata": {
        "id": "f3_WfwQ-wv03"
      },
      "outputs": [],
      "source": [
        "train_df['text'] = train_df['text'].apply(normalizer.normalize)"
      ]
    },
    {
      "cell_type": "code",
      "execution_count": null,
      "id": "yIhxFw7fFGrl",
      "metadata": {
        "id": "yIhxFw7fFGrl"
      },
      "outputs": [],
      "source": [
        "train_df['num_words'] = train_df['text'].apply(lambda x: len(x.split()))\n",
        "train_df['num_chars'] = train_df['text'].apply(len)\n",
        "train_df['avg_word_len'] = train_df['text'].apply(avg_word_length)\n",
        "train_df['num_punctuations'] = train_df['text'].apply(count_punctuations)\n",
        "train_df['stopword_ratio'] = train_df['text'].apply(count_stopwords) / (train_df['num_words'] + 1e-6)\n",
        "train_df['has_url'] = train_df['text'].apply(contains_url).astype(int)"
      ]
    },
    {
      "cell_type": "code",
      "execution_count": null,
      "id": "4CwXkvNLw3Fd",
      "metadata": {
        "id": "4CwXkvNLw3Fd"
      },
      "outputs": [],
      "source": [
        "def remove_chars(text):\n",
        "    text = re.sub('[%s]' % re.escape(\"\"\"!\"#$%&'()*+,،-./:;<=>؟?@[\\]^_`{|}~\"\"\"), ' ', text)\n",
        "    text = text.replace('؛', '')\n",
        "    text = re.sub('\\s+', ' ', text)  # remove extra whitespace\n",
        "    return text.strip()\n",
        "\n",
        "train_df['text'] = train_df['text'].apply(remove_chars)"
      ]
    },
    {
      "cell_type": "code",
      "execution_count": null,
      "id": "CJiGB0CixR79",
      "metadata": {
        "id": "CJiGB0CixR79"
      },
      "outputs": [],
      "source": [
        "def Removing_urls_http(text):\n",
        "    url_pattern = re.compile(r'https?://\\S+|www\\.\\S+')\n",
        "    return url_pattern.sub(r'', text)\n",
        "train_df['text'] = train_df['text'].apply(Removing_urls_http)"
      ]
    },
    {
      "cell_type": "markdown",
      "id": "ihZVOXqDx5tM",
      "metadata": {
        "id": "ihZVOXqDx5tM"
      },
      "source": [
        "## Feature engineering"
      ]
    },
    {
      "cell_type": "code",
      "execution_count": null,
      "id": "BGIrWIECxBZF",
      "metadata": {
        "id": "BGIrWIECxBZF"
      },
      "outputs": [],
      "source": [
        "le = preprocessing.LabelEncoder()\n",
        "encoded_labels = le.fit_transform(train_df['label'])\n",
        "train_df['label_decoded'] = encoded_labels"
      ]
    },
    {
      "cell_type": "code",
      "execution_count": null,
      "id": "tYPQu__ZyJPu",
      "metadata": {
        "id": "tYPQu__ZyJPu"
      },
      "outputs": [],
      "source": [
        "tokenizer = hazm.WordTokenizer()\n",
        "train_df['text'] = train_df['text'].apply(tokenizer.tokenize)"
      ]
    },
    {
      "cell_type": "code",
      "execution_count": null,
      "id": "TrqtaC7kwyFo",
      "metadata": {
        "id": "TrqtaC7kwyFo"
      },
      "outputs": [],
      "source": [
        "def remove_stopwords(text):\n",
        "    return [word for word in text if word not in stopwords]\n",
        "\n",
        "train_df['text'] = train_df['text'].apply(remove_stopwords)"
      ]
    },
    {
      "cell_type": "code",
      "execution_count": null,
      "id": "8fgyoaQww7Mt",
      "metadata": {
        "id": "8fgyoaQww7Mt"
      },
      "outputs": [],
      "source": [
        "lemmatizer = hazm.Lemmatizer()\n",
        "\n",
        "def safe_lemmatize_tokens(tokens):\n",
        "    lemmatized = []\n",
        "    for token in tokens:\n",
        "        try:\n",
        "            lemma = lemmatizer.lemmatize(token)\n",
        "            lemmatized.append(lemma)\n",
        "        except Exception as e:\n",
        "            print(f\"Error lemmatizing token: {token} — {e}\")\n",
        "            # lemmatized.append(token)  # fallback to the original token\n",
        "    return lemmatized\n",
        "\n",
        "train_df['text'] = train_df['text'].apply(safe_lemmatize_tokens)"
      ]
    },
    {
      "cell_type": "code",
      "execution_count": null,
      "id": "vOD1llFKyTGA",
      "metadata": {
        "id": "vOD1llFKyTGA"
      },
      "outputs": [],
      "source": [
        "def embed2string(list):\n",
        "    return ' '.join(word for word in list)"
      ]
    },
    {
      "cell_type": "code",
      "execution_count": null,
      "id": "4dl2ETtCyRef",
      "metadata": {
        "id": "4dl2ETtCyRef"
      },
      "outputs": [],
      "source": [
        "train_df['text'] = train_df['text'].apply(normalizer.token_spacing)"
      ]
    },
    {
      "cell_type": "code",
      "execution_count": null,
      "id": "Yi4UVNJbykfO",
      "metadata": {
        "id": "Yi4UVNJbykfO"
      },
      "outputs": [],
      "source": [
        "train_df['text'] = train_df['text'].apply(embed2string)"
      ]
    },
    {
      "cell_type": "code",
      "execution_count": null,
      "id": "o1PD84F2NZ9n",
      "metadata": {
        "id": "o1PD84F2NZ9n"
      },
      "outputs": [],
      "source": [
        "train_df['text'] = train_df['text'].apply(remove_chars)"
      ]
    },
    {
      "cell_type": "code",
      "execution_count": null,
      "id": "mSV2ZlVkNnoO",
      "metadata": {
        "id": "mSV2ZlVkNnoO"
      },
      "outputs": [],
      "source": [
        "train_df['text'] = train_df['text'].apply(tokenizer.tokenize)"
      ]
    },
    {
      "cell_type": "code",
      "execution_count": null,
      "id": "G-8fhV_NIpbX",
      "metadata": {
        "colab": {
          "base_uri": "https://localhost:8080/",
          "height": 275
        },
        "id": "G-8fhV_NIpbX",
        "outputId": "e4c4f140-c1cc-47a5-e177-c056b0311aec"
      },
      "outputs": [],
      "source": [
        "pos_features = train_df['text'].apply(pos_counts).apply(pd.Series)\n",
        "train_df['num_nouns'] = pos_features['NOUN']\n",
        "train_df['num_verbs'] = pos_features['VERB']\n",
        "train_df['num_adjs'] = pos_features['ADJ']\n",
        "train_df.head()"
      ]
    },
    {
      "cell_type": "markdown",
      "id": "q81_OvOa3Wk9",
      "metadata": {
        "id": "q81_OvOa3Wk9"
      },
      "source": [
        "#### word2vec"
      ]
    },
    {
      "cell_type": "code",
      "execution_count": null,
      "id": "8WBmZ-E_5dm-",
      "metadata": {
        "colab": {
          "base_uri": "https://localhost:8080/",
          "height": 67,
          "referenced_widgets": [
            "0bdb51fe5ea44a8f8052f6ac55d13975",
            "30e1311a8cbb4ea9b2e748f28ed82f24",
            "3fc635f95b1945c18a8c1d3c1531a636",
            "701d31474a2148c4b5faca218c2a882b",
            "ac5e65917d194d28abac3c475d1ef521",
            "2e066733e28441ea89975084720bb8e6",
            "ac59430f4ee84b829155c2229c986e9b",
            "06eb0a84b82f4e409f895d76be0f1002",
            "5d79363faa2548298fa5910dd989e31a",
            "7621f5ed1be24e9ca559abf84e55c2f2",
            "ca074af08f174e2989312e4e6731e69c"
          ]
        },
        "id": "8WBmZ-E_5dm-",
        "outputId": "2696f218-98df-4a62-dd41-c9e14454ed50"
      },
      "outputs": [],
      "source": [
        "from huggingface_hub import hf_hub_download\n",
        "\n",
        "# Download the file to a local path\n",
        "model_path = hf_hub_download(\n",
        "    repo_id=\"taesiri/PersianWordVecs\",\n",
        "    filename=\"farsi-dedup-cbow.bin\"\n",
        ")\n",
        "import fasttext\n",
        "model = fasttext.load_model(model_path)"
      ]
    },
    {
      "cell_type": "code",
      "execution_count": null,
      "id": "qYi2O8ag5qeV",
      "metadata": {
        "colab": {
          "base_uri": "https://localhost:8080/"
        },
        "id": "qYi2O8ag5qeV",
        "outputId": "0216c953-37d6-450e-9237-bcace57e4e7f"
      },
      "outputs": [],
      "source": [
        "neighbors = model.get_nearest_neighbors('سگ', k=10)\n",
        "for score, word in neighbors:\n",
        "    print(f\"{word} → {score:.4f}\")"
      ]
    },
    {
      "cell_type": "code",
      "execution_count": null,
      "id": "K_M42qlr6NN9",
      "metadata": {
        "id": "K_M42qlr6NN9"
      },
      "outputs": [],
      "source": [
        "def get_sentence_embedding(sentence, model):\n",
        "    words = sentence\n",
        "    word_vectors = [model.get_word_vector(word) for word in words if word.strip()]\n",
        "    if not word_vectors:\n",
        "        return np.zeros(model.get_dimension())  # fallback for empty input\n",
        "    return np.mean(word_vectors, axis=0)"
      ]
    },
    {
      "cell_type": "code",
      "execution_count": null,
      "id": "s-DF-MHR6Pi3",
      "metadata": {
        "colab": {
          "base_uri": "https://localhost:8080/",
          "height": 255
        },
        "id": "s-DF-MHR6Pi3",
        "outputId": "f1acf6e3-db86-46ca-c87e-c3229d37e335"
      },
      "outputs": [],
      "source": [
        "# --- Step 1: Generate sentence embeddings (X_train) ---\n",
        "X_train = np.vstack(train_df['text'].apply(lambda x: get_sentence_embedding(x, model)).values)\n",
        "\n",
        "# --- Step 2: Prepare target array (y_train) ---\n",
        "y_train = train_df['label_decoded'].values\n",
        "\n",
        "# --- Step 3: Drop unused label column ---\n",
        "train_df.drop(['label','text','label_decoded'], axis=1, inplace=True)\n",
        "\n",
        "# --- Step 5: Convert embedding array to DataFrame ---\n",
        "X_embed_df = pd.DataFrame(X_train, columns=[f'emb_{i}' for i in range(X_train.shape[1])])\n",
        "\n",
        "# --- Step 6: Reset indices to align DataFrames ---\n",
        "train_df.reset_index(drop=True, inplace=True)\n",
        "X_embed_df.reset_index(drop=True, inplace=True)\n",
        "\n",
        "# --- Step 7: Concatenate handcrafted and embedding features ---\n",
        "X_full_train = pd.concat([train_df, X_embed_df], axis=1)\n",
        "X_full_train.head()"
      ]
    },
    {
      "cell_type": "code",
      "execution_count": null,
      "id": "98HcZHCjqAb4",
      "metadata": {
        "colab": {
          "base_uri": "https://localhost:8080/"
        },
        "id": "98HcZHCjqAb4",
        "outputId": "d9af7351-2621-4606-aa10-2a7acf86986f"
      },
      "outputs": [],
      "source": [
        "from sklearn.model_selection import train_test_split\n",
        "\n",
        "# --- Step 8: Train-test split ---\n",
        "X_train_split, X_val_split, y_train_split, y_val_split = train_test_split(\n",
        "    X_full_train, y_train, test_size=0.2, random_state=42, stratify=y_train\n",
        ")\n",
        "\n",
        "print(f\"Train shape: {X_train_split.shape}, Validation shape: {X_val_split.shape}\")\n"
      ]
    },
    {
      "cell_type": "code",
      "execution_count": null,
      "id": "dAHEtJPG9Nvm",
      "metadata": {
        "id": "dAHEtJPG9Nvm"
      },
      "outputs": [],
      "source": [
        "import torch\n",
        "import torch.nn as nn\n",
        "from torch.utils.data import TensorDataset, DataLoader\n",
        "\n",
        "device = torch.device('cuda' if torch.cuda.is_available() else 'cpu')\n",
        "\n",
        "# Convert DataFrames and arrays to tensors\n",
        "train_dataset = TensorDataset(\n",
        "    torch.tensor(X_train_split.values, dtype=torch.float32),\n",
        "    torch.tensor(y_train_split, dtype=torch.long)\n",
        ")\n",
        "\n",
        "val_dataset = TensorDataset(\n",
        "    torch.tensor(X_val_split.values, dtype=torch.float32),\n",
        "    torch.tensor(y_val_split, dtype=torch.long)\n",
        ")\n",
        "\n",
        "\n",
        "train_loader = DataLoader(train_dataset, batch_size=128, shuffle=True, drop_last=True)\n",
        "val_loader = DataLoader(val_dataset, batch_size=128, drop_last=False)"
      ]
    },
    {
      "cell_type": "code",
      "execution_count": null,
      "id": "93dfLd8e9Qjt",
      "metadata": {
        "id": "93dfLd8e9Qjt"
      },
      "outputs": [],
      "source": [
        "class FixedResidualMLP(nn.Module):\n",
        "    def __init__(self, input_dim, hidden_dim, num_classes):\n",
        "        super().__init__()\n",
        "\n",
        "        # Initial projection to hidden space\n",
        "        self.input_proj = nn.Sequential(\n",
        "            nn.Linear(input_dim, hidden_dim),\n",
        "            nn.BatchNorm1d(hidden_dim),\n",
        "            nn.ReLU()\n",
        "        )\n",
        "\n",
        "        # Residual blocks with proper identity mapping\n",
        "        self.res_blocks = nn.ModuleList([\n",
        "            ResidualBlock(hidden_dim),\n",
        "            ResidualBlock(hidden_dim)\n",
        "        ])\n",
        "\n",
        "        # Classifier head\n",
        "        self.classifier = nn.Linear(hidden_dim, num_classes)\n",
        "\n",
        "        # Proper initialization\n",
        "        self._initialize_weights()\n",
        "\n",
        "    def _initialize_weights(self):\n",
        "        for m in self.modules():\n",
        "            if isinstance(m, nn.Linear):\n",
        "                nn.init.kaiming_normal_(m.weight, mode='fan_in', nonlinearity='relu')\n",
        "                if m.bias is not None:\n",
        "                    nn.init.constant_(m.bias, 0)\n",
        "            elif isinstance(m, nn.BatchNorm1d):\n",
        "                nn.init.constant_(m.weight, 1)\n",
        "                nn.init.constant_(m.bias, 0)\n",
        "\n",
        "    def forward(self, x):\n",
        "        x = self.input_proj(x)\n",
        "\n",
        "        # Apply residual blocks\n",
        "        for block in self.res_blocks:\n",
        "            x = block(x)\n",
        "\n",
        "        return self.classifier(x)\n",
        "\n",
        "\n",
        "class ResidualBlock(nn.Module):\n",
        "    def __init__(self, dim):\n",
        "        super().__init__()\n",
        "        self.net = nn.Sequential(\n",
        "            nn.Linear(dim, dim),\n",
        "            nn.BatchNorm1d(dim),\n",
        "            nn.ReLU(),\n",
        "            nn.Dropout(0.1),\n",
        "\n",
        "            nn.Linear(dim, dim),\n",
        "            nn.BatchNorm1d(dim),\n",
        "            nn.ReLU(),\n",
        "            nn.Dropout(0.1)\n",
        "        )\n",
        "        # No need for projection - same dimension\n",
        "        self.shortcut = nn.Identity()\n",
        "\n",
        "    def forward(self, x):\n",
        "        residual = self.shortcut(x)\n",
        "        out = self.net(x)\n",
        "        return out + residual  # Clean residual connection"
      ]
    },
    {
      "cell_type": "code",
      "execution_count": null,
      "id": "dAPI-SZfBTM-",
      "metadata": {
        "id": "dAPI-SZfBTM-"
      },
      "outputs": [],
      "source": [
        "from sklearn.utils.class_weight import compute_class_weight\n",
        "\n",
        "class_weights = compute_class_weight('balanced', classes=np.unique(y_train), y=y_train)\n",
        "class_weights = torch.tensor(class_weights, dtype=torch.float32).to(device)\n",
        "\n",
        "criterion = nn.CrossEntropyLoss(weight=class_weights)"
      ]
    },
    {
      "cell_type": "code",
      "execution_count": null,
      "id": "yPTj6pJb9S5e",
      "metadata": {
        "colab": {
          "base_uri": "https://localhost:8080/"
        },
        "id": "yPTj6pJb9S5e",
        "outputId": "9fcc649d-366a-44ce-af6f-ac01a061036f"
      },
      "outputs": [],
      "source": [
        "from torch.optim import AdamW\n",
        "from torch.optim.lr_scheduler import StepLR\n",
        "from sklearn.metrics import f1_score,accuracy_score\n",
        "import time\n",
        "\n",
        "model_mlp = FixedResidualMLP(\n",
        "    input_dim=110,\n",
        "    hidden_dim=128,\n",
        "    num_classes=len(set(y_train)),\n",
        ").to(device)\n",
        "\n",
        "optimizer = torch.optim.Adam(\n",
        "    model_mlp.parameters(),\n",
        "    lr=1e-3,           # Start with standard LR\n",
        "    weight_decay=1e-4  # L2 regularization\n",
        ")\n",
        "\n",
        "# 3. SCHEDULER - NO WARM RESTARTS (they're destabilizing)\n",
        "scheduler = torch.optim.lr_scheduler.StepLR(\n",
        "    optimizer,\n",
        "    step_size=10,\n",
        "    gamma=0.5  # Halve LR every 10 epochs\n",
        ")\n",
        "\n",
        "test_losses_epoch = []\n",
        "train_losses_epoch = []\n",
        "val_f1_scores = []\n",
        "val_acc_scores = []\n",
        "val_losses_epoch = []\n",
        "\n",
        "num_epochs = 30\n",
        "clip_value = 1.0  # for gradient clipping\n",
        "\n",
        "for epoch in range(num_epochs):\n",
        "    start_time = time.time()\n",
        "\n",
        "    model_mlp.train()\n",
        "    train_losses = []\n",
        "\n",
        "    for xb, yb in train_loader:\n",
        "        xb, yb = xb.to(device), yb.to(device)\n",
        "        out = model_mlp(xb)\n",
        "        loss = criterion(out, yb)\n",
        "\n",
        "        optimizer.zero_grad()\n",
        "        loss.backward()\n",
        "        torch.nn.utils.clip_grad_norm_(model_mlp.parameters(), max_norm=clip_value)\n",
        "        optimizer.step()\n",
        "\n",
        "        train_losses.append(loss.item())\n",
        "\n",
        "    avg_train_loss = np.mean(train_losses)\n",
        "    train_losses_epoch.append(avg_train_loss)\n",
        "\n",
        "    # Validation\n",
        "    model_mlp.eval()\n",
        "    preds, targets = [], []\n",
        "    val_losses = []\n",
        "    with torch.no_grad():\n",
        "        for xb, yb in val_loader:\n",
        "            xb = xb.to(device)\n",
        "            outputs = model_mlp(xb)\n",
        "            preds.extend(outputs.argmax(dim=1).cpu().numpy())\n",
        "            targets.extend(yb.numpy())\n",
        "            val_losses.append(loss.item())\n",
        "\n",
        "            preds.extend(outputs.argmax(dim=1).cpu().numpy())\n",
        "            targets.extend(yb.cpu().numpy())\n",
        "\n",
        "    avg_val_loss = np.mean(val_losses)\n",
        "    val_losses_epoch.append(avg_val_loss)\n",
        "\n",
        "    f1 = f1_score(targets, preds, average='macro')\n",
        "    accuracy = accuracy_score(targets, preds)\n",
        "    val_f1_scores.append(f1)\n",
        "    val_acc_scores.append(accuracy)\n",
        "\n",
        "    scheduler.step()\n",
        "    duration = time.time() - start_time\n",
        "\n",
        "    print(f\"--- Epoch {epoch+1}/{num_epochs} ---\")\n",
        "    print(f\"Train Loss: {avg_train_loss:.4f} | Val Loss: {avg_val_loss:.4f} | Val F1 Score: {f1:.4f}| Val Acc Score: {accuracy:.4f} | Time: {duration:.2f}s\")"
      ]
    },
    {
      "cell_type": "code",
      "execution_count": null,
      "id": "BS7t4U7V-7cJ",
      "metadata": {
        "colab": {
          "base_uri": "https://localhost:8080/",
          "height": 507
        },
        "id": "BS7t4U7V-7cJ",
        "outputId": "a6912a9f-439d-4d5b-da88-28f0fc14fd14"
      },
      "outputs": [],
      "source": [
        "import matplotlib.pyplot as plt\n",
        "\n",
        "plt.figure(figsize=(12, 5))\n",
        "\n",
        "plt.subplot(1, 2, 1)\n",
        "plt.plot(train_losses_epoch, label='Train Loss')\n",
        "plt.plot(val_losses_epoch, label='Validation Loss')\n",
        "plt.xlabel('Epoch')\n",
        "plt.ylabel('Loss')\n",
        "plt.title('Loss per Epoch')\n",
        "plt.grid(True)\n",
        "plt.legend()\n",
        "\n",
        "plt.subplot(1, 2, 2)\n",
        "plt.plot(val_f1_scores, label='Validation F1 Score', color='green')\n",
        "plt.plot(val_acc_scores,label='Validation Accuracy Score',color='orange')\n",
        "plt.xlabel('Epoch')\n",
        "plt.ylabel('F1 Score')\n",
        "plt.title('Validation F1 Score per Epoch')\n",
        "plt.grid(True)\n",
        "plt.legend()\n",
        "\n",
        "plt.tight_layout()\n",
        "plt.show()"
      ]
    },
    {
      "cell_type": "code",
      "execution_count": null,
      "id": "yVSyG7wmYR2H",
      "metadata": {
        "id": "yVSyG7wmYR2H"
      },
      "outputs": [],
      "source": [
        "# For training\n",
        "X_train_np = train_dataset.tensors[0].cpu().numpy()  # features\n",
        "y_train_np = train_dataset.tensors[1].cpu().numpy()  # labels\n",
        "\n",
        "# For validation\n",
        "X_val_np = val_dataset.tensors[0].cpu().numpy()\n",
        "y_val_np = val_dataset.tensors[1].cpu().numpy()\n"
      ]
    },
    {
      "cell_type": "code",
      "execution_count": null,
      "id": "3g4s7qUpXHnx",
      "metadata": {
        "colab": {
          "base_uri": "https://localhost:8080/"
        },
        "id": "3g4s7qUpXHnx",
        "outputId": "280d0301-06a2-4865-cbed-4559f6f7552b"
      },
      "outputs": [],
      "source": [
        "import xgboost as xgb\n",
        "from sklearn.metrics import f1_score\n",
        "\n",
        "model_xgb = xgb.XGBClassifier(\n",
        "    objective='multi:softprob',\n",
        "    num_class=len(np.unique(y_train_np)),\n",
        "    use_label_encoder=False,\n",
        "    random_state=42,\n",
        "    n_estimators=400,\n",
        "    max_depth=20,\n",
        "    learning_rate=0.5\n",
        ")\n",
        "\n",
        "model_xgb.fit(X_train_np, y_train_np, eval_set=[(X_val_np, y_val_np)], verbose=True)\n",
        "\n",
        "y_pred = model_xgb.predict(X_val_np)\n",
        "f1 = f1_score(y_val_np, y_pred, average='macro')\n",
        "print(f\"XGB Validation F1 Score: {f1:.4f}\")\n"
      ]
    },
    {
      "cell_type": "code",
      "execution_count": null,
      "id": "_dGFUAvgYXeQ",
      "metadata": {
        "colab": {
          "base_uri": "https://localhost:8080/"
        },
        "id": "_dGFUAvgYXeQ",
        "outputId": "f2737dfb-195c-4f4e-efab-0273a2410ce7"
      },
      "outputs": [],
      "source": [
        "from sklearn.ensemble import RandomForestClassifier\n",
        "from sklearn.metrics import f1_score\n",
        "\n",
        "rf = RandomForestClassifier(n_estimators=100, random_state=42)\n",
        "rf.fit(X_train_np, y_train_np)\n",
        "y_pred = rf.predict(X_val_np)\n",
        "f1 = f1_score(y_val_np, y_pred, average='macro')\n",
        "print(f\"Random Forest Validation F1 Score: {f1:.4f}\")\n"
      ]
    },
    {
      "cell_type": "code",
      "execution_count": null,
      "id": "BGV7snBaYmlQ",
      "metadata": {
        "colab": {
          "base_uri": "https://localhost:8080/"
        },
        "id": "BGV7snBaYmlQ",
        "outputId": "4f0f26e4-ce8f-40e4-8d67-9e3c6a8ce68d"
      },
      "outputs": [],
      "source": [
        "from sklearn.linear_model import LogisticRegression\n",
        "from sklearn.metrics import f1_score\n",
        "\n",
        "X_train_np = train_dataset.tensors[0].cpu().numpy()\n",
        "y_train_np = train_dataset.tensors[1].cpu().numpy()\n",
        "X_val_np = val_dataset.tensors[0].cpu().numpy()\n",
        "y_val_np = val_dataset.tensors[1].cpu().numpy()\n",
        "\n",
        "model_lr = LogisticRegression(max_iter=1000, random_state=42)\n",
        "model_lr.fit(X_train_np, y_train_np)\n",
        "\n",
        "y_pred = model_lr.predict(X_val_np)\n",
        "f1 = f1_score(y_val_np, y_pred, average='macro')\n",
        "print(f\"Logistic Regression Validation F1 Score: {f1:.4f}\")"
      ]
    },
    {
      "cell_type": "code",
      "execution_count": null,
      "id": "sNYi-57gYpds",
      "metadata": {
        "colab": {
          "base_uri": "https://localhost:8080/"
        },
        "id": "sNYi-57gYpds",
        "outputId": "f93fefc4-b754-4fd6-b535-432ff09610e1"
      },
      "outputs": [],
      "source": [
        "from sklearn.svm import SVC\n",
        "from sklearn.metrics import f1_score\n",
        "\n",
        "X_train_np = train_dataset.tensors[0].cpu().numpy()\n",
        "y_train_np = train_dataset.tensors[1].cpu().numpy()\n",
        "X_val_np = val_dataset.tensors[0].cpu().numpy()\n",
        "y_val_np = val_dataset.tensors[1].cpu().numpy()\n",
        "\n",
        "model_svm = SVC(kernel='rbf', probability=True, random_state=42)\n",
        "model_svm.fit(X_train_np, y_train_np)\n",
        "\n",
        "y_pred = model_svm.predict(X_val_np)\n",
        "f1 = f1_score(y_val_np, y_pred, average='macro')\n",
        "print(f\"SVM Validation F1 Score: {f1:.4f}\")"
      ]
    },
    {
      "cell_type": "code",
      "execution_count": null,
      "id": "ai_FKj6jYtCn",
      "metadata": {
        "colab": {
          "base_uri": "https://localhost:8080/"
        },
        "id": "ai_FKj6jYtCn",
        "outputId": "a9035021-2aa7-4ab9-8766-21b05ebec37f"
      },
      "outputs": [],
      "source": [
        "from sklearn.ensemble import GradientBoostingClassifier\n",
        "from sklearn.metrics import f1_score\n",
        "\n",
        "X_train_np = train_dataset.tensors[0].cpu().numpy()\n",
        "y_train_np = train_dataset.tensors[1].cpu().numpy()\n",
        "X_val_np = val_dataset.tensors[0].cpu().numpy()\n",
        "y_val_np = val_dataset.tensors[1].cpu().numpy()\n",
        "\n",
        "model_gb = GradientBoostingClassifier(n_estimators=100, random_state=42)\n",
        "model_gb.fit(X_train_np, y_train_np)\n",
        "\n",
        "y_pred = model_gb.predict(X_val_np)\n",
        "f1 = f1_score(y_val_np, y_pred, average='macro')\n",
        "print(f\"Gradient Boosting Validation F1 Score: {f1:.4f}\")\n"
      ]
    },
    {
      "cell_type": "markdown",
      "id": "ePEC93a_7sS2",
      "metadata": {
        "id": "ePEC93a_7sS2"
      },
      "source": [
        "#### TF IDF"
      ]
    },
    {
      "cell_type": "code",
      "execution_count": null,
      "id": "lKbf0QZvyxM1",
      "metadata": {
        "id": "lKbf0QZvyxM1"
      },
      "outputs": [],
      "source": [
        "vectorizer = TfidfVectorizer()\n",
        "vector = vectorizer.fit_transform(train_x['text'])\n",
        "train_x = pd.DataFrame(vector.toarray(), columns=vectorizer.get_feature_names_out(), index=train_x.index)"
      ]
    },
    {
      "cell_type": "code",
      "execution_count": null,
      "id": "LVAUDJJyzCJ8",
      "metadata": {
        "colab": {
          "base_uri": "https://localhost:8080/"
        },
        "id": "LVAUDJJyzCJ8",
        "outputId": "822d026e-3832-4709-dfd8-204e20cb6885"
      },
      "outputs": [],
      "source": [
        "[train_x.shape,train_y.shape]"
      ]
    },
    {
      "cell_type": "code",
      "execution_count": null,
      "id": "4xBzj0WCzvUM",
      "metadata": {
        "id": "4xBzj0WCzvUM"
      },
      "outputs": [],
      "source": [
        "test_df['text'] = test_df['text'].apply(normalizer.decrease_repeated_chars)\n",
        "test_df['text'] = test_df['text'].apply(normalizer.persian_number)\n",
        "test_df['text'] = test_df['text'].apply(normalizer.remove_diacritics)\n",
        "test_df['text'] = test_df['text'].apply(normalizer.correct_spacing)\n",
        "test_df['text'] = test_df['text'].apply(normalizer.normalize)\n",
        "test_df['text'] = test_df['text'].apply(remove_stopwords)\n",
        "test_df['text'] = test_df['text'].apply(remove_chars)\n",
        "test_df['text'] = test_df['text'].apply(Removing_urls_http)\n",
        "test_df['text'] = test_df['text'].apply(lemmatizer.lemmatize)"
      ]
    },
    {
      "cell_type": "code",
      "execution_count": null,
      "id": "Z7Hra25S0D2d",
      "metadata": {
        "id": "Z7Hra25S0D2d"
      },
      "outputs": [],
      "source": [
        "test_df['text'] = test_df['text'].apply(tokenizer.tokenize)\n",
        "test_df['text'] = test_df['text'].apply(normalizer.token_spacing)\n",
        "test_df['text'] = test_df['text'].apply(embed2string)\n",
        "\n",
        "encoded_labels = le.transform(test_df['label'])\n",
        "test_df['label_decoded'] = encoded_labels"
      ]
    },
    {
      "cell_type": "code",
      "execution_count": null,
      "id": "lUIUa-_e0dG0",
      "metadata": {
        "id": "lUIUa-_e0dG0"
      },
      "outputs": [],
      "source": [
        "test_x = test_df.drop('label_decoded', axis=1)\n",
        "test_y = test_df['label_decoded']"
      ]
    },
    {
      "cell_type": "code",
      "execution_count": null,
      "id": "7S_le5820Ud-",
      "metadata": {
        "id": "7S_le5820Ud-"
      },
      "outputs": [],
      "source": [
        "vector2 = vectorizer.transform(test_x['text'])\n",
        "test_x = pd.DataFrame(vector2.toarray(), columns=vectorizer.get_feature_names_out(), index=test_x.index)"
      ]
    },
    {
      "cell_type": "markdown",
      "id": "3XpnXdhBzLUe",
      "metadata": {
        "id": "3XpnXdhBzLUe"
      },
      "source": [
        "## training"
      ]
    },
    {
      "cell_type": "code",
      "execution_count": null,
      "id": "Poc4WZshzFuc",
      "metadata": {
        "id": "Poc4WZshzFuc"
      },
      "outputs": [],
      "source": [
        "from sklearn.decomposition import PCA\n",
        "from sklearn.preprocessing import StandardScaler\n",
        "from sklearn.model_selection import StratifiedKFold, cross_val_score\n",
        "from sklearn.model_selection import GridSearchCV\n",
        "from sklearn.tree import DecisionTreeClassifier\n",
        "from sklearn.ensemble import RandomForestClassifier,ExtraTreesClassifier,HistGradientBoostingClassifier\n",
        "from sklearn.ensemble import GradientBoostingClassifier,AdaBoostClassifier,VotingClassifier\n",
        "from sklearn import svm\n",
        "from sklearn.neighbors import KNeighborsClassifier\n",
        "from sklearn.linear_model import LogisticRegression\n",
        "from xgboost import XGBClassifier"
      ]
    },
    {
      "cell_type": "code",
      "execution_count": null,
      "id": "ms7dJZXazZBl",
      "metadata": {
        "id": "ms7dJZXazZBl"
      },
      "outputs": [],
      "source": [
        "scaler = StandardScaler()\n",
        "X_scaled = scaler.fit_transform(train_x)\n",
        "pca = PCA(n_components=2000)\n",
        "train_x = pca.fit_transform(X_scaled)\n",
        "\n",
        "X_scaled2 = scaler.transform(test_x)\n",
        "test_x = pca.transform(X_scaled2)"
      ]
    },
    {
      "cell_type": "code",
      "execution_count": null,
      "id": "v3yIACKMzeYU",
      "metadata": {
        "id": "v3yIACKMzeYU"
      },
      "outputs": [],
      "source": [
        "from sklearn.metrics import accuracy_score, confusion_matrix, classification_report,f1_score\n",
        "\n",
        "def evaluate(model,Xtrain,Ytrain,Xtest,Ytest):\n",
        "    # Assume y_test are the true labels and y_pred are the predicted labels\n",
        "    model.fit(Xtrain,Ytrain)\n",
        "    y_train_pred = model.predict(Xtrain)\n",
        "    y_test_pred = model.predict(Xtest)\n",
        "\n",
        "    print(\"train report\")\n",
        "    accuracy_train = accuracy_score(Ytrain, y_train_pred)\n",
        "    print(f\"Accuracy: {accuracy_train}\")\n",
        "    weighted_f1_train = f1_score(Ytrain, y_train_pred, average='weighted')\n",
        "    print(f'Weighted-average F1 Score: {weighted_f1_train}')\n",
        "\n",
        "    # Confusion Matrix\n",
        "    cm = confusion_matrix(Ytrain, y_train_pred)\n",
        "    plt.figure(figsize=(5, 4)) # Set the figure size\n",
        "    sns.heatmap(cm, annot=True, fmt='d', xticklabels=le.classes_, yticklabels=le.classes_) # Create a heatmap from the confusion matrix\n",
        "    plt.xlabel('Predicted')\n",
        "    plt.ylabel('True')\n",
        "    plt.title('Confusion Matrix')\n",
        "    plt.show()\n",
        "\n",
        "    # Precision, Recall, F1-score\n",
        "    report = classification_report(Ytrain, y_train_pred, output_dict=True)\n",
        "    colors = ['#ffdfdf', '#dfffff', '#dfffdf', '#dfdfff', '#ffdfff', '#ffffdf']  # Adjust colors as needed\n",
        "\n",
        "    # Prepare data for plotting\n",
        "    metrics = ['precision', 'recall', 'f1-score', 'support']\n",
        "    data = {metric: [] for metric in metrics}\n",
        "    labels = []\n",
        "\n",
        "    # Populate data with class-specific metrics\n",
        "    for cls, metrics_values in report.items():\n",
        "      if cls.isdigit():\n",
        "          labels.append(le.classes_[int(cls)])\n",
        "          for metric in metrics:\n",
        "              data[metric].append(metrics_values.get(metric, None))\n",
        "      elif cls in ['macro avg', 'weighted avg']:\n",
        "          labels.append(cls)\n",
        "          for metric in metrics:\n",
        "              data[metric].append(metrics_values.get(metric, None))\n",
        "\n",
        "\n",
        "    # Convert data to DataFrame\n",
        "    df3 = pd.DataFrame(data, index=labels)\n",
        "\n",
        "    # Create subplots for each metric\n",
        "    fig, axes = plt.subplots(1, len(metrics), figsize=(20, 6), sharey=True)\n",
        "    for ax, metric in zip(axes, metrics):\n",
        "        sns.barplot(hue=df3.index, y=metric, data=df3, ax=ax, legend=False)\n",
        "        ax.set_title(f'{metric.capitalize()} by Class')\n",
        "        ax.set_ylim(0, 1.1)\n",
        "\n",
        "    plt.suptitle(f'classification report for {model.__class__.__name__} ', fontsize=16)\n",
        "    plt.tight_layout()\n",
        "    plt.show()\n",
        "\n",
        "    print(\"\\n\\n\\ntest report\")\n",
        "    accuracy_test = accuracy_score(Ytest, y_test_pred)\n",
        "    print(f\"Accuracy: {accuracy_test}\")\n",
        "    weighted_f1_test = f1_score(Ytest, y_test_pred, average='weighted')\n",
        "    print(f'Weighted-average F1 Score: {weighted_f1_test}')\n",
        "\n",
        "    # Confusion Matrix\n",
        "    cm = confusion_matrix(Ytest, y_test_pred)\n",
        "\n",
        "    plt.figure(figsize=(5, 4)) # Set the figure size\n",
        "    sns.heatmap(cm, annot=True, fmt='d', xticklabels=le.classes_, yticklabels=le.classes_) # Create a heatmap from the confusion matrix\n",
        "    plt.xlabel('Predicted')\n",
        "    plt.ylabel('True')\n",
        "    plt.title('Confusion Matrix')\n",
        "    plt.show()\n",
        "    # Precision, Recall, F1-score\n",
        "    report = classification_report(Ytrain, y_train_pred, output_dict=True)\n",
        "\n",
        "    colors = ['#ffdfdf', '#dfffff', '#dfffdf', '#dfdfff', '#ffdfff', '#ffffdf']  # Adjust colors as needed\n",
        "\n",
        "    # Prepare data for plotting\n",
        "    metrics = ['precision', 'recall', 'f1-score', 'support']\n",
        "    data = {metric: [] for metric in metrics}\n",
        "    labels = []\n",
        "\n",
        "    # Populate data with class-specific metrics\n",
        "    for cls, metrics_values in report.items():\n",
        "      if cls.isdigit():\n",
        "          labels.append(le.classes_[int(cls)])\n",
        "          for metric in metrics:\n",
        "              data[metric].append(metrics_values.get(metric, None))\n",
        "      elif cls in ['macro avg', 'weighted avg']:\n",
        "          labels.append(cls)\n",
        "          for metric in metrics:\n",
        "              data[metric].append(metrics_values.get(metric, None))\n",
        "\n",
        "\n",
        "    # Convert data to DataFrame\n",
        "    df3 = pd.DataFrame(data, index=labels)\n",
        "\n",
        "    # Create subplots for each metric\n",
        "    fig, axes = plt.subplots(1, len(metrics), figsize=(20, 6), sharey=True)\n",
        "    for ax, metric in zip(axes, metrics):\n",
        "        sns.barplot(hue=df3.index, y=metric, data=df3, ax=ax, legend=False)\n",
        "        ax.set_title(f'{metric.capitalize()} by Class')\n",
        "        ax.set_ylim(0, 1.1)\n",
        "\n",
        "    plt.suptitle(f'classification report for {model.__class__.__name__} ', fontsize=16)\n",
        "    plt.tight_layout()\n",
        "    plt.show()\n",
        "\n",
        "    return {\"model\": model.__class__.__name__, \"f1 train\": weighted_f1_train, \"accuracy train\": weighted_f1_train, \"f1 test\": weighted_f1_test, \"accuracy test\": weighted_f1_test}"
      ]
    },
    {
      "cell_type": "code",
      "execution_count": null,
      "id": "TRPa4GRpzkRt",
      "metadata": {
        "colab": {
          "base_uri": "https://localhost:8080/",
          "height": 1000
        },
        "id": "TRPa4GRpzkRt",
        "outputId": "fabc0f3c-0597-4235-bf2a-f95444eeebc1"
      },
      "outputs": [],
      "source": [
        "model = LogisticRegression(random_state=42, solver='saga')\n",
        "evaluate(model,train_x,train_y,test_x,test_y)"
      ]
    },
    {
      "cell_type": "code",
      "execution_count": null,
      "id": "o6m5tYUD1QeE",
      "metadata": {
        "colab": {
          "base_uri": "https://localhost:8080/",
          "height": 1000
        },
        "id": "o6m5tYUD1QeE",
        "outputId": "8af30935-0bfe-4f6c-d257-8dde9002008d"
      },
      "outputs": [],
      "source": [
        "model = svm.SVC(C= 1, kernel='rbf')\n",
        "evaluate(model,train_x,train_y,test_x,test_y)"
      ]
    },
    {
      "cell_type": "code",
      "execution_count": null,
      "id": "_PMs_qiW1TyM",
      "metadata": {
        "id": "_PMs_qiW1TyM"
      },
      "outputs": [],
      "source": []
    }
  ],
  "metadata": {
    "colab": {
      "provenance": []
    },
    "kernelspec": {
      "display_name": "Python 3",
      "name": "python3"
    },
    "language_info": {
      "codemirror_mode": {
        "name": "ipython",
        "version": 3
      },
      "file_extension": ".py",
      "mimetype": "text/x-python",
      "name": "python",
      "nbconvert_exporter": "python",
      "pygments_lexer": "ipython3",
      "version": "3.10.7"
    },
    "widgets": {
      "application/vnd.jupyter.widget-state+json": {
        "06eb0a84b82f4e409f895d76be0f1002": {
          "model_module": "@jupyter-widgets/base",
          "model_module_version": "1.2.0",
          "model_name": "LayoutModel",
          "state": {
            "_model_module": "@jupyter-widgets/base",
            "_model_module_version": "1.2.0",
            "_model_name": "LayoutModel",
            "_view_count": null,
            "_view_module": "@jupyter-widgets/base",
            "_view_module_version": "1.2.0",
            "_view_name": "LayoutView",
            "align_content": null,
            "align_items": null,
            "align_self": null,
            "border": null,
            "bottom": null,
            "display": null,
            "flex": null,
            "flex_flow": null,
            "grid_area": null,
            "grid_auto_columns": null,
            "grid_auto_flow": null,
            "grid_auto_rows": null,
            "grid_column": null,
            "grid_gap": null,
            "grid_row": null,
            "grid_template_areas": null,
            "grid_template_columns": null,
            "grid_template_rows": null,
            "height": null,
            "justify_content": null,
            "justify_items": null,
            "left": null,
            "margin": null,
            "max_height": null,
            "max_width": null,
            "min_height": null,
            "min_width": null,
            "object_fit": null,
            "object_position": null,
            "order": null,
            "overflow": null,
            "overflow_x": null,
            "overflow_y": null,
            "padding": null,
            "right": null,
            "top": null,
            "visibility": null,
            "width": null
          }
        },
        "0bdb51fe5ea44a8f8052f6ac55d13975": {
          "model_module": "@jupyter-widgets/controls",
          "model_module_version": "1.5.0",
          "model_name": "HBoxModel",
          "state": {
            "_dom_classes": [],
            "_model_module": "@jupyter-widgets/controls",
            "_model_module_version": "1.5.0",
            "_model_name": "HBoxModel",
            "_view_count": null,
            "_view_module": "@jupyter-widgets/controls",
            "_view_module_version": "1.5.0",
            "_view_name": "HBoxView",
            "box_style": "",
            "children": [
              "IPY_MODEL_30e1311a8cbb4ea9b2e748f28ed82f24",
              "IPY_MODEL_3fc635f95b1945c18a8c1d3c1531a636",
              "IPY_MODEL_701d31474a2148c4b5faca218c2a882b"
            ],
            "layout": "IPY_MODEL_ac5e65917d194d28abac3c475d1ef521"
          }
        },
        "2e066733e28441ea89975084720bb8e6": {
          "model_module": "@jupyter-widgets/base",
          "model_module_version": "1.2.0",
          "model_name": "LayoutModel",
          "state": {
            "_model_module": "@jupyter-widgets/base",
            "_model_module_version": "1.2.0",
            "_model_name": "LayoutModel",
            "_view_count": null,
            "_view_module": "@jupyter-widgets/base",
            "_view_module_version": "1.2.0",
            "_view_name": "LayoutView",
            "align_content": null,
            "align_items": null,
            "align_self": null,
            "border": null,
            "bottom": null,
            "display": null,
            "flex": null,
            "flex_flow": null,
            "grid_area": null,
            "grid_auto_columns": null,
            "grid_auto_flow": null,
            "grid_auto_rows": null,
            "grid_column": null,
            "grid_gap": null,
            "grid_row": null,
            "grid_template_areas": null,
            "grid_template_columns": null,
            "grid_template_rows": null,
            "height": null,
            "justify_content": null,
            "justify_items": null,
            "left": null,
            "margin": null,
            "max_height": null,
            "max_width": null,
            "min_height": null,
            "min_width": null,
            "object_fit": null,
            "object_position": null,
            "order": null,
            "overflow": null,
            "overflow_x": null,
            "overflow_y": null,
            "padding": null,
            "right": null,
            "top": null,
            "visibility": null,
            "width": null
          }
        },
        "30e1311a8cbb4ea9b2e748f28ed82f24": {
          "model_module": "@jupyter-widgets/controls",
          "model_module_version": "1.5.0",
          "model_name": "HTMLModel",
          "state": {
            "_dom_classes": [],
            "_model_module": "@jupyter-widgets/controls",
            "_model_module_version": "1.5.0",
            "_model_name": "HTMLModel",
            "_view_count": null,
            "_view_module": "@jupyter-widgets/controls",
            "_view_module_version": "1.5.0",
            "_view_name": "HTMLView",
            "description": "",
            "description_tooltip": null,
            "layout": "IPY_MODEL_2e066733e28441ea89975084720bb8e6",
            "placeholder": "​",
            "style": "IPY_MODEL_ac59430f4ee84b829155c2229c986e9b",
            "value": "farsi-dedup-cbow.bin: 100%"
          }
        },
        "3fc635f95b1945c18a8c1d3c1531a636": {
          "model_module": "@jupyter-widgets/controls",
          "model_module_version": "1.5.0",
          "model_name": "FloatProgressModel",
          "state": {
            "_dom_classes": [],
            "_model_module": "@jupyter-widgets/controls",
            "_model_module_version": "1.5.0",
            "_model_name": "FloatProgressModel",
            "_view_count": null,
            "_view_module": "@jupyter-widgets/controls",
            "_view_module_version": "1.5.0",
            "_view_name": "ProgressView",
            "bar_style": "success",
            "description": "",
            "description_tooltip": null,
            "layout": "IPY_MODEL_06eb0a84b82f4e409f895d76be0f1002",
            "max": 4367204039,
            "min": 0,
            "orientation": "horizontal",
            "style": "IPY_MODEL_5d79363faa2548298fa5910dd989e31a",
            "value": 4367204039
          }
        },
        "5d79363faa2548298fa5910dd989e31a": {
          "model_module": "@jupyter-widgets/controls",
          "model_module_version": "1.5.0",
          "model_name": "ProgressStyleModel",
          "state": {
            "_model_module": "@jupyter-widgets/controls",
            "_model_module_version": "1.5.0",
            "_model_name": "ProgressStyleModel",
            "_view_count": null,
            "_view_module": "@jupyter-widgets/base",
            "_view_module_version": "1.2.0",
            "_view_name": "StyleView",
            "bar_color": null,
            "description_width": ""
          }
        },
        "701d31474a2148c4b5faca218c2a882b": {
          "model_module": "@jupyter-widgets/controls",
          "model_module_version": "1.5.0",
          "model_name": "HTMLModel",
          "state": {
            "_dom_classes": [],
            "_model_module": "@jupyter-widgets/controls",
            "_model_module_version": "1.5.0",
            "_model_name": "HTMLModel",
            "_view_count": null,
            "_view_module": "@jupyter-widgets/controls",
            "_view_module_version": "1.5.0",
            "_view_name": "HTMLView",
            "description": "",
            "description_tooltip": null,
            "layout": "IPY_MODEL_7621f5ed1be24e9ca559abf84e55c2f2",
            "placeholder": "​",
            "style": "IPY_MODEL_ca074af08f174e2989312e4e6731e69c",
            "value": " 4.37G/4.37G [01:03&lt;00:00, 122MB/s]"
          }
        },
        "7621f5ed1be24e9ca559abf84e55c2f2": {
          "model_module": "@jupyter-widgets/base",
          "model_module_version": "1.2.0",
          "model_name": "LayoutModel",
          "state": {
            "_model_module": "@jupyter-widgets/base",
            "_model_module_version": "1.2.0",
            "_model_name": "LayoutModel",
            "_view_count": null,
            "_view_module": "@jupyter-widgets/base",
            "_view_module_version": "1.2.0",
            "_view_name": "LayoutView",
            "align_content": null,
            "align_items": null,
            "align_self": null,
            "border": null,
            "bottom": null,
            "display": null,
            "flex": null,
            "flex_flow": null,
            "grid_area": null,
            "grid_auto_columns": null,
            "grid_auto_flow": null,
            "grid_auto_rows": null,
            "grid_column": null,
            "grid_gap": null,
            "grid_row": null,
            "grid_template_areas": null,
            "grid_template_columns": null,
            "grid_template_rows": null,
            "height": null,
            "justify_content": null,
            "justify_items": null,
            "left": null,
            "margin": null,
            "max_height": null,
            "max_width": null,
            "min_height": null,
            "min_width": null,
            "object_fit": null,
            "object_position": null,
            "order": null,
            "overflow": null,
            "overflow_x": null,
            "overflow_y": null,
            "padding": null,
            "right": null,
            "top": null,
            "visibility": null,
            "width": null
          }
        },
        "ac59430f4ee84b829155c2229c986e9b": {
          "model_module": "@jupyter-widgets/controls",
          "model_module_version": "1.5.0",
          "model_name": "DescriptionStyleModel",
          "state": {
            "_model_module": "@jupyter-widgets/controls",
            "_model_module_version": "1.5.0",
            "_model_name": "DescriptionStyleModel",
            "_view_count": null,
            "_view_module": "@jupyter-widgets/base",
            "_view_module_version": "1.2.0",
            "_view_name": "StyleView",
            "description_width": ""
          }
        },
        "ac5e65917d194d28abac3c475d1ef521": {
          "model_module": "@jupyter-widgets/base",
          "model_module_version": "1.2.0",
          "model_name": "LayoutModel",
          "state": {
            "_model_module": "@jupyter-widgets/base",
            "_model_module_version": "1.2.0",
            "_model_name": "LayoutModel",
            "_view_count": null,
            "_view_module": "@jupyter-widgets/base",
            "_view_module_version": "1.2.0",
            "_view_name": "LayoutView",
            "align_content": null,
            "align_items": null,
            "align_self": null,
            "border": null,
            "bottom": null,
            "display": null,
            "flex": null,
            "flex_flow": null,
            "grid_area": null,
            "grid_auto_columns": null,
            "grid_auto_flow": null,
            "grid_auto_rows": null,
            "grid_column": null,
            "grid_gap": null,
            "grid_row": null,
            "grid_template_areas": null,
            "grid_template_columns": null,
            "grid_template_rows": null,
            "height": null,
            "justify_content": null,
            "justify_items": null,
            "left": null,
            "margin": null,
            "max_height": null,
            "max_width": null,
            "min_height": null,
            "min_width": null,
            "object_fit": null,
            "object_position": null,
            "order": null,
            "overflow": null,
            "overflow_x": null,
            "overflow_y": null,
            "padding": null,
            "right": null,
            "top": null,
            "visibility": null,
            "width": null
          }
        },
        "ca074af08f174e2989312e4e6731e69c": {
          "model_module": "@jupyter-widgets/controls",
          "model_module_version": "1.5.0",
          "model_name": "DescriptionStyleModel",
          "state": {
            "_model_module": "@jupyter-widgets/controls",
            "_model_module_version": "1.5.0",
            "_model_name": "DescriptionStyleModel",
            "_view_count": null,
            "_view_module": "@jupyter-widgets/base",
            "_view_module_version": "1.2.0",
            "_view_name": "StyleView",
            "description_width": ""
          }
        }
      }
    }
  },
  "nbformat": 4,
  "nbformat_minor": 5
}
