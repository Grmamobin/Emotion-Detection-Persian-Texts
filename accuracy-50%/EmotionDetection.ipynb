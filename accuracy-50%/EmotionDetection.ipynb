{
 "cells": [
  {
   "cell_type": "markdown",
   "id": "b2346f15",
   "metadata": {},
   "source": [
    "# Emotion Detection with Accuracy 50%"
   ]
  },
  {
   "cell_type": "markdown",
   "id": "d8826125",
   "metadata": {},
   "source": [
    "## Import libraries"
   ]
  },
  {
   "cell_type": "code",
   "execution_count": 3,
   "id": "45e086a1",
   "metadata": {},
   "outputs": [],
   "source": [
    "import numpy as np\n",
    "import pandas as pd\n",
    "import matplotlib.pyplot as plt\n",
    "import seaborn as sns\n",
    "from nltk.corpus import stopwords\n",
    "\n",
    "from lime import lime_text\n",
    "from lime.lime_text import LimeTextExplainer\n",
    "from lime.lime_text import IndexedString,IndexedCharacters\n",
    "from lime.lime_base import LimeBase\n",
    "from lime.lime_text import explanation\n",
    "\n",
    "import re\n",
    "# import nltk\n",
    "import string\n",
    "import fasttext\n",
    "from collections import Counter\n",
    "from imblearn.over_sampling import SMOTE\n",
    "from huggingface_hub import hf_hub_download\n",
    "from nltk.stem import SnowballStemmer, WordNetLemmatizer\n",
    "from hazm import Normalizer, word_tokenize, stopwords_list, Lemmatizer,WordTokenizer\n",
    "from transformers import pipeline\n",
    "from transformers import AutoModelForSequenceClassification, AutoTokenizer\n",
    "\n",
    "# Deep Learning\n",
    "import tensorflow as tf\n",
    "from tensorflow.keras.utils import to_categorical\n",
    "from tensorflow.keras.preprocessing.text import Tokenizer\n",
    "from tensorflow.keras.preprocessing.sequence import pad_sequences\n",
    "from tensorflow.keras.optimizers import Adam\n",
    "from tensorflow.keras.models import Sequential\n",
    "from tensorflow.keras.callbacks import EarlyStopping\n",
    "from tensorflow.keras.layers import Dense, LSTM, Embedding, Bidirectional, Dropout, Masking\n",
    "from tensorflow.keras import backend as K\n",
    "from tensorflow.keras.regularizers import l2\n",
    "from tensorflow.keras.models import load_model\n",
    "\n",
    "# Modelling\n",
    "import xgboost as xgb\n",
    "from sklearn.svm import SVC\n",
    "from sklearn.pipeline import Pipeline\n",
    "from sklearn.model_selection import train_test_split,KFold, GridSearchCV\n",
    "from sklearn.linear_model import LogisticRegression\n",
    "from sklearn.tree import DecisionTreeClassifier\n",
    "from sklearn.ensemble import RandomForestClassifier\n",
    "from sklearn.feature_extraction.text import TfidfVectorizer\n",
    "from sklearn.preprocessing import LabelEncoder\n",
    "from sklearn.utils import class_weight\n",
    "from sklearn.utils.class_weight import compute_class_weight\n",
    "from sklearn.pipeline import make_pipeline\n",
    "from sklearn.metrics import precision_score, recall_score, f1_score, accuracy_score,confusion_matrix, classification_report,f1_score"
   ]
  },
  {
   "cell_type": "code",
   "execution_count": null,
   "id": "f4a20576",
   "metadata": {},
   "outputs": [
    {
     "data": {
      "application/vnd.microsoft.datawrangler.viewer.v0+json": {
       "columns": [
        {
         "name": "index",
         "rawType": "int64",
         "type": "integer"
        },
        {
         "name": "Text",
         "rawType": "object",
         "type": "string"
        },
        {
         "name": "Emotion",
         "rawType": "object",
         "type": "string"
        }
       ],
       "ref": "7251127d-a4c4-4e48-a827-b9ee35f78de0",
       "rows": [
        [
         "0",
         "خیلی کوچیک هستن و سایزشون بدرد نمیخوره میخوام پس بدم",
         "SAD"
        ],
        [
         "1",
         "از صدای پرنده دم دمای صبح متنفرم متنفرم متنفرم",
         "HATE"
        ],
        [
         "2",
         " \"کیفیتش خیلی خوبه با شک خریدم ولی واقعا راضیم بعد از حدود 2 ماه استفاده«متأسفانه باخبر شدیم» که فردی در ایرانشهر به حداقل 41 دختر تجاوز کرده. امیدواریم با همکاری نمایندگان محترم مجلس و دستگاه قضا، دیگه به این راحتی باخبر نشیم.",
         "SAD"
        ],
        [
         "3",
         "چون همش با دوربین ثبت شده ، ایا میشه اعتراض زد؟؟ و اصن تاثیر داره؟ کسی اگه اطلاعی داره ممنون میشم راهنمایی کنید",
         "OTHER"
        ],
        [
         "4",
         "اين وضع ب طرز خنده داري گريه داره ...",
         "SAD"
        ],
        [
         "5",
         "خب من رسما از یک نفر متنفرم،چون از گربه بدش میاد از صبح شروع کرده رو مخ من راه رفتن؛شپش میگیری،کزاز میگیری،کک داره ،درد داره،مرض داره و اینقدر تکرار کرده که تا سرم میخاره میپرم جلوی آینه نگاه میکنم یه وقت شپش نگرفته باشم... عوضی ازش متنفرم بهش گفته بودم منو رو یه چیزی حساس نکن",
         "HATE"
        ],
        [
         "6",
         "داشتم خواب میدیدم یهو توی خواب گفتم بیاین درینک بزنیم خواب ترسناک ببینیم ی پیک زدیم و دقیقا همونطور شد و من با ضربان ۱۱۰ از خواب پریدم و ساعت ۴ صبحه؟ ذهن بیمارتر از منم دیدین؟ ژانر شنگول منگول خوابمو چرا عوض کردم چرااا",
         "FEAR"
        ],
        [
         "7",
         "اصلا ارزش خرید نداره فقط رو مخ میره\"",
         "ANGRY"
        ],
        [
         "8",
         "اونجایه آدمه مفعول ودروغگو...عجب خرایی داریم واقعا...روز روشن میگه شبه!!!اسم اینوچی میشه گذاشت دیگه؟من دسترسی ندارم بهش میخام بگم یه اسمی خودت بگوبرات بذاریم البته آخرش یه ...کش داشته باشه!",
         "ANGRY"
        ],
        [
         "9",
         "من این گوشی رو اعصابم بهم ریخت کوبیدم تودیوار له شده السیدیش اما هنوزم کارمیکنه حرف نداره گوشیش\"",
         "HAPPY"
        ],
        [
         "10",
         "تا این مفسد فی الارض به سزای اعمالش نرسه و ۲۰۰ هزار تومن جریمه نشه من آروم نمی گیریم #سعید_طوسی",
         "ANGRY"
        ],
        [
         "11",
         "فاجعه فقط به زیرگرفتن ختم نشده طبق گزارش پزشکی قانونی، حدود۵۰ تیرساچمهای در #سینه یکی از #شهدای_فاطمیه ثبت شده است. #شهید_محمدحسین_حدادیان #دراویش_داعشی وحشی",
         "SAD"
        ],
        [
         "12",
         "اگر در دولت احمدینژاد اتفاق میافتاد انقدر عصبانی نمیشدم؛ اما باید بگویم سایت و اپ #گودریدز در دولت تدبیر و امید #فیلتر شده است. احسنت آقای #روحانی. احسنت وزیرِ جوان؛ آقای #جهرمی . #goodreads   #وحید_آنلاین",
         "ANGRY"
        ],
        [
         "13",
         "پوست لبمو هرچی میکنم باز کنده میشه و تا ثریا میره. نه اون جور با کیف و لذت. اون جور ترسناک و سوزاننده",
         "FEAR"
        ],
        [
         "14",
         "چرا چهار صبح باید مطلب خوندن درباره آمار تجاوز تو دنیا برام انقدر جذابیت پیدا کنه؟؟",
         "SURPRISE"
        ],
        [
         "15",
         "بچه که بودم خواهرم از بانک که میومد چند ساعتی میخوابید بهش اعتراض میکردم چرا انقد میخوابی میگفت تو دنیا هیچی لذت بخش تر از خواب نیست.. الان به حرفش رسیدم",
         "HAPPY"
        ],
        [
         "16",
         "فردا بالاخره میخوام برم دانشگاه خودمون! اسمشو نبر :)) منتظر کصافط شدن اعصابم توسط کارکنان حراست و خانمهای حجاب هستم",
         "ANGRY"
        ],
        [
         "17",
         "امروز رفتم پیش آقا رضا چاپ اول کتاب خشم و هیاهوی فاکنر رو گذاشته بود تو حراجی کتابش یکسال از بابای من کوچکتره",
         "OTHER"
        ],
        [
         "18",
         " عزیزم مشکل اینجاست که فرهنگمونو باختیم بدم باختیم.",
         "SAD"
        ],
        [
         "19",
         "به نظرم نامه مربوط به #اصلاح_اصلاحات به #سید_محمد_خاتمی صرفا در جهت زدودن افکار و اعمالی است که ما به جریان رقیب انتقاد داریم ولی کسانی با نام اصلاحطلبی اونا رو انجام میدن، وقتی در انتخابات انجمن اسلامی اصلاحطلبِ دانشگاه دست به رد صلاحیت میزنند پس باید این اصلاحات انجامپذیرد.",
         "OTHER"
        ],
        [
         "20",
         "فردا پنجشنبه ۴ بهمن یا ۲۴ ژانویه روز جهانی آموزشه. به همین مناسبت #ما_رنگین_کمانیها تصمیم گرفتیم که با هشتگهای #تو_هم_بگو و خشونت_تحصیلی در این باره بنویسیم. شما هم با هر #گرایش_جنسی و #هویت_جنسیتی میتونین با ما همراه بشید. #همجنسگرا #دوجنسگرا #ترنس #رنگینکمانی",
         "OTHER"
        ],
        [
         "21",
         "لغات و جملات کلیدی برای حفظ آرامش در زندگی: باشه، اینجور خوشم میاد، نه، نه، خوشم نمیاد، هر جور صلاح میدونی، نمیدونم، دوست ندارم جواب بدم، شخصیه، هر جور راحتی، ترجیح میدم که ...",
         "OTHER"
        ],
        [
         "22",
         "میگف بعضیا هم هستن ک دروغ نمیگن ولی فقط همون لحظه رو میگن! مثلا میگن دوستت داررررم واین یعنی الان دوستت دارم برای همین ساعت همین لحظه و فردا؟ نه...",
         "SAD"
        ],
        [
         "23",
         " غلط کرده!!! چنان سونامی خشم ملت آغاز شود که آغا و بیت و نصراله و اسد در این سونامی تکه تکه بشوند!!! حالا متتطر بمانید ! اندکی صبر سحر نزدیک است!",
         "ANGRY"
        ],
        [
         "24",
         "از بیرون چیزی مشخص نبود ولی وقتی بسته رو باز کردم و پایه رو بیرون آوردم دیدم همه جاش رنگ پریدگی داره. الانم نمیدونم قبول می کنن برگشت بدم یا خیر چون بسته بندی باز شده. به نظرم از این تامیین کننده چیزی نخرید",
         "SAD"
        ],
        [
         "25",
         "گریه میکنم اما از غم نیست. ترکیبی هست از شرمندگی و ترس و .. و سبک میشم.",
         "SAD"
        ],
        [
         "26",
         "دربرابرت هیچ نکردیم رب مهلت دهد اول سلامتی شما دوتا بعدخودم خدمت به شما دعای شما که همیشه میترسم از گمراهی های جامعه دعایم کن",
         "FEAR"
        ],
        [
         "27",
         "حامیان نظم موجود:مطمئنی قاتل نبودن؟فتوشاپ نیست؟توباچشم خودت دیدی؟اگر واقعی باشه خوب نیست؟مال دوران خشونت و هرج و مرج سیاسیه!جزو زیاده رویهای خودسرانه بود!برخورددرشرایط جنگی بامتحدین امریکاست!توانقلاب ازاین اتفاقات تلخ میافته!مقصرگروههای مخالفند نه خط امام!لازم باشه بازهم میکنیم.",
         "OTHER"
        ],
        [
         "28",
         "یجادیدم نوشته:شعبده بازلبخند،درکلاه درد...عجب جمله ای،بمن که چسبید،دم اونکه اینونوشته،گرم",
         "HAPPY"
        ],
        [
         "29",
         "انتصاب رئیس جدید قوه قضائیه در آینده نزدیک قطعی است؛ عاجزانه از رئیس تازه نفس میخواهم تا سر و سامانی به نظام اطلاع رسانی فَشَل قوه بدهد؛ شاید تعطیل کردن برخی رسانههای این قوه، مایه تقویت باشد احیای دیدارهای مردمی رئیس وجلوگیری از اظهارات نسنجیده بعضی مسئولان قضایی هم، ضروری است",
         "OTHER"
        ],
        [
         "30",
         "شهریوری به شماره شناسنامه ۷۲۱۷، همینقدر ناشناس برای همه و همینقدر جاودانه برای من تولدت مبارک باشه. البته که همینقدر بی پاسخ میمونم و این تبریک رو نخواهی دید!",
         "SAD"
        ],
        [
         "31",
         "حالا همینا که به گوگوش گیر دادن ب مکرون رئیس جمهور فرانسه میگفتن عجب حرکت خفنی زده با یکی ۲۰ سال بزرگتر از خودش ازدواج کرده ، تازه گوگوش خیلی خوشگل تر و جذاب تر از زن مکرونه",
         "SURPRISE"
        ],
        [
         "32",
         "بعضیا هم از اونور بوم افتادن و سال نو میلادی رو فقط به دوستان مسیحیشون تبریک گفتن!!! سال نو واسه همه و همه جاست عزیز جان :)",
         "OTHER"
        ],
        [
         "33",
         "چقدر خوشحال شدم سرگروه این تیمه تو برنامه شب جمعه من و تو اون دختره نیست... رو اعصابم بود",
         "HAPPY"
        ],
        [
         "34",
         "اعصابم کیری تر از اون چیزیه که فکرشو بکنی",
         "ANGRY"
        ],
        [
         "35",
         "آه، آتش! نکند شعله بگیری زیرا مادرم فاطمه بسیار به در نزدیک است لب نکن باز به نفرین که همه میدانند نالهی سوخته جانان به اثر نزدیک است آخرِ قصهی تلخِ تو ولی شیرین است وعده دادند به ما وقتِ سحر نزدیک است سید علی محمد نقیب #فاطمیه #اللهم_عجل_لولیک_الفرج",
         "SAD"
        ],
        [
         "36",
         "این کلیپ محجبه شدن شاخ های اینستاگرام رو می بینم همش اين جمله میاد تو ذهنم که وقتی می خوای یه چیزیو نابود کنی یا هوشمندانه بهش حمله کن یا احمقانه ازش دفاع کن",
         "OTHER"
        ],
        [
         "37",
         "کاش یه روز که دارم سیگار میکشم یه پیرمرد بیاد بگه پسرم نکش ضرر داره.منم یه نگاه بهش بکنمو بگم باشه و سیگارو زیر پام له کنم.اونم بگه افرین بیا این یه میلیارد مال تو *_*",
         "OTHER"
        ],
        [
         "38",
         "تفریح با خانواده یعنی من گاییده شدن اعصابم را دوست دارم.",
         "ANGRY"
        ],
        [
         "39",
         "شرط می بندم حالا که دیگه در برابر افزایش نرخ ارز و طلا سِر شدیم, مسئولان تو فکرن که چجوری به مردم شوک جدید وارد کنیم تا بیشتر تو احساس بدبختی غرق بشن.",
         "SAD"
        ],
        [
         "40",
         "عزیزان آیا مستندی با موضوع جنگ دیدین که به شدت تکونتون داده باشه؟ #ریتوییت هم بکنین که عالی میشه.",
         "OTHER"
        ],
        [
         "41",
         "من هنوز یادمه. یکی از دلایلی که مردم قشون قشون به خاتمی رای میدادن، ترس از رییس جهور شدن ناطق نوری بود. آدمها عوض میشن. موضع آدمها و سطح استفاده از منطقشون هم همینطور. حتی اگه به خاطر منافع شخصیشون باشه. عوض میشن …",
         "FEAR"
        ],
        [
         "42",
         "لعنت به اون روبالشی که پاکتش روی کار دوخته شده. …",
         "HATE"
        ],
        [
         "43",
         "به توییتر حس خیلی خوبی دارم اینجا خودمم خود واقعیم هیچ ترسی از قضاوت شدن ندارم لزومی برا پنهان کاری نیس لازم نیس حرفامو ( هرچقدم گاهی چرت و رو مخ باشن ) قورت بدم برعکس اینستا که حس میکنم هزار نفر چارچشمی زل زدن بهم ! اینستاگرامم به طرز وحشتناکی تهوع آور شده",
         "HATE"
        ],
        [
         "44",
         "دوستت دارم ولی این ماهِ دی را صبر کن...! کافه گردی ها بماند بعدِ فصلِ امتحان...! صادق ابراهیم زاده",
         "OTHER"
        ],
        [
         "45",
         "چند سال است یک حرکت موذیانهای شروع شده در تطهیر رژیم طاغوت، رژیم پهلوی. هدفش این است که یک جوان امروز بگوید «عجب! اینها آدمهای بدی نبودند، اوضاع بدی نبود؛ پس چرا انقلاب کردید؟». اصلاً همه برمیگردد به مسئله زیر سؤال بردن انقلاب؛ اینها از خارج دارد انجام میگیرد.",
         "OTHER"
        ],
        [
         "46",
         "من سعی کردم در انتخاب کلمات دقت کنم و بخاطر همین از کلمهی «انتقاد» استفاده کردم، یعنی اینکه نظری رو دارم تایید (endorse) میکنم که باهاش موافق هستم، و البته مخالف یک سری از نظرهای دیگه است (بخاطر همین انتقاد)؛ ولی قضاوتی در مورد درستی یا نادرستی هیچکدوم انجام نمیدم. …",
         "OTHER"
        ],
        [
         "47",
         "یه پروژه ی سخت دیگه هم با موفقیت تموم شد . بریم برای سونا و چکوزی که بشوره و ببره :)",
         "HAPPY"
        ],
        [
         "48",
         "کیفیت صداش فوق العادس، فعالیت ورزشی رو هم با نصب نرم افزارهاش تحت نظر میگیره. تو شگفت انگیز مناسبه\"",
         "OTHER"
        ],
        [
         "49",
         "بعد الان که فکر میکنم میبینم رزومه ندم بهتره اصلا ،چون حتی مصاحبه بدم و ... نمیتونم برم فکر کنم! نمیدونما.حالا روش فکر مینمایم:))",
         "OTHER"
        ]
       ],
       "shape": {
        "columns": 2,
        "rows": 6125
       }
      },
      "text/html": [
       "<div>\n",
       "<style scoped>\n",
       "    .dataframe tbody tr th:only-of-type {\n",
       "        vertical-align: middle;\n",
       "    }\n",
       "\n",
       "    .dataframe tbody tr th {\n",
       "        vertical-align: top;\n",
       "    }\n",
       "\n",
       "    .dataframe thead th {\n",
       "        text-align: right;\n",
       "    }\n",
       "</style>\n",
       "<table border=\"1\" class=\"dataframe\">\n",
       "  <thead>\n",
       "    <tr style=\"text-align: right;\">\n",
       "      <th></th>\n",
       "      <th>Text</th>\n",
       "      <th>Emotion</th>\n",
       "    </tr>\n",
       "  </thead>\n",
       "  <tbody>\n",
       "    <tr>\n",
       "      <th>0</th>\n",
       "      <td>خیلی کوچیک هستن و سایزشون بدرد نمیخوره میخوام ...</td>\n",
       "      <td>SAD</td>\n",
       "    </tr>\n",
       "    <tr>\n",
       "      <th>1</th>\n",
       "      <td>از صدای پرنده دم دمای صبح متنفرم متنفرم متنفرم</td>\n",
       "      <td>HATE</td>\n",
       "    </tr>\n",
       "    <tr>\n",
       "      <th>2</th>\n",
       "      <td>\"کیفیتش خیلی خوبه با شک خریدم ولی واقعا راضیم...</td>\n",
       "      <td>SAD</td>\n",
       "    </tr>\n",
       "    <tr>\n",
       "      <th>3</th>\n",
       "      <td>چون همش با دوربین ثبت شده ، ایا میشه اعتراض زد...</td>\n",
       "      <td>OTHER</td>\n",
       "    </tr>\n",
       "    <tr>\n",
       "      <th>4</th>\n",
       "      <td>اين وضع ب طرز خنده داري گريه داره ...</td>\n",
       "      <td>SAD</td>\n",
       "    </tr>\n",
       "    <tr>\n",
       "      <th>...</th>\n",
       "      <td>...</td>\n",
       "      <td>...</td>\n",
       "    </tr>\n",
       "    <tr>\n",
       "      <th>6120</th>\n",
       "      <td>مرحوم پیش بینی آبکی زیاد میکرد     مرحوم عجب آ...</td>\n",
       "      <td>SURPRISE</td>\n",
       "    </tr>\n",
       "    <tr>\n",
       "      <th>6121</th>\n",
       "      <td>کلا عین اعتقادات و توئیت زدناتون ... !!   در ق...</td>\n",
       "      <td>ANGRY</td>\n",
       "    </tr>\n",
       "    <tr>\n",
       "      <th>6122</th>\n",
       "      <td>خب وقتی میگی کسی بیاد مارو بگیره یارو ترس میکن...</td>\n",
       "      <td>FEAR</td>\n",
       "    </tr>\n",
       "    <tr>\n",
       "      <th>6123</th>\n",
       "      <td>همون هارو     مگه آهنگ جدیدای خواننده‌های دهه ...</td>\n",
       "      <td>SURPRISE</td>\n",
       "    </tr>\n",
       "    <tr>\n",
       "      <th>6124</th>\n",
       "      <td>نیم دگیرش چطور حل نیشد</td>\n",
       "      <td>OTHER</td>\n",
       "    </tr>\n",
       "  </tbody>\n",
       "</table>\n",
       "<p>6125 rows × 2 columns</p>\n",
       "</div>"
      ],
      "text/plain": [
       "                                                   Text   Emotion\n",
       "0     خیلی کوچیک هستن و سایزشون بدرد نمیخوره میخوام ...       SAD\n",
       "1        از صدای پرنده دم دمای صبح متنفرم متنفرم متنفرم      HATE\n",
       "2      \"کیفیتش خیلی خوبه با شک خریدم ولی واقعا راضیم...       SAD\n",
       "3     چون همش با دوربین ثبت شده ، ایا میشه اعتراض زد...     OTHER\n",
       "4                 اين وضع ب طرز خنده داري گريه داره ...       SAD\n",
       "...                                                 ...       ...\n",
       "6120  مرحوم پیش بینی آبکی زیاد میکرد     مرحوم عجب آ...  SURPRISE\n",
       "6121  کلا عین اعتقادات و توئیت زدناتون ... !!   در ق...     ANGRY\n",
       "6122  خب وقتی میگی کسی بیاد مارو بگیره یارو ترس میکن...      FEAR\n",
       "6123  همون هارو     مگه آهنگ جدیدای خواننده‌های دهه ...  SURPRISE\n",
       "6124                            نیم دگیرش چطور حل نیشد      OTHER\n",
       "\n",
       "[6125 rows x 2 columns]"
      ]
     },
     "execution_count": 7,
     "metadata": {},
     "output_type": "execute_result"
    }
   ],
   "source": [
    "column_names = ['Text', 'Emotion']\n",
    "\n",
    "train_data = pd.read_csv(\"train.tsv\", delimiter='\\t', header=None, names=column_names, quotechar='\"')\n",
    "test_data = pd.read_csv(\"test.tsv\", delimiter='\\t', header=None, names=column_names, quotechar='\"')\n",
    "train_data"
   ]
  },
  {
   "cell_type": "code",
   "execution_count": null,
   "id": "2fecea25",
   "metadata": {},
   "outputs": [
    {
     "data": {
      "text/plain": [
       "<bound method DataFrame.info of                                                    Text   Emotion\n",
       "0     خیلی کوچیک هستن و سایزشون بدرد نمیخوره میخوام ...       SAD\n",
       "1        از صدای پرنده دم دمای صبح متنفرم متنفرم متنفرم      HATE\n",
       "2      \"کیفیتش خیلی خوبه با شک خریدم ولی واقعا راضیم...       SAD\n",
       "3     چون همش با دوربین ثبت شده ، ایا میشه اعتراض زد...     OTHER\n",
       "4                 اين وضع ب طرز خنده داري گريه داره ...       SAD\n",
       "...                                                 ...       ...\n",
       "6120  مرحوم پیش بینی آبکی زیاد میکرد     مرحوم عجب آ...  SURPRISE\n",
       "6121  کلا عین اعتقادات و توئیت زدناتون ... !!   در ق...     ANGRY\n",
       "6122  خب وقتی میگی کسی بیاد مارو بگیره یارو ترس میکن...      FEAR\n",
       "6123  همون هارو     مگه آهنگ جدیدای خواننده‌های دهه ...  SURPRISE\n",
       "6124                            نیم دگیرش چطور حل نیشد      OTHER\n",
       "\n",
       "[6125 rows x 2 columns]>"
      ]
     },
     "execution_count": 8,
     "metadata": {},
     "output_type": "execute_result"
    }
   ],
   "source": [
    "train_data.info"
   ]
  },
  {
   "cell_type": "code",
   "execution_count": null,
   "id": "731c35af",
   "metadata": {},
   "outputs": [
    {
     "data": {
      "application/vnd.microsoft.datawrangler.viewer.v0+json": {
       "columns": [
        {
         "name": "index",
         "rawType": "object",
         "type": "string"
        },
        {
         "name": "Text",
         "rawType": "object",
         "type": "unknown"
        },
        {
         "name": "Emotion",
         "rawType": "object",
         "type": "unknown"
        }
       ],
       "ref": "9a1f0cf0-8774-4ef3-b84d-822c326e88f0",
       "rows": [
        [
         "count",
         "6125",
         "6125"
        ],
        [
         "unique",
         "6081",
         "7"
        ],
        [
         "top",
         "وحشتناکه ",
         "OTHER"
        ],
        [
         "freq",
         "4",
         "1681"
        ]
       ],
       "shape": {
        "columns": 2,
        "rows": 4
       }
      },
      "text/html": [
       "<div>\n",
       "<style scoped>\n",
       "    .dataframe tbody tr th:only-of-type {\n",
       "        vertical-align: middle;\n",
       "    }\n",
       "\n",
       "    .dataframe tbody tr th {\n",
       "        vertical-align: top;\n",
       "    }\n",
       "\n",
       "    .dataframe thead th {\n",
       "        text-align: right;\n",
       "    }\n",
       "</style>\n",
       "<table border=\"1\" class=\"dataframe\">\n",
       "  <thead>\n",
       "    <tr style=\"text-align: right;\">\n",
       "      <th></th>\n",
       "      <th>Text</th>\n",
       "      <th>Emotion</th>\n",
       "    </tr>\n",
       "  </thead>\n",
       "  <tbody>\n",
       "    <tr>\n",
       "      <th>count</th>\n",
       "      <td>6125</td>\n",
       "      <td>6125</td>\n",
       "    </tr>\n",
       "    <tr>\n",
       "      <th>unique</th>\n",
       "      <td>6081</td>\n",
       "      <td>7</td>\n",
       "    </tr>\n",
       "    <tr>\n",
       "      <th>top</th>\n",
       "      <td>وحشتناکه</td>\n",
       "      <td>OTHER</td>\n",
       "    </tr>\n",
       "    <tr>\n",
       "      <th>freq</th>\n",
       "      <td>4</td>\n",
       "      <td>1681</td>\n",
       "    </tr>\n",
       "  </tbody>\n",
       "</table>\n",
       "</div>"
      ],
      "text/plain": [
       "             Text Emotion\n",
       "count        6125    6125\n",
       "unique       6081       7\n",
       "top     وحشتناکه    OTHER\n",
       "freq            4    1681"
      ]
     },
     "execution_count": 9,
     "metadata": {},
     "output_type": "execute_result"
    }
   ],
   "source": [
    "train_data.describe()"
   ]
  },
  {
   "cell_type": "code",
   "execution_count": null,
   "id": "8c5d439f",
   "metadata": {},
   "outputs": [
    {
     "name": "stdout",
     "output_type": "stream",
     "text": [
      "(6125, 2)\n",
      "(1151, 2)\n"
     ]
    }
   ],
   "source": [
    "print(train_data.shape)\n",
    "print(test_data.shape)"
   ]
  },
  {
   "cell_type": "code",
   "execution_count": null,
   "id": "70caf685",
   "metadata": {},
   "outputs": [
    {
     "data": {
      "application/vnd.microsoft.datawrangler.viewer.v0+json": {
       "columns": [
        {
         "name": "Emotion",
         "rawType": "object",
         "type": "string"
        },
        {
         "name": "count",
         "rawType": "int64",
         "type": "integer"
        }
       ],
       "ref": "13d484f6-a36f-4c7e-85b3-3f04908914d1",
       "rows": [
        [
         "OTHER",
         "1681"
        ],
        [
         "ANGRY",
         "923"
        ],
        [
         "SAD",
         "896"
        ],
        [
         "FEAR",
         "757"
        ],
        [
         "SURPRISE",
         "739"
        ],
        [
         "HAPPY",
         "618"
        ],
        [
         "HATE",
         "511"
        ]
       ],
       "shape": {
        "columns": 1,
        "rows": 7
       }
      },
      "text/plain": [
       "Emotion\n",
       "OTHER       1681\n",
       "ANGRY        923\n",
       "SAD          896\n",
       "FEAR         757\n",
       "SURPRISE     739\n",
       "HAPPY        618\n",
       "HATE         511\n",
       "Name: count, dtype: int64"
      ]
     },
     "execution_count": 11,
     "metadata": {},
     "output_type": "execute_result"
    }
   ],
   "source": [
    "# Check the balance\n",
    "train_data.Emotion.value_counts()"
   ]
  },
  {
   "cell_type": "code",
   "execution_count": null,
   "id": "a56a009f",
   "metadata": {},
   "outputs": [
    {
     "data": {
      "image/png": "[encoded data removed]",
      "text/plain": [
       "<Figure size 800x400 with 1 Axes>"
      ]
     },
     "metadata": {},
     "output_type": "display_data"
    }
   ],
   "source": [
    "plt.figure(figsize=(8,4))\n",
    "sns.countplot(x='Emotion', data=train_data, color='darkcyan');"
   ]
  },
  {
   "cell_type": "code",
   "execution_count": null,
   "id": "cf7addf0",
   "metadata": {},
   "outputs": [
    {
     "name": "stdout",
     "output_type": "stream",
     "text": [
      "Text       0\n",
      "Emotion    0\n",
      "dtype: int64\n",
      "37\n",
      "(6088, 2)\n"
     ]
    }
   ],
   "source": [
    "# NULL values\n",
    "print(train_data.isnull().sum())\n",
    "print(train_data.duplicated().sum())\n",
    "\n",
    "index = train_data[train_data.duplicated() == True].index\n",
    "train_data.drop(index, axis = 0, inplace = True)\n",
    "train_data.reset_index(inplace=True, drop = True)\n",
    "print(train_data.shape)"
   ]
  },
  {
   "cell_type": "code",
   "execution_count": null,
   "id": "9d1e8817",
   "metadata": {},
   "outputs": [
    {
     "data": {
      "application/vnd.microsoft.datawrangler.viewer.v0+json": {
       "columns": [
        {
         "name": "index",
         "rawType": "int64",
         "type": "integer"
        },
        {
         "name": "Text",
         "rawType": "object",
         "type": "string"
        },
        {
         "name": "Emotion",
         "rawType": "object",
         "type": "string"
        }
       ],
       "ref": "06ec4cd0-1c5a-4d67-9324-25261f154dd4",
       "rows": [
        [
         "2538",
         "#NAME?",
         "HATE"
        ],
        [
         "2689",
         "#NAME?",
         "SURPRISE"
        ],
        [
         "3251",
         "#NAME?",
         "HAPPY"
        ],
        [
         "4735",
         "از دخترای باهوش نمیترسن! برعکس این خودشونن که خنگن و دنبال یکی مثل خودشون میگردن   به امید روزی که نسل خنگا تموم بشه ",
         "OTHER"
        ],
        [
         "5018",
         "منم واقعا میترسم....هیچوقت فاز کسی که یه بستنی ساده سفید رو با ولع میخوره نمیفهمم حتما باید یه مزه و رنگی داشته باشه خب اینا چطوری تحمل میکنن ",
         "SURPRISE"
        ],
        [
         "5866",
         "چه جالب ",
         "HAPPY"
        ],
        [
         "5892",
         "اخ گفتی ",
         "SURPRISE"
        ]
       ],
       "shape": {
        "columns": 2,
        "rows": 7
       }
      },
      "text/html": [
       "<div>\n",
       "<style scoped>\n",
       "    .dataframe tbody tr th:only-of-type {\n",
       "        vertical-align: middle;\n",
       "    }\n",
       "\n",
       "    .dataframe tbody tr th {\n",
       "        vertical-align: top;\n",
       "    }\n",
       "\n",
       "    .dataframe thead th {\n",
       "        text-align: right;\n",
       "    }\n",
       "</style>\n",
       "<table border=\"1\" class=\"dataframe\">\n",
       "  <thead>\n",
       "    <tr style=\"text-align: right;\">\n",
       "      <th></th>\n",
       "      <th>Text</th>\n",
       "      <th>Emotion</th>\n",
       "    </tr>\n",
       "  </thead>\n",
       "  <tbody>\n",
       "    <tr>\n",
       "      <th>2538</th>\n",
       "      <td>#NAME?</td>\n",
       "      <td>HATE</td>\n",
       "    </tr>\n",
       "    <tr>\n",
       "      <th>2689</th>\n",
       "      <td>#NAME?</td>\n",
       "      <td>SURPRISE</td>\n",
       "    </tr>\n",
       "    <tr>\n",
       "      <th>3251</th>\n",
       "      <td>#NAME?</td>\n",
       "      <td>HAPPY</td>\n",
       "    </tr>\n",
       "    <tr>\n",
       "      <th>4735</th>\n",
       "      <td>از دخترای باهوش نمیترسن! برعکس این خودشونن که ...</td>\n",
       "      <td>OTHER</td>\n",
       "    </tr>\n",
       "    <tr>\n",
       "      <th>5018</th>\n",
       "      <td>منم واقعا میترسم....هیچوقت فاز کسی که یه بستنی...</td>\n",
       "      <td>SURPRISE</td>\n",
       "    </tr>\n",
       "    <tr>\n",
       "      <th>5866</th>\n",
       "      <td>چه جالب</td>\n",
       "      <td>HAPPY</td>\n",
       "    </tr>\n",
       "    <tr>\n",
       "      <th>5892</th>\n",
       "      <td>اخ گفتی</td>\n",
       "      <td>SURPRISE</td>\n",
       "    </tr>\n",
       "  </tbody>\n",
       "</table>\n",
       "</div>"
      ],
      "text/plain": [
       "                                                   Text   Emotion\n",
       "2538                                             #NAME?      HATE\n",
       "2689                                             #NAME?  SURPRISE\n",
       "3251                                             #NAME?     HAPPY\n",
       "4735  از دخترای باهوش نمیترسن! برعکس این خودشونن که ...     OTHER\n",
       "5018  منم واقعا میترسم....هیچوقت فاز کسی که یه بستنی...  SURPRISE\n",
       "5866                                           چه جالب      HAPPY\n",
       "5892                                           اخ گفتی   SURPRISE"
      ]
     },
     "execution_count": 14,
     "metadata": {},
     "output_type": "execute_result"
    }
   ],
   "source": [
    "# print the rows which duplicated in the text but with different emotions\n",
    "train_data[train_data['Text'].duplicated() == True]"
   ]
  },
  {
   "cell_type": "code",
   "execution_count": null,
   "id": "c89c913f",
   "metadata": {},
   "outputs": [],
   "source": [
    "# Removing duplicated text \n",
    "index = train_data[train_data['Text'].duplicated() == True].index\n",
    "train_data.drop(index, axis = 0, inplace = True)\n",
    "train_data.reset_index(inplace=True, drop = True)"
   ]
  },
  {
   "cell_type": "code",
   "execution_count": null,
   "id": "8cda366c",
   "metadata": {},
   "outputs": [
    {
     "name": "stdout",
     "output_type": "stream",
     "text": [
      "stop_words\n",
      "1     743\n",
      "0     626\n",
      "2     618\n",
      "3     522\n",
      "4     503\n",
      "5     433\n",
      "7     366\n",
      "6     362\n",
      "8     300\n",
      "9     281\n",
      "10    255\n",
      "11    217\n",
      "12    200\n",
      "13    189\n",
      "14    125\n",
      "15    105\n",
      "16     81\n",
      "17     56\n",
      "18     44\n",
      "19     23\n",
      "20     12\n",
      "21      6\n",
      "22      4\n",
      "24      3\n",
      "23      3\n",
      "25      2\n",
      "87      1\n",
      "40      1\n",
      "Name: count, dtype: int64\n"
     ]
    }
   ],
   "source": [
    "# Count the number of stopwords in the data\n",
    "normalizer = Normalizer()\n",
    "lemmatizer = Lemmatizer()\n",
    "persian_stopwords = set(stopwords_list())\n",
    "\n",
    "temp =train_data.copy()\n",
    "temp['stop_words'] = temp['Text'].apply(\n",
    "    lambda x: len(set(str(x).split()) & persian_stopwords)\n",
    ")\n",
    "\n",
    "print(temp['stop_words'].value_counts())"
   ]
  },
  {
   "cell_type": "code",
   "execution_count": null,
   "id": "461da1e1",
   "metadata": {},
   "outputs": [
    {
     "data": {
      "text/plain": [
       "<Axes: ylabel='Frequency'>"
      ]
     },
     "execution_count": 18,
     "metadata": {},
     "output_type": "execute_result"
    },
    {
     "data": {
      "image/png": "[encoded data removed]",
      "text/plain": [
       "<Figure size 640x480 with 1 Axes>"
      ]
     },
     "metadata": {},
     "output_type": "display_data"
    }
   ],
   "source": [
    "# Distribution of stopwords\n",
    "temp['stop_words'].plot(kind= 'hist', color=\"darkCyan\")"
   ]
  },
  {
   "cell_type": "code",
   "execution_count": null,
   "id": "b2951703",
   "metadata": {},
   "outputs": [
    {
     "data": {
      "application/vnd.microsoft.datawrangler.viewer.v0+json": {
       "columns": [
        {
         "name": "Emotion",
         "rawType": "object",
         "type": "string"
        },
        {
         "name": "count",
         "rawType": "int64",
         "type": "integer"
        }
       ],
       "ref": "db1d0d66-485a-474d-9060-6f14e60f3702",
       "rows": [
        [
         "HAPPY",
         "275"
        ],
        [
         "SAD",
         "262"
        ],
        [
         "OTHER",
         "193"
        ],
        [
         "ANGRY",
         "154"
        ],
        [
         "SURPRISE",
         "145"
        ],
        [
         "HATE",
         "65"
        ],
        [
         "FEAR",
         "57"
        ]
       ],
       "shape": {
        "columns": 1,
        "rows": 7
       }
      },
      "text/plain": [
       "Emotion\n",
       "HAPPY       275\n",
       "SAD         262\n",
       "OTHER       193\n",
       "ANGRY       154\n",
       "SURPRISE    145\n",
       "HATE         65\n",
       "FEAR         57\n",
       "Name: count, dtype: int64"
      ]
     },
     "execution_count": 19,
     "metadata": {},
     "output_type": "execute_result"
    }
   ],
   "source": [
    "# Check if the data is balanced or not\n",
    "test_data.Emotion.value_counts()"
   ]
  },
  {
   "cell_type": "code",
   "execution_count": null,
   "id": "58b160f7",
   "metadata": {},
   "outputs": [
    {
     "data": {
      "image/png": "[encoded data removed]",
      "text/plain": [
       "<Figure size 800x400 with 1 Axes>"
      ]
     },
     "metadata": {},
     "output_type": "display_data"
    }
   ],
   "source": [
    "plt.figure(figsize=(8,4))\n",
    "sns.countplot(x='Emotion', data=test_data, color='darkCyan');"
   ]
  },
  {
   "cell_type": "code",
   "execution_count": null,
   "id": "b06a09b8",
   "metadata": {},
   "outputs": [
    {
     "name": "stdout",
     "output_type": "stream",
     "text": [
      "Text       0\n",
      "Emotion    0\n",
      "dtype: int64\n",
      "0\n"
     ]
    }
   ],
   "source": [
    "# Number of null values in each column\n",
    "print(test_data.isnull().sum())\n",
    "# Number of duplicated values \n",
    "print(test_data.duplicated().sum())"
   ]
  },
  {
   "cell_type": "code",
   "execution_count": null,
   "id": "f2d7c99c",
   "metadata": {},
   "outputs": [
    {
     "data": {
      "application/vnd.microsoft.datawrangler.viewer.v0+json": {
       "columns": [
        {
         "name": "index",
         "rawType": "int64",
         "type": "integer"
        },
        {
         "name": "Text",
         "rawType": "object",
         "type": "string"
        },
        {
         "name": "Emotion",
         "rawType": "object",
         "type": "string"
        }
       ],
       "ref": "a699eb8a-fa18-44bd-8396-ee2385bafb4a",
       "rows": [],
       "shape": {
        "columns": 2,
        "rows": 0
       }
      },
      "text/html": [
       "<div>\n",
       "<style scoped>\n",
       "    .dataframe tbody tr th:only-of-type {\n",
       "        vertical-align: middle;\n",
       "    }\n",
       "\n",
       "    .dataframe tbody tr th {\n",
       "        vertical-align: top;\n",
       "    }\n",
       "\n",
       "    .dataframe thead th {\n",
       "        text-align: right;\n",
       "    }\n",
       "</style>\n",
       "<table border=\"1\" class=\"dataframe\">\n",
       "  <thead>\n",
       "    <tr style=\"text-align: right;\">\n",
       "      <th></th>\n",
       "      <th>Text</th>\n",
       "      <th>Emotion</th>\n",
       "    </tr>\n",
       "  </thead>\n",
       "  <tbody>\n",
       "  </tbody>\n",
       "</table>\n",
       "</div>"
      ],
      "text/plain": [
       "Empty DataFrame\n",
       "Columns: [Text, Emotion]\n",
       "Index: []"
      ]
     },
     "execution_count": 22,
     "metadata": {},
     "output_type": "execute_result"
    }
   ],
   "source": [
    "test_data[test_data['Text'].duplicated() == True]"
   ]
  },
  {
   "cell_type": "code",
   "execution_count": null,
   "id": "e0bafb71",
   "metadata": {},
   "outputs": [
    {
     "name": "stdout",
     "output_type": "stream",
     "text": [
      "stop_words\n",
      "7     99\n",
      "6     97\n",
      "5     93\n",
      "4     84\n",
      "3     84\n",
      "2     83\n",
      "9     79\n",
      "10    71\n",
      "11    70\n",
      "8     69\n",
      "12    53\n",
      "14    47\n",
      "1     46\n",
      "15    44\n",
      "13    35\n",
      "16    26\n",
      "0     21\n",
      "17    20\n",
      "18    12\n",
      "19     7\n",
      "20     5\n",
      "21     4\n",
      "22     2\n",
      "Name: count, dtype: int64\n"
     ]
    }
   ],
   "source": [
    "temp = test_data.copy()\n",
    "temp['stop_words'] = temp['Text'].apply(\n",
    "    lambda x: len(set(str(x).split()) & persian_stopwords)\n",
    ")\n",
    "\n",
    "print(temp['stop_words'].value_counts())"
   ]
  },
  {
   "cell_type": "code",
   "execution_count": null,
   "id": "1e58343c",
   "metadata": {},
   "outputs": [
    {
     "data": {
      "text/plain": [
       "<Axes: ylabel='Frequency'>"
      ]
     },
     "execution_count": 24,
     "metadata": {},
     "output_type": "execute_result"
    },
    {
     "data": {
      "image/png": "[encoded data removed]",
      "text/plain": [
       "<Figure size 640x480 with 1 Axes>"
      ]
     },
     "metadata": {},
     "output_type": "display_data"
    }
   ],
   "source": [
    "sns.set(font_scale=1.3)\n",
    "temp['stop_words'].plot(kind= 'hist', color=\"darkCyan\")"
   ]
  },
  {
   "cell_type": "code",
   "execution_count": null,
   "id": "c187824c",
   "metadata": {},
   "outputs": [],
   "source": [
    "def dataframe_difference(df1, df2, which=None):\n",
    "    \"\"\"Find rows which are different between two DataFrames.\"\"\"\n",
    "    \n",
    "    # Combine the two DataFrames using a merge operation, with the\n",
    "    # indicator parameter set to True. This adds a column called _merge\n",
    "    # to the resulting DataFrame, which indicates the source of each row.\n",
    "    comparison_df = df1.merge(\n",
    "        df2,\n",
    "        indicator=True,\n",
    "        how='outer'\n",
    "    )\n",
    "    \n",
    "    # Filter the merged DataFrame based on the value of _merge. If which\n",
    "    # is not specified, return all rows where _merge is not 'both'.\n",
    "    # Otherwise, return all rows where _merge has the specified value\n",
    "    if which is None:\n",
    "        diff_df = comparison_df[comparison_df['_merge'] != 'both']\n",
    "    else:\n",
    "        diff_df = comparison_df[comparison_df['_merge'] == which]\n",
    "        \n",
    "    return diff_df"
   ]
  },
  {
   "cell_type": "code",
   "execution_count": null,
   "id": "7993dea4",
   "metadata": {},
   "outputs": [
    {
     "data": {
      "application/vnd.microsoft.datawrangler.viewer.v0+json": {
       "columns": [
        {
         "name": "index",
         "rawType": "int64",
         "type": "integer"
        },
        {
         "name": "Text",
         "rawType": "object",
         "type": "string"
        },
        {
         "name": "Emotion",
         "rawType": "object",
         "type": "string"
        },
        {
         "name": "_merge",
         "rawType": "category",
         "type": "unknown"
        }
       ],
       "ref": "46a8a3e7-b346-4ec9-b9e8-30b94799db50",
       "rows": [
        [
         "679",
         "19628b15دوستان تو قسمت دوست به دوست کد من رو وارد کنید تا هم ب شما و هم ب من امتیاز بده با هر تراکنشی که من انجام بدم شما هم امتیاز میگیرید",
         "OTHER",
         "both"
        ],
        [
         "3423",
         "در فلزی بسته به بدنه استوانه ای چسب نواری زده شده بود و رنگش هم یک جاهایی پریده بود و بدنه هم قر شده بود . میخواستم به یک بچه هدیه بدم که روم نشد",
         "SAD",
         "both"
        ],
        [
         "3845",
         "روحش شاد و یادش گرامی باد",
         "SAD",
         "both"
        ],
        [
         "5171",
         "من دقیقا از سایت ایکیا چند روز پیش همین کار رو 95 هزار تومان خریدم تازه با تخفیف زدید 200 هزار تومن خنده داره بخدااااا",
         "SURPRISE",
         "both"
        ]
       ],
       "shape": {
        "columns": 3,
        "rows": 4
       }
      },
      "text/html": [
       "<div>\n",
       "<style scoped>\n",
       "    .dataframe tbody tr th:only-of-type {\n",
       "        vertical-align: middle;\n",
       "    }\n",
       "\n",
       "    .dataframe tbody tr th {\n",
       "        vertical-align: top;\n",
       "    }\n",
       "\n",
       "    .dataframe thead th {\n",
       "        text-align: right;\n",
       "    }\n",
       "</style>\n",
       "<table border=\"1\" class=\"dataframe\">\n",
       "  <thead>\n",
       "    <tr style=\"text-align: right;\">\n",
       "      <th></th>\n",
       "      <th>Text</th>\n",
       "      <th>Emotion</th>\n",
       "      <th>_merge</th>\n",
       "    </tr>\n",
       "  </thead>\n",
       "  <tbody>\n",
       "    <tr>\n",
       "      <th>679</th>\n",
       "      <td>19628b15دوستان تو قسمت دوست به دوست کد من رو و...</td>\n",
       "      <td>OTHER</td>\n",
       "      <td>both</td>\n",
       "    </tr>\n",
       "    <tr>\n",
       "      <th>3423</th>\n",
       "      <td>در فلزی بسته به بدنه استوانه ای چسب نواری زده ...</td>\n",
       "      <td>SAD</td>\n",
       "      <td>both</td>\n",
       "    </tr>\n",
       "    <tr>\n",
       "      <th>3845</th>\n",
       "      <td>روحش شاد و یادش گرامی باد</td>\n",
       "      <td>SAD</td>\n",
       "      <td>both</td>\n",
       "    </tr>\n",
       "    <tr>\n",
       "      <th>5171</th>\n",
       "      <td>من دقیقا از سایت ایکیا چند روز پیش همین کار رو...</td>\n",
       "      <td>SURPRISE</td>\n",
       "      <td>both</td>\n",
       "    </tr>\n",
       "  </tbody>\n",
       "</table>\n",
       "</div>"
      ],
      "text/plain": [
       "                                                   Text   Emotion _merge\n",
       "679   19628b15دوستان تو قسمت دوست به دوست کد من رو و...     OTHER   both\n",
       "3423  در فلزی بسته به بدنه استوانه ای چسب نواری زده ...       SAD   both\n",
       "3845                          روحش شاد و یادش گرامی باد       SAD   both\n",
       "5171  من دقیقا از سایت ایکیا چند روز پیش همین کار رو...  SURPRISE   both"
      ]
     },
     "execution_count": 26,
     "metadata": {},
     "output_type": "execute_result"
    }
   ],
   "source": [
    "dataframe_difference(train_data, test_data, which='both')"
   ]
  },
  {
   "cell_type": "markdown",
   "id": "cfb0bf69",
   "metadata": {},
   "source": [
    "## Cleaning"
   ]
  },
  {
   "cell_type": "code",
   "execution_count": null,
   "id": "4f79a699",
   "metadata": {},
   "outputs": [],
   "source": [
    "normalizer = Normalizer()\n",
    "lemmatizer = Lemmatizer()\n",
    "persian_stopwords = set(stopwords_list())\n",
    "\n",
    "def remove_stop_words(text):\n",
    "    words = [i for i in str(text).split() if i not in persian_stopwords]\n",
    "    return \" \".join(words)\n",
    "\n",
    "def remove_numbers(text):\n",
    "    return ''.join([i for i in text if not i.isdigit()])\n",
    "\n",
    "def to_lower_case(text):\n",
    "    return \" \".join([word.lower() for word in str(text).split()])\n",
    "\n",
    "def remove_punctuations(text):\n",
    "    text = re.sub('[%s]' % re.escape(\"\"\"!\"#$%&'()*+,،-./:;<=>؟?@[\\]^_`{|}~\"\"\"), ' ', text)\n",
    "    text = text.replace('؛', '')\n",
    "    text = re.sub('\\s+', ' ', text)\n",
    "    return text.strip()\n",
    "\n",
    "def remove_urls(text):\n",
    "    url_pattern = re.compile(r'https?://\\S+|www\\.\\S+')\n",
    "    return url_pattern.sub(r'', text)\n",
    "\n",
    "def hazm_preprocess(text):\n",
    "    text = normalizer.decrease_repeated_chars(text)\n",
    "    text = normalizer.persian_number(text)\n",
    "    text = normalizer.remove_diacritics(text)\n",
    "    text = normalizer.correct_spacing(text)\n",
    "    text = normalizer.normalize(text)\n",
    "    return text\n",
    "\n",
    "def hazm_lemmatize(text):\n",
    "    return lemmatizer.lemmatize(text)\n",
    "\n",
    "def normalized_sentence(sentence):\n",
    "    sentence = str(sentence)\n",
    "    sentence = to_lower_case(sentence)\n",
    "    sentence = hazm_preprocess(sentence)\n",
    "    sentence = remove_urls(sentence)\n",
    "    sentence = remove_punctuations(sentence)\n",
    "    sentence = remove_numbers(sentence)\n",
    "    sentence = remove_stop_words(sentence)\n",
    "    sentence = hazm_lemmatize(sentence)\n",
    "    return sentence\n",
    "\n",
    "def normalize_text(df):\n",
    "    df['Text'] = df['Text'].astype(str)\n",
    "    df['Text'] = df['Text'].apply(to_lower_case)\n",
    "    df['Text'] = df['Text'].apply(hazm_preprocess)\n",
    "    df['Text'] = df['Text'].apply(remove_urls)\n",
    "    df['Text'] = df['Text'].apply(remove_punctuations)\n",
    "    df['Text'] = df['Text'].apply(remove_numbers)\n",
    "    df['Text'] = df['Text'].apply(remove_stop_words)\n",
    "    df['Text'] = df['Text'].apply(hazm_lemmatize)\n",
    "\n",
    "    return df\n",
    "\n",
    "def remove_small_sentences(df):\n",
    "    df['Text'] = df['Text'].apply(lambda x: np.nan if len(str(x).split()) < 3 else x)"
   ]
  },
  {
   "cell_type": "code",
   "execution_count": null,
   "id": "e9420b95",
   "metadata": {},
   "outputs": [],
   "source": [
    "train_data= normalize_text(train_data)\n",
    "test_data= normalize_text(test_data)"
   ]
  },
  {
   "cell_type": "code",
   "execution_count": null,
   "id": "0e3b0200",
   "metadata": {},
   "outputs": [
    {
     "data": {
      "image/png": "[encoded data removed]",
      "text/plain": [
       "<Figure size 1000x600 with 1 Axes>"
      ]
     },
     "metadata": {},
     "output_type": "display_data"
    }
   ],
   "source": [
    "df = train_data \n",
    "\n",
    "plt.figure(figsize=(10,6))\n",
    "sns.countplot(data=df, x='Emotion', hue='Emotion', order=df['Emotion'].value_counts().index, palette='crest',legend=False)\n",
    "plt.title('Distribution of Emotion Classes')\n",
    "plt.xlabel('Emotion')\n",
    "plt.ylabel('Count')\n",
    "plt.xticks(rotation=45)\n",
    "plt.show()"
   ]
  },
  {
   "cell_type": "code",
   "execution_count": null,
   "id": "0736a00a",
   "metadata": {},
   "outputs": [],
   "source": [
    "normalizer = Normalizer()\n",
    "tokenizer = WordTokenizer()\n",
    "\n",
    "def preprocess(text):\n",
    "    text = normalizer.normalize(str(text))\n",
    "    tokens = tokenizer.tokenize(text)\n",
    "    return tokens\n",
    "\n",
    "df['tokens'] = df['Text'].apply(preprocess)\n"
   ]
  },
  {
   "cell_type": "code",
   "execution_count": null,
   "id": "f06bf297",
   "metadata": {},
   "outputs": [
    {
     "data": {
      "image/png": "[encoded data removed]",
      "text/plain": [
       "<Figure size 1000x600 with 1 Axes>"
      ]
     },
     "metadata": {},
     "output_type": "display_data"
    }
   ],
   "source": [
    "df['text_length'] = df['tokens'].apply(len)\n",
    "\n",
    "plt.figure(figsize=(10,6))\n",
    "sns.histplot(df['text_length'], bins=30, kde=True, color='darkCyan')\n",
    "plt.title('Distribution of Sentence Lengths (Tokens)')\n",
    "plt.xlabel('Number of Tokens')\n",
    "plt.ylabel('Frequency')\n",
    "plt.show()\n"
   ]
  },
  {
   "cell_type": "code",
   "execution_count": null,
   "id": "674461b5",
   "metadata": {},
   "outputs": [
    {
     "data": {
      "image/png": "[encoded data removed]",
      "text/plain": [
       "<Figure size 1000x600 with 1 Axes>"
      ]
     },
     "metadata": {},
     "output_type": "display_data"
    }
   ],
   "source": [
    "all_tokens = [token for tokens in df['tokens'] for token in tokens]\n",
    "most_common = Counter(all_tokens).most_common(20)\n",
    "\n",
    "words, freqs = zip(*most_common)\n",
    "plt.figure(figsize=(10,6))\n",
    "sns.barplot(x=list(freqs), y=list(words), color='darkCyan',legend=False)\n",
    "plt.title('Most Frequent Words in Dataset')\n",
    "plt.xlabel('Frequency')\n",
    "plt.ylabel('Word')\n",
    "plt.show()\n"
   ]
  },
  {
   "cell_type": "markdown",
   "id": "9a7ff932",
   "metadata": {},
   "source": [
    "## Modeling"
   ]
  },
  {
   "cell_type": "code",
   "execution_count": null,
   "id": "10aa877d",
   "metadata": {},
   "outputs": [],
   "source": [
    "X_train = train_data['Text'].values\n",
    "y_train = train_data['Emotion'].values\n",
    "\n",
    "X_test = test_data['Text'].values\n",
    "y_test = test_data['Emotion'].values"
   ]
  },
  {
   "cell_type": "code",
   "execution_count": null,
   "id": "93cd4308",
   "metadata": {},
   "outputs": [],
   "source": [
    "X_train, X_val, y_train, y_val = train_test_split(\n",
    "    X_train, y_train,\n",
    "    test_size=0.2,\n",
    "    stratify=y_train,\n",
    "    random_state=42\n",
    ")"
   ]
  },
  {
   "cell_type": "code",
   "execution_count": null,
   "id": "a05f7ff4",
   "metadata": {},
   "outputs": [],
   "source": [
    "# Encode labels\n",
    "le = LabelEncoder()\n",
    "y_train_encoded = le.fit_transform(y_train)\n",
    "y_val_encoded = le.transform(y_val)\n",
    "y_test_encoded = le.transform(y_test)"
   ]
  },
  {
   "cell_type": "code",
   "execution_count": null,
   "id": "298f0def",
   "metadata": {},
   "outputs": [],
   "source": [
    "# Vectorize training data first\n",
    "tfidf = TfidfVectorizer(ngram_range=(1,2), max_df=0.9, min_df=5, max_features=5000)\n",
    "X_train_tfidf = tfidf.fit_transform(X_train)\n",
    "\n",
    "sm = SMOTE(random_state=42)\n",
    "X_train_resampled, y_train_resampled = sm.fit_resample(X_train_tfidf, y_train_encoded)"
   ]
  },
  {
   "cell_type": "code",
   "execution_count": null,
   "id": "a9702efd",
   "metadata": {},
   "outputs": [],
   "source": [
    "def train_model(model, data, targets):\n",
    "    \"\"\"\n",
    "    Train a model on the given data and targets.\n",
    "    \n",
    "    Parameters:\n",
    "    model (sklearn model): The model to be trained.\n",
    "    data (list of str): The input data.\n",
    "    targets (list of str): The targets.\n",
    "    \n",
    "    Returns:\n",
    "    Pipeline: The trained model as a Pipeline object.\n",
    "    \"\"\"\n",
    "    text_clf = Pipeline([\n",
    "        ('clf', model)\n",
    "    ])\n",
    "    text_clf.fit(data, targets)\n",
    "    return text_clf"
   ]
  },
  {
   "cell_type": "code",
   "execution_count": null,
   "id": "31e775bf",
   "metadata": {},
   "outputs": [],
   "source": [
    "def get_F1(true,pred):\n",
    "    \"\"\"\n",
    "    Get the F1 score for the given model on the given data and targets.\n",
    "    \n",
    "    Parameters:\n",
    "    trained_model (sklearn model): The trained model.\n",
    "    X (list of str): The input data.\n",
    "    y (list of str): The targets.\n",
    "    \n",
    "    Returns:\n",
    "    array: The F1 score for each class.\n",
    "    \"\"\"\n",
    "    # Calculate the F1 score for the predictions\n",
    "    return f1_score(true, pred, average='weighted')"
   ]
  },
  {
   "cell_type": "code",
   "execution_count": null,
   "id": "84fb61cb",
   "metadata": {},
   "outputs": [],
   "source": [
    "log_reg = train_model(\n",
    "    LogisticRegression(max_iter=1000, solver='liblinear', class_weight='balanced', random_state=0),\n",
    "    X_train_resampled,\n",
    "    y_train_resampled\n",
    ")\n",
    "\n",
    "X_test_tfidf = tfidf.transform(X_test)"
   ]
  },
  {
   "cell_type": "code",
   "execution_count": null,
   "id": "7961c44c",
   "metadata": {},
   "outputs": [
    {
     "name": "stdout",
     "output_type": "stream",
     "text": [
      "Accuracy:  0.4474370112945265 \n",
      "\n"
     ]
    },
    {
     "data": {
      "application/vnd.microsoft.datawrangler.viewer.v0+json": {
       "columns": [
        {
         "name": "index",
         "rawType": "object",
         "type": "string"
        },
        {
         "name": "F1 score",
         "rawType": "float64",
         "type": "float"
        }
       ],
       "ref": "ec5c3a13-fe07-44e3-ad78-119ce7f0227f",
       "rows": [
        [
         "ANGRY",
         "0.4404639359157557"
        ],
        [
         "FEAR",
         "0.4404639359157557"
        ],
        [
         "HAPPY",
         "0.4404639359157557"
        ],
        [
         "HATE",
         "0.4404639359157557"
        ],
        [
         "OTHER",
         "0.4404639359157557"
        ],
        [
         "SAD",
         "0.4404639359157557"
        ],
        [
         "SURPRISE",
         "0.4404639359157557"
        ]
       ],
       "shape": {
        "columns": 1,
        "rows": 7
       }
      },
      "text/html": [
       "<div>\n",
       "<style scoped>\n",
       "    .dataframe tbody tr th:only-of-type {\n",
       "        vertical-align: middle;\n",
       "    }\n",
       "\n",
       "    .dataframe tbody tr th {\n",
       "        vertical-align: top;\n",
       "    }\n",
       "\n",
       "    .dataframe thead th {\n",
       "        text-align: right;\n",
       "    }\n",
       "</style>\n",
       "<table border=\"1\" class=\"dataframe\">\n",
       "  <thead>\n",
       "    <tr style=\"text-align: right;\">\n",
       "      <th></th>\n",
       "      <th>F1 score</th>\n",
       "    </tr>\n",
       "  </thead>\n",
       "  <tbody>\n",
       "    <tr>\n",
       "      <th>ANGRY</th>\n",
       "      <td>0.440464</td>\n",
       "    </tr>\n",
       "    <tr>\n",
       "      <th>FEAR</th>\n",
       "      <td>0.440464</td>\n",
       "    </tr>\n",
       "    <tr>\n",
       "      <th>HAPPY</th>\n",
       "      <td>0.440464</td>\n",
       "    </tr>\n",
       "    <tr>\n",
       "      <th>HATE</th>\n",
       "      <td>0.440464</td>\n",
       "    </tr>\n",
       "    <tr>\n",
       "      <th>OTHER</th>\n",
       "      <td>0.440464</td>\n",
       "    </tr>\n",
       "    <tr>\n",
       "      <th>SAD</th>\n",
       "      <td>0.440464</td>\n",
       "    </tr>\n",
       "    <tr>\n",
       "      <th>SURPRISE</th>\n",
       "      <td>0.440464</td>\n",
       "    </tr>\n",
       "  </tbody>\n",
       "</table>\n",
       "</div>"
      ],
      "text/plain": [
       "          F1 score\n",
       "ANGRY     0.440464\n",
       "FEAR      0.440464\n",
       "HAPPY     0.440464\n",
       "HATE      0.440464\n",
       "OTHER     0.440464\n",
       "SAD       0.440464\n",
       "SURPRISE  0.440464"
      ]
     },
     "execution_count": 40,
     "metadata": {},
     "output_type": "execute_result"
    }
   ],
   "source": [
    "y_pred_lr = log_reg.predict(X_test_tfidf)\n",
    "\n",
    "#calculate the accuracy\n",
    "log_reg_accuracy = accuracy_score(y_test_encoded, y_pred_lr)\n",
    "print('Accuracy: ', log_reg_accuracy,'\\n')\n",
    "\n",
    "#calculate the F1 score\n",
    "f1_lr = get_F1(y_test_encoded, y_pred_lr)\n",
    "pd.DataFrame(f1_lr, index=le.classes_, columns=['F1 score'])"
   ]
  },
  {
   "cell_type": "code",
   "execution_count": null,
   "id": "c31ec877",
   "metadata": {},
   "outputs": [
    {
     "name": "stdout",
     "output_type": "stream",
     "text": [
      "              precision    recall  f1-score   support\n",
      "\n",
      "       ANGRY       0.45      0.31      0.36       154\n",
      "        FEAR       0.62      0.67      0.64        57\n",
      "       HAPPY       0.59      0.37      0.45       275\n",
      "        HATE       0.22      0.11      0.14        65\n",
      "       OTHER       0.30      0.66      0.41       193\n",
      "         SAD       0.53      0.60      0.56       262\n",
      "    SURPRISE       0.59      0.27      0.37       145\n",
      "\n",
      "    accuracy                           0.45      1151\n",
      "   macro avg       0.47      0.42      0.42      1151\n",
      "weighted avg       0.49      0.45      0.44      1151\n",
      "\n"
     ]
    }
   ],
   "source": [
    "print(classification_report(y_test_encoded, y_pred_lr, target_names=le.classes_))"
   ]
  },
  {
   "cell_type": "code",
   "execution_count": null,
   "id": "f5f32625",
   "metadata": {},
   "outputs": [
    {
     "name": "stdout",
     "output_type": "stream",
     "text": [
      "Accuracy:  0.3631624674196351 \n",
      "\n"
     ]
    },
    {
     "data": {
      "application/vnd.microsoft.datawrangler.viewer.v0+json": {
       "columns": [
        {
         "name": "index",
         "rawType": "object",
         "type": "string"
        },
        {
         "name": "F1 score",
         "rawType": "float64",
         "type": "float"
        }
       ],
       "ref": "45a35e60-76cf-4314-baf1-7e29c314ee69",
       "rows": [
        [
         "ANGRY",
         "0.3560045026682208"
        ],
        [
         "FEAR",
         "0.3560045026682208"
        ],
        [
         "HAPPY",
         "0.3560045026682208"
        ],
        [
         "HATE",
         "0.3560045026682208"
        ],
        [
         "OTHER",
         "0.3560045026682208"
        ],
        [
         "SAD",
         "0.3560045026682208"
        ],
        [
         "SURPRISE",
         "0.3560045026682208"
        ]
       ],
       "shape": {
        "columns": 1,
        "rows": 7
       }
      },
      "text/html": [
       "<div>\n",
       "<style scoped>\n",
       "    .dataframe tbody tr th:only-of-type {\n",
       "        vertical-align: middle;\n",
       "    }\n",
       "\n",
       "    .dataframe tbody tr th {\n",
       "        vertical-align: top;\n",
       "    }\n",
       "\n",
       "    .dataframe thead th {\n",
       "        text-align: right;\n",
       "    }\n",
       "</style>\n",
       "<table border=\"1\" class=\"dataframe\">\n",
       "  <thead>\n",
       "    <tr style=\"text-align: right;\">\n",
       "      <th></th>\n",
       "      <th>F1 score</th>\n",
       "    </tr>\n",
       "  </thead>\n",
       "  <tbody>\n",
       "    <tr>\n",
       "      <th>ANGRY</th>\n",
       "      <td>0.356005</td>\n",
       "    </tr>\n",
       "    <tr>\n",
       "      <th>FEAR</th>\n",
       "      <td>0.356005</td>\n",
       "    </tr>\n",
       "    <tr>\n",
       "      <th>HAPPY</th>\n",
       "      <td>0.356005</td>\n",
       "    </tr>\n",
       "    <tr>\n",
       "      <th>HATE</th>\n",
       "      <td>0.356005</td>\n",
       "    </tr>\n",
       "    <tr>\n",
       "      <th>OTHER</th>\n",
       "      <td>0.356005</td>\n",
       "    </tr>\n",
       "    <tr>\n",
       "      <th>SAD</th>\n",
       "      <td>0.356005</td>\n",
       "    </tr>\n",
       "    <tr>\n",
       "      <th>SURPRISE</th>\n",
       "      <td>0.356005</td>\n",
       "    </tr>\n",
       "  </tbody>\n",
       "</table>\n",
       "</div>"
      ],
      "text/plain": [
       "          F1 score\n",
       "ANGRY     0.356005\n",
       "FEAR      0.356005\n",
       "HAPPY     0.356005\n",
       "HATE      0.356005\n",
       "OTHER     0.356005\n",
       "SAD       0.356005\n",
       "SURPRISE  0.356005"
      ]
     },
     "execution_count": 42,
     "metadata": {},
     "output_type": "execute_result"
    }
   ],
   "source": [
    "X_train_tfidf_orig = tfidf.transform(X_train)\n",
    "\n",
    "DT = train_model(DecisionTreeClassifier(random_state=0), X_train_tfidf_orig, y_train_encoded)\n",
    "y_pred_dt = DT.predict(X_test_tfidf)\n",
    "\n",
    "DT_accuracy =accuracy_score(y_test_encoded, y_pred_dt)\n",
    "print('Accuracy: ', DT_accuracy,'\\n')\n",
    "\n",
    "f1_dt = get_F1(y_test_encoded, y_pred_dt)\n",
    "pd.DataFrame(f1_dt, index=le.classes_, columns=['F1 score'])"
   ]
  },
  {
   "cell_type": "code",
   "execution_count": null,
   "id": "66441f51",
   "metadata": {},
   "outputs": [
    {
     "name": "stdout",
     "output_type": "stream",
     "text": [
      "              precision    recall  f1-score   support\n",
      "\n",
      "       ANGRY       0.35      0.31      0.33       154\n",
      "        FEAR       0.50      0.63      0.56        57\n",
      "       HAPPY       0.48      0.21      0.30       275\n",
      "        HATE       0.26      0.17      0.21        65\n",
      "       OTHER       0.26      0.59      0.36       193\n",
      "         SAD       0.43      0.43      0.43       262\n",
      "    SURPRISE       0.51      0.27      0.35       145\n",
      "\n",
      "    accuracy                           0.36      1151\n",
      "   macro avg       0.40      0.37      0.36      1151\n",
      "weighted avg       0.41      0.36      0.36      1151\n",
      "\n"
     ]
    }
   ],
   "source": [
    "##Classification Report\n",
    "print(classification_report(y_test_encoded, y_pred_dt, target_names=le.classes_))"
   ]
  },
  {
   "cell_type": "code",
   "execution_count": null,
   "id": "5762139f",
   "metadata": {},
   "outputs": [
    {
     "name": "stdout",
     "output_type": "stream",
     "text": [
      "Accuracy:  0.45004344048653344 \n",
      "\n"
     ]
    },
    {
     "data": {
      "application/vnd.microsoft.datawrangler.viewer.v0+json": {
       "columns": [
        {
         "name": "index",
         "rawType": "object",
         "type": "string"
        },
        {
         "name": "F1 score",
         "rawType": "float64",
         "type": "float"
        }
       ],
       "ref": "caab040b-aac6-4d12-beb5-d4f5d4016084",
       "rows": [
        [
         "ANGRY",
         "0.4444684972416236"
        ],
        [
         "FEAR",
         "0.4444684972416236"
        ],
        [
         "HAPPY",
         "0.4444684972416236"
        ],
        [
         "HATE",
         "0.4444684972416236"
        ],
        [
         "OTHER",
         "0.4444684972416236"
        ],
        [
         "SAD",
         "0.4444684972416236"
        ],
        [
         "SURPRISE",
         "0.4444684972416236"
        ]
       ],
       "shape": {
        "columns": 1,
        "rows": 7
       }
      },
      "text/html": [
       "<div>\n",
       "<style scoped>\n",
       "    .dataframe tbody tr th:only-of-type {\n",
       "        vertical-align: middle;\n",
       "    }\n",
       "\n",
       "    .dataframe tbody tr th {\n",
       "        vertical-align: top;\n",
       "    }\n",
       "\n",
       "    .dataframe thead th {\n",
       "        text-align: right;\n",
       "    }\n",
       "</style>\n",
       "<table border=\"1\" class=\"dataframe\">\n",
       "  <thead>\n",
       "    <tr style=\"text-align: right;\">\n",
       "      <th></th>\n",
       "      <th>F1 score</th>\n",
       "    </tr>\n",
       "  </thead>\n",
       "  <tbody>\n",
       "    <tr>\n",
       "      <th>ANGRY</th>\n",
       "      <td>0.444468</td>\n",
       "    </tr>\n",
       "    <tr>\n",
       "      <th>FEAR</th>\n",
       "      <td>0.444468</td>\n",
       "    </tr>\n",
       "    <tr>\n",
       "      <th>HAPPY</th>\n",
       "      <td>0.444468</td>\n",
       "    </tr>\n",
       "    <tr>\n",
       "      <th>HATE</th>\n",
       "      <td>0.444468</td>\n",
       "    </tr>\n",
       "    <tr>\n",
       "      <th>OTHER</th>\n",
       "      <td>0.444468</td>\n",
       "    </tr>\n",
       "    <tr>\n",
       "      <th>SAD</th>\n",
       "      <td>0.444468</td>\n",
       "    </tr>\n",
       "    <tr>\n",
       "      <th>SURPRISE</th>\n",
       "      <td>0.444468</td>\n",
       "    </tr>\n",
       "  </tbody>\n",
       "</table>\n",
       "</div>"
      ],
      "text/plain": [
       "          F1 score\n",
       "ANGRY     0.444468\n",
       "FEAR      0.444468\n",
       "HAPPY     0.444468\n",
       "HATE      0.444468\n",
       "OTHER     0.444468\n",
       "SAD       0.444468\n",
       "SURPRISE  0.444468"
      ]
     },
     "execution_count": 44,
     "metadata": {},
     "output_type": "execute_result"
    }
   ],
   "source": [
    "SVM = train_model(SVC(C=1.0, kernel='linear', probability=True,class_weight='balanced'), X_train_tfidf, y_train_encoded)\n",
    "\n",
    "y_pred_svm = SVM.predict(X_test_tfidf)\n",
    "\n",
    "SVM_accuracy = accuracy_score(y_test_encoded, y_pred_svm)\n",
    "print('Accuracy: ', SVM_accuracy,'\\n')\n",
    "\n",
    "f1_Score = get_F1(y_test_encoded, y_pred_svm)\n",
    "pd.DataFrame(f1_Score, index=le.classes_, columns=['F1 score'])"
   ]
  },
  {
   "cell_type": "code",
   "execution_count": null,
   "id": "ba8eb526",
   "metadata": {},
   "outputs": [
    {
     "name": "stdout",
     "output_type": "stream",
     "text": [
      "              precision    recall  f1-score   support\n",
      "\n",
      "       ANGRY       0.48      0.39      0.43       154\n",
      "        FEAR       0.69      0.61      0.65        57\n",
      "       HAPPY       0.62      0.39      0.48       275\n",
      "        HATE       0.19      0.09      0.12        65\n",
      "       OTHER       0.30      0.65      0.41       193\n",
      "         SAD       0.50      0.58      0.54       262\n",
      "    SURPRISE       0.60      0.23      0.34       145\n",
      "\n",
      "    accuracy                           0.45      1151\n",
      "   macro avg       0.48      0.42      0.42      1151\n",
      "weighted avg       0.50      0.45      0.44      1151\n",
      "\n"
     ]
    }
   ],
   "source": [
    "##Classification Report\n",
    "print(classification_report(y_test_encoded, y_pred_svm, target_names=le.classes_))"
   ]
  },
  {
   "cell_type": "code",
   "execution_count": null,
   "id": "c0d81820",
   "metadata": {},
   "outputs": [
    {
     "name": "stdout",
     "output_type": "stream",
     "text": [
      "Accuracy:  0.38835794960903564 \n",
      "\n"
     ]
    },
    {
     "data": {
      "application/vnd.microsoft.datawrangler.viewer.v0+json": {
       "columns": [
        {
         "name": "index",
         "rawType": "object",
         "type": "string"
        },
        {
         "name": "F1 score",
         "rawType": "float64",
         "type": "float"
        }
       ],
       "ref": "a4ba2950-bd29-40b3-ab11-0b2bd3a74ea7",
       "rows": [
        [
         "ANGRY",
         "0.3814617032829012"
        ],
        [
         "FEAR",
         "0.3814617032829012"
        ],
        [
         "HAPPY",
         "0.3814617032829012"
        ],
        [
         "HATE",
         "0.3814617032829012"
        ],
        [
         "OTHER",
         "0.3814617032829012"
        ],
        [
         "SAD",
         "0.3814617032829012"
        ],
        [
         "SURPRISE",
         "0.3814617032829012"
        ]
       ],
       "shape": {
        "columns": 1,
        "rows": 7
       }
      },
      "text/html": [
       "<div>\n",
       "<style scoped>\n",
       "    .dataframe tbody tr th:only-of-type {\n",
       "        vertical-align: middle;\n",
       "    }\n",
       "\n",
       "    .dataframe tbody tr th {\n",
       "        vertical-align: top;\n",
       "    }\n",
       "\n",
       "    .dataframe thead th {\n",
       "        text-align: right;\n",
       "    }\n",
       "</style>\n",
       "<table border=\"1\" class=\"dataframe\">\n",
       "  <thead>\n",
       "    <tr style=\"text-align: right;\">\n",
       "      <th></th>\n",
       "      <th>F1 score</th>\n",
       "    </tr>\n",
       "  </thead>\n",
       "  <tbody>\n",
       "    <tr>\n",
       "      <th>ANGRY</th>\n",
       "      <td>0.381462</td>\n",
       "    </tr>\n",
       "    <tr>\n",
       "      <th>FEAR</th>\n",
       "      <td>0.381462</td>\n",
       "    </tr>\n",
       "    <tr>\n",
       "      <th>HAPPY</th>\n",
       "      <td>0.381462</td>\n",
       "    </tr>\n",
       "    <tr>\n",
       "      <th>HATE</th>\n",
       "      <td>0.381462</td>\n",
       "    </tr>\n",
       "    <tr>\n",
       "      <th>OTHER</th>\n",
       "      <td>0.381462</td>\n",
       "    </tr>\n",
       "    <tr>\n",
       "      <th>SAD</th>\n",
       "      <td>0.381462</td>\n",
       "    </tr>\n",
       "    <tr>\n",
       "      <th>SURPRISE</th>\n",
       "      <td>0.381462</td>\n",
       "    </tr>\n",
       "  </tbody>\n",
       "</table>\n",
       "</div>"
      ],
      "text/plain": [
       "          F1 score\n",
       "ANGRY     0.381462\n",
       "FEAR      0.381462\n",
       "HAPPY     0.381462\n",
       "HATE      0.381462\n",
       "OTHER     0.381462\n",
       "SAD       0.381462\n",
       "SURPRISE  0.381462"
      ]
     },
     "execution_count": 47,
     "metadata": {},
     "output_type": "execute_result"
    }
   ],
   "source": [
    "RF =train_model(RandomForestClassifier(n_estimators=200, max_depth=50, class_weight='balanced'), X_train_tfidf, y_train_encoded)\n",
    "\n",
    "y_pred_rf = RF.predict(X_test_tfidf)\n",
    "\n",
    "RF_accuracy = accuracy_score(y_test_encoded, y_pred_rf)\n",
    "print('Accuracy: ', RF_accuracy,'\\n')\n",
    "\n",
    "f1_Score = get_F1(y_test_encoded, y_pred_rf)\n",
    "pd.DataFrame(f1_Score, index=le.classes_, columns=['F1 score']) "
   ]
  },
  {
   "cell_type": "code",
   "execution_count": null,
   "id": "ec61ca44",
   "metadata": {},
   "outputs": [],
   "source": [
    "##Classification Report\n",
    "print(classification_report(y_test_encoded, y_pred_rf, target_names=le.classes_))"
   ]
  },
  {
   "cell_type": "code",
   "execution_count": null,
   "id": "4b8469dc",
   "metadata": {},
   "outputs": [
    {
     "ename": "NameError",
     "evalue": "name 'train_model' is not defined",
     "output_type": "error",
     "traceback": [
      "\u001b[0;31m---------------------------------------------------------------------------\u001b[0m",
      "\u001b[0;31mNameError\u001b[0m                                 Traceback (most recent call last)",
      "Cell \u001b[0;32mIn[1], line 4\u001b[0m\n\u001b[1;32m      1\u001b[0m \u001b[38;5;28;01mimport\u001b[39;00m \u001b[38;5;21;01mxgboost\u001b[39;00m \u001b[38;5;28;01mas\u001b[39;00m \u001b[38;5;21;01mxgb\u001b[39;00m\n\u001b[1;32m      2\u001b[0m \u001b[38;5;66;03m# =(RandomForestClassifier(n_estimators=200, max_depth=50, class_weight='balanced'), X_train_tfidf, y_train_encoded)\u001b[39;00m\n\u001b[0;32m----> 4\u001b[0m XGB \u001b[38;5;241m=\u001b[39m \u001b[43mtrain_model\u001b[49m(xgb\u001b[38;5;241m.\u001b[39mXGBClassifier(use_label_encoder\u001b[38;5;241m=\u001b[39m\u001b[38;5;28;01mFalse\u001b[39;00m, eval_metric\u001b[38;5;241m=\u001b[39m\u001b[38;5;124m'\u001b[39m\u001b[38;5;124mmlogloss\u001b[39m\u001b[38;5;124m'\u001b[39m, random_state\u001b[38;5;241m=\u001b[39m\u001b[38;5;241m0\u001b[39m),X_train_resampled, y_train_resampled)\n\u001b[1;32m      5\u001b[0m \u001b[38;5;66;03m# xgb_clf.fit()\u001b[39;00m\n\u001b[1;32m      6\u001b[0m y_pred_XGB \u001b[38;5;241m=\u001b[39m XGB\u001b[38;5;241m.\u001b[39mpredict(X_test_tfidf)\n",
      "\u001b[0;31mNameError\u001b[0m: name 'train_model' is not defined"
     ]
    }
   ],
   "source": [
    "import xgboost as xgb\n",
    "# =(RandomForestClassifier(n_estimators=200, max_depth=50, class_weight='balanced'), X_train_tfidf, y_train_encoded)\n",
    "\n",
    "XGB = train_model(xgb.XGBClassifier(use_label_encoder=False, eval_metric='mlogloss', random_state=0),X_train_resampled, y_train_resampled)\n",
    "# xgb_clf.fit()\n",
    "y_pred_XGB = XGB.predict(X_test_tfidf)\n",
    "XGB_accuracy = accuracy_score(y_test_encoded, y_pred_XGB)\n",
    "print('Accuracy: ', XGB_accuracy,'\\n')\n",
    "\n",
    "#calculate the F1 score\n",
    "f1_Score = get_F1(y_test_encoded, y_pred_XGB)\n",
    "pd.DataFrame(f1_Score, index=le.classes_, columns=['F1 score']) "
   ]
  },
  {
   "cell_type": "code",
   "execution_count": null,
   "id": "b4e4f08d",
   "metadata": {},
   "outputs": [],
   "source": [
    "##Classification Report\n",
    "print(classification_report(y_test_encoded, y_pred_XGB, target_names=le.classes_))"
   ]
  },
  {
   "cell_type": "code",
   "execution_count": null,
   "id": "1a41ff92",
   "metadata": {},
   "outputs": [],
   "source": [
    "models = pd.DataFrame({\n",
    "    'Model': ['Logistic Regression', 'Decision Tree', 'Support Vector Machine', 'Random Forest', 'XGBoost'],\n",
    "    'Accuracy': [\n",
    "        round(log_reg_accuracy, 2),\n",
    "        round(DT_accuracy, 2),\n",
    "        round(SVM_accuracy, 2),\n",
    "        round(RF_accuracy, 2),\n",
    "        round(XGB_accuracy, 2)\n",
    "    ],    'F1 Score (Weighted)': [\n",
    "        round(get_F1(y_test_encoded, y_pred_lr), 2),\n",
    "        round(get_F1(y_test_encoded, y_pred_dt), 2),\n",
    "        round(get_F1(y_test_encoded, y_pred_svm), 2),\n",
    "        round(get_F1(y_test_encoded, y_pred_rf), 2),\n",
    "        round(get_F1(y_test_encoded, y_pred_XGB), 2)\n",
    "    ]\n",
    "})\n",
    "models_sorted = models.sort_values(by='Accuracy', ascending=False).reset_index(drop=True)\n",
    "models_sorted\n"
   ]
  },
  {
   "cell_type": "code",
   "execution_count": null,
   "id": "da2e9cd4",
   "metadata": {},
   "outputs": [],
   "source": [
    "best_model_name = models_sorted.loc[0, 'Model'] \n",
    "print(\"Best model is:\", best_model_name)"
   ]
  },
  {
   "cell_type": "markdown",
   "id": "7be3e7c4",
   "metadata": {},
   "source": [
    "## LIME"
   ]
  },
  {
   "cell_type": "code",
   "execution_count": null,
   "id": "8a367acf",
   "metadata": {},
   "outputs": [],
   "source": [
    "idx  = 1\n",
    "Result_pipeline = make_pipeline(tfidf, XGB.named_steps['clf']) \n",
    "pred_label = le.inverse_transform(Result_pipeline.predict([X_test[idx]]))[0]\n",
    "actual_label = y_test[idx] \n",
    "\n",
    "explainer = LimeTextExplainer(class_names=le.classes_)\n",
    "print(\"Actual Text : \", X_test[idx])\n",
    "print(\"Prediction : \", pred_label)     \n",
    "print(\"Actual     : \", actual_label)\n",
    "\n",
    "exp = explainer.explain_instance(X_test[idx], Result_pipeline.predict_proba, top_labels=5)\n",
    "exp.show_in_notebook()"
   ]
  },
  {
   "cell_type": "markdown",
   "id": "1d537aef",
   "metadata": {},
   "source": [
    "## New Modeling"
   ]
  },
  {
   "cell_type": "code",
   "execution_count": null,
   "id": "0ca74bb9",
   "metadata": {},
   "outputs": [],
   "source": [
    "X_train = train_data['Text']\n",
    "y_train = train_data['Emotion']\n",
    "\n",
    "X_test = test_data['Text']\n",
    "y_test = test_data['Emotion']\n",
    "\n",
    "X_train"
   ]
  },
  {
   "cell_type": "code",
   "execution_count": null,
   "id": "960f19f7",
   "metadata": {},
   "outputs": [],
   "source": [
    "X_train, X_val, y_train, y_val = train_test_split(\n",
    "    X_train, y_train,\n",
    "    test_size=0.2,\n",
    "    stratify=y_train,\n",
    "    random_state=42\n",
    ")"
   ]
  },
  {
   "cell_type": "code",
   "execution_count": null,
   "id": "7018f7d6",
   "metadata": {},
   "outputs": [],
   "source": [
    "# Encode labels\n",
    "from sklearn.preprocessing import LabelEncoder\n",
    "le = LabelEncoder()\n",
    "y_train = le.fit_transform(y_train)\n",
    "y_test = le.transform(y_test)\n",
    "y_val = le.transform(y_val)\n",
    "print(set(y_train))"
   ]
  },
  {
   "cell_type": "code",
   "execution_count": null,
   "id": "e2977214",
   "metadata": {},
   "outputs": [],
   "source": [
    "weights = compute_class_weight(class_weight='balanced',\n",
    "                               classes=np.unique(y_train),\n",
    "                               y=y_train)\n",
    "\n",
    "class_weights = dict(enumerate(weights))\n",
    "\n",
    "sample_weights = np.array([class_weights[i] for i in y_train])"
   ]
  },
  {
   "cell_type": "code",
   "execution_count": null,
   "id": "b1ca9ddd",
   "metadata": {},
   "outputs": [],
   "source": [
    "y_train = to_categorical(y_train)\n",
    "y_val = to_categorical(y_val)\n",
    "y_test = to_categorical(y_test)"
   ]
  },
  {
   "cell_type": "markdown",
   "id": "83d67b74",
   "metadata": {},
   "source": [
    "## Tokenizing"
   ]
  },
  {
   "cell_type": "code",
   "execution_count": null,
   "id": "d74c8fdd",
   "metadata": {},
   "outputs": [],
   "source": [
    "def normalize_persian(text):\n",
    "    text = re.sub(\"ي\", \"ی\", text)\n",
    "    text = re.sub(\"ك\", \"ک\", text)\n",
    "    text = re.sub(\"[ًٌٍَُِّْٰ]\", \"\", text)\n",
    "    return text.lower()\n",
    "\n",
    "normalized_text = pd.concat([X_train, X_test], axis=0).apply(normalize_persian)\n",
    "tokenizer = Tokenizer(oov_token='UNK')\n",
    "tokenizer.fit_on_texts(normalized_text)\n",
    "\n",
    "tokenizer.document_count"
   ]
  },
  {
   "cell_type": "code",
   "execution_count": null,
   "id": "ecbe92c0",
   "metadata": {},
   "outputs": [],
   "source": [
    "tokenizer.texts_to_sequences([X_train.iloc[0]])\n",
    "tokenizer.texts_to_matrix(X_train[0].split())\n",
    "tokenizer.texts_to_matrix(X_train[0].split()).shape\n",
    "\n",
    "sequences_train = tokenizer.texts_to_sequences(X_train)\n",
    "sequences_test = tokenizer.texts_to_sequences(X_test)\n",
    "sequences_val = tokenizer.texts_to_sequences(X_val)"
   ]
  },
  {
   "cell_type": "markdown",
   "id": "e27a9220",
   "metadata": {},
   "source": [
    "## Padding"
   ]
  },
  {
   "cell_type": "code",
   "execution_count": null,
   "id": "27b49024",
   "metadata": {},
   "outputs": [],
   "source": [
    "test_data.shape"
   ]
  },
  {
   "cell_type": "code",
   "execution_count": null,
   "id": "32a6d255",
   "metadata": {},
   "outputs": [],
   "source": [
    "maxlen = max([len(t) for t in train_data['Text']])\n",
    "maxlen"
   ]
  },
  {
   "cell_type": "code",
   "execution_count": null,
   "id": "4d98354e",
   "metadata": {},
   "outputs": [],
   "source": [
    "maxlen = max(len(seq) for seq in sequences_train)\n",
    "\n",
    "X_train = pad_sequences(sequences_train, maxlen=maxlen, truncating='pre')\n",
    "X_test = pad_sequences(sequences_test, maxlen=maxlen, truncating='pre')\n",
    "X_val = pad_sequences(sequences_val, maxlen=maxlen, truncating='pre')\n",
    "\n",
    "vocabSize = len(tokenizer.index_word) + 1\n",
    "print(f\"Vocabulary size = {vocabSize}\")"
   ]
  },
  {
   "cell_type": "code",
   "execution_count": null,
   "id": "82a938bf",
   "metadata": {},
   "outputs": [],
   "source": [
    "#before\n",
    "sequences_train[0]"
   ]
  },
  {
   "cell_type": "code",
   "execution_count": null,
   "id": "286a6920",
   "metadata": {},
   "outputs": [],
   "source": [
    "#after\n",
    "X_train[0]"
   ]
  },
  {
   "cell_type": "markdown",
   "id": "83a8bac2",
   "metadata": {},
   "source": [
    "## Word Embedding"
   ]
  },
  {
   "cell_type": "code",
   "execution_count": null,
   "id": "d6f22429",
   "metadata": {},
   "outputs": [],
   "source": [
    "model_path = hf_hub_download(\n",
    "    repo_id=\"taesiri/PersianWordVecs\",\n",
    "    filename=\"farsi-dedup-cbow.bin\"\n",
    ")\n",
    "fasttext_model = fasttext.load_model(model_path)"
   ]
  },
  {
   "cell_type": "code",
   "execution_count": null,
   "id": "99595121",
   "metadata": {},
   "outputs": [],
   "source": [
    "embedding_dim = 100  \n",
    "vocabSize = len(tokenizer.word_index) + 1  \n",
    "\n",
    "embedding_matrix = np.zeros((vocabSize, embedding_dim))\n",
    "for word, i in tokenizer.word_index.items():\n",
    "    if i >= vocabSize:\n",
    "        continue\n",
    "    embedding_matrix[i] = fasttext_model.get_word_vector(word)\n",
    "\n",
    "print(f\"Embedding matrix shape: {embedding_matrix.shape}\")"
   ]
  },
  {
   "cell_type": "code",
   "execution_count": null,
   "id": "e089e4d0",
   "metadata": {},
   "outputs": [],
   "source": [
    "def recall_m(y_true, y_pred):\n",
    "    true_positives = K.sum(K.round(K.clip(y_true * y_pred, 0, 1)))\n",
    "    possible_positives = K.sum(K.round(K.clip(y_true, 0, 1)))\n",
    "    return true_positives / (possible_positives + K.epsilon())\n",
    "\n",
    "def precision_m(y_true, y_pred):\n",
    "    true_positives = K.sum(K.round(K.clip(y_true * y_pred, 0, 1)))\n",
    "    predicted_positives = K.sum(K.round(K.clip(y_pred, 0, 1)))\n",
    "    return true_positives / (predicted_positives + K.epsilon())\n",
    "\n",
    "def f1_m(y_true, y_pred):\n",
    "    precision = precision_m(y_true, y_pred)\n",
    "    recall = recall_m(y_true, y_pred)\n",
    "    return 2 * ((precision * recall) / (precision + recall + K.epsilon()))"
   ]
  },
  {
   "cell_type": "code",
   "execution_count": null,
   "id": "a6aca720",
   "metadata": {},
   "outputs": [],
   "source": [
    "num_tokens = vocabSize\n",
    "hits=0\n",
    "misses=0\n",
    "for word, i in tokenizer.word_index.items():\n",
    "    if i >= num_tokens:\n",
    "        continue\n",
    "    try:\n",
    "        embedding_vector = fasttext_model.get_word_vector(word)\n",
    "        embedding_matrix[i] = embedding_vector\n",
    "        hits += 1\n",
    "    except:\n",
    "        misses += 1\n",
    "\n",
    "print(f\"Converted {hits} words ({misses} misses) into embedding vectors.\")"
   ]
  },
  {
   "cell_type": "code",
   "execution_count": null,
   "id": "4356e0a0",
   "metadata": {},
   "outputs": [],
   "source": [
    "max_len = 100  \n",
    "\n",
    "model = Sequential()\n",
    "model.add(\n",
    "    Embedding(\n",
    "        input_dim=vocabSize,\n",
    "        output_dim=embedding_dim,\n",
    "        weights=[embedding_matrix],\n",
    "        input_length=max_len,\n",
    "        trainable=False \n",
    "    )\n",
    ")\n",
    "model.add(Masking(mask_value=0.0))\n",
    "model.add(Bidirectional(LSTM(64, dropout=0.2, recurrent_dropout=0.2)))\n",
    "model.add(Dropout(0.5))\n",
    "model.add(Dense(len(le.classes_), activation='softmax', kernel_regularizer=l2(0.01)))\n",
    "\n",
    "adam = Adam(learning_rate=0.001)\n",
    "model.compile(loss='categorical_crossentropy', optimizer=adam, metrics=['accuracy', f1_m])\n",
    "\n",
    "model.summary()"
   ]
  },
  {
   "cell_type": "code",
   "execution_count": null,
   "id": "10ec5371",
   "metadata": {},
   "outputs": [],
   "source": [
    "model.build(input_shape=(None, 100))\n",
    "tf.keras.utils.plot_model(model, show_shapes=True)"
   ]
  },
  {
   "cell_type": "code",
   "execution_count": null,
   "id": "c3e951e5",
   "metadata": {},
   "outputs": [],
   "source": [
    "#to stop the training when the loss starts to increase\n",
    "callback = EarlyStopping(monitor='val_loss', patience=2, restore_best_weights=True)"
   ]
  },
  {
   "cell_type": "code",
   "execution_count": null,
   "id": "a1b664b4",
   "metadata": {},
   "outputs": [],
   "source": [
    "# Fit model\n",
    "history = model.fit(\n",
    "    X_train,\n",
    "    y_train,\n",
    "    validation_data=(X_val, y_val),\n",
    "    epochs=30,\n",
    "    batch_size=32,\n",
    "    class_weight=class_weights,  \n",
    "    callbacks=[callback],\n",
    "    verbose=1\n",
    ")"
   ]
  },
  {
   "cell_type": "code",
   "execution_count": null,
   "id": "2113054f",
   "metadata": {},
   "outputs": [],
   "source": [
    "#Overall loss and accuracy\n",
    "model.evaluate(X_val, y_val, verbose=1) "
   ]
  },
  {
   "cell_type": "code",
   "execution_count": null,
   "id": "55a8f10a",
   "metadata": {},
   "outputs": [],
   "source": [
    "#Overall loss and accuracy\n",
    "model.evaluate(X_test, y_test, verbose=1) "
   ]
  },
  {
   "cell_type": "code",
   "execution_count": null,
   "id": "fc130c9f",
   "metadata": {},
   "outputs": [],
   "source": [
    "predicted = model.predict(X_test)\n",
    "y_pred = predicted.argmax(axis=-1)\n",
    "\n",
    "print(classification_report(le.transform(test_data['Emotion']), y_pred))"
   ]
  },
  {
   "cell_type": "code",
   "execution_count": null,
   "id": "eb41374e",
   "metadata": {},
   "outputs": [],
   "source": [
    "%matplotlib inline\n",
    "\n",
    "acc = history.history['accuracy']\n",
    "val_acc = history.history['val_accuracy']\n",
    "loss = history.history['loss']\n",
    "val_loss = history.history['val_loss']\n",
    "\n",
    "epochs = range(len(acc))\n",
    "\n",
    "plt.plot(epochs, acc, 'r', label='Training accuracy')\n",
    "plt.plot(epochs, val_acc, 'b', label='Validation accuracy')\n",
    "plt.title('Training and validation accuracy')\n",
    "plt.legend()\n",
    "plt.figure()\n",
    "\n",
    "plt.plot(epochs, loss, 'r', label='Training Loss')\n",
    "plt.plot(epochs, val_loss, 'b', label='Validation Loss')\n",
    "plt.title('Training and validation loss')\n",
    "plt.legend()\n",
    "\n",
    "plt.show()\n"
   ]
  },
  {
   "cell_type": "code",
   "execution_count": null,
   "id": "fc820350",
   "metadata": {},
   "outputs": [],
   "source": [
    "# Classify custom sample\n",
    "sentences = [\n",
    "             \"با اینکار خوشحال شدم\",\n",
    "            \"اه تف به این زندگی\",\n",
    "            ]\n",
    "for sentence in sentences:\n",
    "    print(sentence)\n",
    "    sentence = normalized_sentence(sentence)\n",
    "    sentence = tokenizer.texts_to_sequences([sentence])\n",
    "    sentence = pad_sequences(sentence, maxlen=229, truncating='pre')\n",
    "    result = le.inverse_transform(np.argmax(model.predict(sentence), axis=-1))[0]\n",
    "    proba =  np.max(model.predict(sentence))\n",
    "    print(f\"{result} : {proba}\\n\\n\")"
   ]
  }
 ],
 "metadata": {
  "kernelspec": {
   "display_name": "Python 3",
   "language": "python",
   "name": "python3"
  },
  "language_info": {
   "codemirror_mode": {
    "name": "ipython",
    "version": 3
   },
   "file_extension": ".py",
   "mimetype": "text/x-python",
   "name": "python",
   "nbconvert_exporter": "python",
   "pygments_lexer": "ipython3",
   "version": "3.10.7"
  }
 },
 "nbformat": 4,
 "nbformat_minor": 5
}
